{
 "cells": [
  {
   "cell_type": "markdown",
   "metadata": {},
   "source": [
    "# Assignment 1: Data analysis with pandas\n",
    "\n",
    "All questions are weighted the same in this assignment. You are encouraged to check out the [pandas documentation](https://pandas.pydata.org/pandas-docs/stable/). \n",
    "\n",
    "What to submit: HTML version of this notebook (use File -> Download as -> HTML from the menu) with solutions and answers to the questions. Please rename the file as follows: Assignment_1_*Name*_*Surname*.html."
   ]
  },
  {
   "cell_type": "code",
   "execution_count": 1,
   "metadata": {},
   "outputs": [],
   "source": [
    "import pandas as pd"
   ]
  },
  {
   "cell_type": "code",
   "execution_count": 2,
   "metadata": {},
   "outputs": [],
   "source": [
    "# show matplotlib graphics inline\n",
    "%matplotlib inline"
   ]
  },
  {
   "cell_type": "markdown",
   "metadata": {},
   "source": [
    "## US Baby Names 1880-2023\n",
    "\n",
    "In the exercises that follow, use data set [US Baby Names 1880-2023](https://www.ssa.gov/oact/babynames/names.zip) (names.zip, 7MB) by United States Social Security Administration (SSA) -- the same data set that we used in the lecture."
   ]
  },
  {
   "cell_type": "markdown",
   "metadata": {},
   "source": [
    "![Popular Names by Birth Year](https://www.ssa.gov/oact/babynames/assets/images/myss.jpg)\n",
    "\n",
    "<center>source: https://www.ssa.gov/oact/babynames/</center>"
   ]
  },
  {
   "cell_type": "code",
   "execution_count": 3,
   "metadata": {},
   "outputs": [],
   "source": [
    "# 2023 is the last available year right now.\n",
    "years = range(1880,2024)\n",
    "\n",
    "pieces = []\n",
    "columns = ['names', 'sex', 'births']\n",
    "\n",
    "for year in years:\n",
    "    path = 'data/yob%d.txt' % year\n",
    "    current = pd.read_csv(path, names=columns)\n",
    "    \n",
    "    current['year'] = year\n",
    "    pieces.append(current)\n",
    "\n",
    "# Concatenate everything into a single DataFrame.\n",
    "# We have to pass ignore_index=True because we’re not interested in preserving the original row numbers.\n",
    "df = pd.concat(pieces, ignore_index=True)\n",
    "\n",
    "# rename the \"names\" column\n",
    "df = df.rename(columns = {'names':'name'})"
   ]
  },
  {
   "cell_type": "markdown",
   "metadata": {},
   "source": [
    "### Exercise 1\n",
    "\n",
    "How many boys named Michael were born between the year 1955 an 1957 (inclusive)? [271825]"
   ]
  },
  {
   "cell_type": "code",
   "execution_count": 6,
   "metadata": {},
   "outputs": [
    {
     "name": "stdout",
     "output_type": "stream",
     "text": [
      "        name sex  births  year\n",
      "0       Mary   F    7065  1880\n",
      "1       Anna   F    2604  1880\n",
      "2       Emma   F    2003  1880\n",
      "3  Elizabeth   F    1939  1880\n",
      "4     Minnie   F    1746  1880\n",
      "Total boys named Michael born between 1955 and 1957: 271825\n"
     ]
    }
   ],
   "source": [
    "print(df.head())\n",
    "\n",
    "# Filter the DataFrame for boys named Michael born between 1955 and 1957\n",
    "filtered_df = df[(df['name'] == 'Michael') & (df['sex'] == 'M') & (df['year'].between(1955, 1957))]\n",
    "\n",
    "# Sum the births for the filtered DataFrame\n",
    "total_births = filtered_df['births'].sum()\n",
    "\n",
    "print(f\"Total boys named Michael born between 1955 and 1957: {total_births}\")\n",
    "\n"
   ]
  },
  {
   "cell_type": "markdown",
   "metadata": {},
   "source": [
    "### Exercise 2\n",
    "\n",
    "What was the number of births between 1941 and 1945 (inclusive)? Compare to the same period a decade later. [13333617, 19331055]"
   ]
  },
  {
   "cell_type": "code",
   "execution_count": 7,
   "metadata": {},
   "outputs": [
    {
     "name": "stdout",
     "output_type": "stream",
     "text": [
      "Total births between 1941 and 1945: 13333617\n",
      "Total births between 1951 and 1955: 19331055\n"
     ]
    }
   ],
   "source": [
    "# Calculate total births between 1941 and 1945\n",
    "births_1941_1945 = df[df['year'].between(1941, 1945)]['births'].sum()\n",
    "\n",
    "# Calculate total births between 1951 and 1955\n",
    "births_1951_1955 = df[df['year'].between(1951, 1955)]['births'].sum()\n",
    "\n",
    "# Print the results\n",
    "print(f\"Total births between 1941 and 1945: {births_1941_1945}\")\n",
    "print(f\"Total births between 1951 and 1955: {births_1951_1955}\")\n"
   ]
  },
  {
   "cell_type": "markdown",
   "metadata": {},
   "source": [
    "### Exercise 3\n",
    "\n",
    "How many girls were named Emma and how many were named Sophia? [749903, 414202]"
   ]
  },
  {
   "cell_type": "code",
   "execution_count": 8,
   "metadata": {},
   "outputs": [
    {
     "name": "stdout",
     "output_type": "stream",
     "text": [
      "Total girls named Emma: 749903\n",
      "Total girls named Sophia: 414202\n"
     ]
    }
   ],
   "source": [
    "# Filter and sum births for girls named Emma\n",
    "emma_births = df[(df['name'] == 'Emma') & (df['sex'] == 'F')]['births'].sum()\n",
    "\n",
    "# Filter and sum births for girls named Sophia\n",
    "sophia_births = df[(df['name'] == 'Sophia') & (df['sex'] == 'F')]['births'].sum()\n",
    "\n",
    "# Print the results\n",
    "print(f\"Total girls named Emma: {emma_births}\")\n",
    "print(f\"Total girls named Sophia: {sophia_births}\")\n"
   ]
  },
  {
   "cell_type": "markdown",
   "metadata": {},
   "source": [
    "### Exercise 4\n",
    "\n",
    "In which year did the boy name Tristan appear first? [1946]"
   ]
  },
  {
   "cell_type": "code",
   "execution_count": 9,
   "metadata": {},
   "outputs": [
    {
     "name": "stdout",
     "output_type": "stream",
     "text": [
      "The boy name Tristan first appeared in: 1946\n"
     ]
    }
   ],
   "source": [
    "# Filter the DataFrame for boys named Tristan\n",
    "tristan_years = df[(df['name'] == 'Tristan') & (df['sex'] == 'M')]\n",
    "\n",
    "# Find the first year Tristan appeared\n",
    "first_year = tristan_years['year'].min()\n",
    "\n",
    "print(f\"The boy name Tristan first appeared in: {first_year}\")\n"
   ]
  },
  {
   "cell_type": "markdown",
   "metadata": {},
   "source": [
    "### Exercise 5\n",
    "\n",
    "In which year did the name Woodie appear last? [1998]"
   ]
  },
  {
   "cell_type": "code",
   "execution_count": 10,
   "metadata": {},
   "outputs": [
    {
     "name": "stdout",
     "output_type": "stream",
     "text": [
      "The name Woodie last appeared in: 1998\n"
     ]
    }
   ],
   "source": [
    "# Filter the DataFrame for the name Woodie\n",
    "woodie_years = df[df['name'] == 'Woodie']\n",
    "\n",
    "# Find the last year Woodie appeared\n",
    "last_year = woodie_years['year'].max()\n",
    "\n",
    "print(f\"The name Woodie last appeared in: {last_year}\")\n"
   ]
  },
  {
   "cell_type": "markdown",
   "metadata": {},
   "source": [
    "### Exercise 6\n",
    "\n",
    "How many children named Mary or John (one number!) were born after the year 2000? [350634]"
   ]
  },
  {
   "cell_type": "code",
   "execution_count": 11,
   "metadata": {},
   "outputs": [
    {
     "name": "stdout",
     "output_type": "stream",
     "text": [
      "Total children named Mary or John born after the year 2000: 350634\n"
     ]
    }
   ],
   "source": [
    "# Filter for children named Mary or John born after the year 2000\n",
    "mary_john_births = df[(df['name'].isin(['Mary', 'John'])) & (df['year'] > 2000)]['births'].sum()\n",
    "\n",
    "print(f\"Total children named Mary or John born after the year 2000: {mary_john_births}\")\n"
   ]
  },
  {
   "cell_type": "markdown",
   "metadata": {},
   "source": [
    "### Exercise 7\n",
    "\n",
    "How many unique boy names were given in the year 2022? Compare to the years 1972 and 1922. [14311, 5751, 4967]"
   ]
  },
  {
   "cell_type": "code",
   "execution_count": 12,
   "metadata": {},
   "outputs": [
    {
     "name": "stdout",
     "output_type": "stream",
     "text": [
      "Unique boy names in 2022: 14311\n",
      "Unique boy names in 1972: 5751\n",
      "Unique boy names in 1922: 4967\n"
     ]
    }
   ],
   "source": [
    "# Get unique boy names for the year 2022\n",
    "unique_boy_names_2022 = df[(df['sex'] == 'M') & (df['year'] == 2022)]['name'].nunique()\n",
    "\n",
    "# Get unique boy names for the year 1972\n",
    "unique_boy_names_1972 = df[(df['sex'] == 'M') & (df['year'] == 1972)]['name'].nunique()\n",
    "\n",
    "# Get unique boy names for the year 1922\n",
    "unique_boy_names_1922 = df[(df['sex'] == 'M') & (df['year'] == 1922)]['name'].nunique()\n",
    "\n",
    "# Print the results\n",
    "print(f\"Unique boy names in 2022: {unique_boy_names_2022}\")\n",
    "print(f\"Unique boy names in 1972: {unique_boy_names_1972}\")\n",
    "print(f\"Unique boy names in 1922: {unique_boy_names_1922}\")\n"
   ]
  },
  {
   "cell_type": "markdown",
   "metadata": {},
   "source": [
    "### Exercise 8\n",
    "\n",
    "How many unique girl names were given between the years 2000 and 2009 (inclusive)? Compare to the periods 1950-1959 and 1900-1909. [35769, 11658, 3829]"
   ]
  },
  {
   "cell_type": "code",
   "execution_count": 13,
   "metadata": {},
   "outputs": [
    {
     "name": "stdout",
     "output_type": "stream",
     "text": [
      "Unique girl names between 2000 and 2009: 35769\n",
      "Unique girl names between 1950 and 1959: 11658\n",
      "Unique girl names between 1900 and 1909: 3829\n"
     ]
    }
   ],
   "source": [
    "# Unique girl names between 2000 and 2009\n",
    "unique_girl_names_2000_2009 = df[(df['sex'] == 'F') & (df['year'].between(2000, 2009))]['name'].nunique()\n",
    "\n",
    "# Unique girl names between 1950 and 1959\n",
    "unique_girl_names_1950_1959 = df[(df['sex'] == 'F') & (df['year'].between(1950, 1959))]['name'].nunique()\n",
    "\n",
    "# Unique girl names between 1900 and 1909\n",
    "unique_girl_names_1900_1909 = df[(df['sex'] == 'F') & (df['year'].between(1900, 1909))]['name'].nunique()\n",
    "\n",
    "# Print the results\n",
    "print(f\"Unique girl names between 2000 and 2009: {unique_girl_names_2000_2009}\")\n",
    "print(f\"Unique girl names between 1950 and 1959: {unique_girl_names_1950_1959}\")\n",
    "print(f\"Unique girl names between 1900 and 1909: {unique_girl_names_1900_1909}\")\n"
   ]
  }
 ],
 "metadata": {
  "kernelspec": {
   "display_name": "Python 3",
   "language": "python",
   "name": "python3"
  },
  "language_info": {
   "codemirror_mode": {
    "name": "ipython",
    "version": 3
   },
   "file_extension": ".py",
   "mimetype": "text/x-python",
   "name": "python",
   "nbconvert_exporter": "python",
   "pygments_lexer": "ipython3",
   "version": "3.12.5"
  }
 },
 "nbformat": 4,
 "nbformat_minor": 4
}
