{
 "cells": [
  {
   "cell_type": "markdown",
   "metadata": {},
   "source": [
    "## Data Exploring with pandas\n",
    "\n",
    "In the previous session, we prepared our version of the [MovieLens](https://grouplens.org/datasets/movielens/) data set. The data now includes movie ratings, movie metadata, and demographic data about the users.\n",
    "\n",
    "It is time to start exploring the data. We will do it in *goal-oriented* manner: by trying to find the right questions and then looking for answers to those questions."
   ]
  },
  {
   "cell_type": "code",
   "execution_count": 1,
   "metadata": {},
   "outputs": [],
   "source": [
    "import pandas as pd\n",
    "import os\n",
    "import matplotlib.pyplot as plt"
   ]
  },
  {
   "cell_type": "code",
   "execution_count": 2,
   "metadata": {},
   "outputs": [],
   "source": [
    "%matplotlib inline"
   ]
  },
  {
   "cell_type": "code",
   "execution_count": 3,
   "metadata": {},
   "outputs": [],
   "source": [
    "pd.set_option('display.max_rows', 15)\n",
    "pd.set_option('display.precision', 2)\n",
    "pd.options.display.float_format = '{:,.2f}'.format"
   ]
  },
  {
   "cell_type": "markdown",
   "metadata": {},
   "source": [
    "<h3>Load and Summarize Dataset</h3>\n",
    "\n",
    "Now it is time to load the file into a DataFrame and to take a quick look at the data."
   ]
  },
  {
   "cell_type": "code",
   "execution_count": 4,
   "metadata": {},
   "outputs": [],
   "source": [
    "df = pd.read_csv('movie_lens_1M.csv')"
   ]
  },
  {
   "cell_type": "code",
   "execution_count": 5,
   "metadata": {},
   "outputs": [],
   "source": [
    "# Use pd.to_datetime to convert values in 'timestamp' column into datetime objects.\n",
    "df['timestamp'] = pd.to_datetime(df['timestamp'], format='%Y-%m-%d %H:%M:%S')"
   ]
  },
  {
   "cell_type": "code",
   "execution_count": 6,
   "metadata": {},
   "outputs": [],
   "source": [
    "# This title is too long, let's shorten it.\n",
    "df['title'] = df['title'].replace(\n",
    "    'Seven Samurai (The Magnificent Seven) (Shichinin no samurai) (1954)', \n",
    "    'Seven Samurai (Shichinin no samurai) (1954)'\n",
    ")"
   ]
  },
  {
   "cell_type": "code",
   "execution_count": 7,
   "metadata": {},
   "outputs": [
    {
     "data": {
      "text/plain": [
       "(973178, 11)"
      ]
     },
     "execution_count": 7,
     "metadata": {},
     "output_type": "execute_result"
    }
   ],
   "source": [
    "df.shape"
   ]
  },
  {
   "cell_type": "code",
   "execution_count": 8,
   "metadata": {},
   "outputs": [
    {
     "name": "stdout",
     "output_type": "stream",
     "text": [
      "<class 'pandas.core.frame.DataFrame'>\n",
      "RangeIndex: 973178 entries, 0 to 973177\n",
      "Data columns (total 11 columns):\n",
      " #   Column      Non-Null Count   Dtype         \n",
      "---  ------      --------------   -----         \n",
      " 0   user_id     973178 non-null  int64         \n",
      " 1   movie_id    973178 non-null  int64         \n",
      " 2   rating      973178 non-null  int64         \n",
      " 3   timestamp   973178 non-null  datetime64[ns]\n",
      " 4   gender      973178 non-null  object        \n",
      " 5   age         973178 non-null  object        \n",
      " 6   occupation  973178 non-null  object        \n",
      " 7   zip         973178 non-null  int64         \n",
      " 8   title       973178 non-null  object        \n",
      " 9   genres      973178 non-null  object        \n",
      " 10  state       973178 non-null  object        \n",
      "dtypes: datetime64[ns](1), int64(4), object(6)\n",
      "memory usage: 81.7+ MB\n"
     ]
    }
   ],
   "source": [
    "df.info()"
   ]
  },
  {
   "cell_type": "code",
   "execution_count": 9,
   "metadata": {},
   "outputs": [
    {
     "data": {
      "text/html": [
       "<div>\n",
       "<style scoped>\n",
       "    .dataframe tbody tr th:only-of-type {\n",
       "        vertical-align: middle;\n",
       "    }\n",
       "\n",
       "    .dataframe tbody tr th {\n",
       "        vertical-align: top;\n",
       "    }\n",
       "\n",
       "    .dataframe thead th {\n",
       "        text-align: right;\n",
       "    }\n",
       "</style>\n",
       "<table border=\"1\" class=\"dataframe\">\n",
       "  <thead>\n",
       "    <tr style=\"text-align: right;\">\n",
       "      <th></th>\n",
       "      <th>user_id</th>\n",
       "      <th>movie_id</th>\n",
       "      <th>rating</th>\n",
       "      <th>timestamp</th>\n",
       "      <th>gender</th>\n",
       "      <th>age</th>\n",
       "      <th>occupation</th>\n",
       "      <th>zip</th>\n",
       "      <th>title</th>\n",
       "      <th>genres</th>\n",
       "      <th>state</th>\n",
       "    </tr>\n",
       "  </thead>\n",
       "  <tbody>\n",
       "    <tr>\n",
       "      <th>0</th>\n",
       "      <td>1</td>\n",
       "      <td>1193</td>\n",
       "      <td>5</td>\n",
       "      <td>2000-12-31 22:12:40</td>\n",
       "      <td>F</td>\n",
       "      <td>Under 18</td>\n",
       "      <td>K-12 student</td>\n",
       "      <td>48067</td>\n",
       "      <td>One Flew Over the Cuckoo's Nest (1975)</td>\n",
       "      <td>drama</td>\n",
       "      <td>MI</td>\n",
       "    </tr>\n",
       "    <tr>\n",
       "      <th>1</th>\n",
       "      <td>1</td>\n",
       "      <td>661</td>\n",
       "      <td>3</td>\n",
       "      <td>2000-12-31 22:35:09</td>\n",
       "      <td>F</td>\n",
       "      <td>Under 18</td>\n",
       "      <td>K-12 student</td>\n",
       "      <td>48067</td>\n",
       "      <td>James and the Giant Peach (1996)</td>\n",
       "      <td>animation|children's|musical</td>\n",
       "      <td>MI</td>\n",
       "    </tr>\n",
       "    <tr>\n",
       "      <th>2</th>\n",
       "      <td>1</td>\n",
       "      <td>914</td>\n",
       "      <td>3</td>\n",
       "      <td>2000-12-31 22:32:48</td>\n",
       "      <td>F</td>\n",
       "      <td>Under 18</td>\n",
       "      <td>K-12 student</td>\n",
       "      <td>48067</td>\n",
       "      <td>My Fair Lady (1964)</td>\n",
       "      <td>musical|romance</td>\n",
       "      <td>MI</td>\n",
       "    </tr>\n",
       "    <tr>\n",
       "      <th>3</th>\n",
       "      <td>1</td>\n",
       "      <td>3408</td>\n",
       "      <td>4</td>\n",
       "      <td>2000-12-31 22:04:35</td>\n",
       "      <td>F</td>\n",
       "      <td>Under 18</td>\n",
       "      <td>K-12 student</td>\n",
       "      <td>48067</td>\n",
       "      <td>Erin Brockovich (2000)</td>\n",
       "      <td>drama</td>\n",
       "      <td>MI</td>\n",
       "    </tr>\n",
       "    <tr>\n",
       "      <th>4</th>\n",
       "      <td>1</td>\n",
       "      <td>2355</td>\n",
       "      <td>5</td>\n",
       "      <td>2001-01-06 23:38:11</td>\n",
       "      <td>F</td>\n",
       "      <td>Under 18</td>\n",
       "      <td>K-12 student</td>\n",
       "      <td>48067</td>\n",
       "      <td>Bug's Life, A (1998)</td>\n",
       "      <td>animation|children's|comedy</td>\n",
       "      <td>MI</td>\n",
       "    </tr>\n",
       "  </tbody>\n",
       "</table>\n",
       "</div>"
      ],
      "text/plain": [
       "   user_id  movie_id  rating           timestamp gender       age  \\\n",
       "0        1      1193       5 2000-12-31 22:12:40      F  Under 18   \n",
       "1        1       661       3 2000-12-31 22:35:09      F  Under 18   \n",
       "2        1       914       3 2000-12-31 22:32:48      F  Under 18   \n",
       "3        1      3408       4 2000-12-31 22:04:35      F  Under 18   \n",
       "4        1      2355       5 2001-01-06 23:38:11      F  Under 18   \n",
       "\n",
       "     occupation    zip                                   title  \\\n",
       "0  K-12 student  48067  One Flew Over the Cuckoo's Nest (1975)   \n",
       "1  K-12 student  48067        James and the Giant Peach (1996)   \n",
       "2  K-12 student  48067                     My Fair Lady (1964)   \n",
       "3  K-12 student  48067                  Erin Brockovich (2000)   \n",
       "4  K-12 student  48067                    Bug's Life, A (1998)   \n",
       "\n",
       "                         genres state  \n",
       "0                         drama    MI  \n",
       "1  animation|children's|musical    MI  \n",
       "2               musical|romance    MI  \n",
       "3                         drama    MI  \n",
       "4   animation|children's|comedy    MI  "
      ]
     },
     "execution_count": 9,
     "metadata": {},
     "output_type": "execute_result"
    }
   ],
   "source": [
    "df.head()"
   ]
  },
  {
   "cell_type": "code",
   "execution_count": 10,
   "metadata": {},
   "outputs": [
    {
     "data": {
      "text/html": [
       "<div>\n",
       "<style scoped>\n",
       "    .dataframe tbody tr th:only-of-type {\n",
       "        vertical-align: middle;\n",
       "    }\n",
       "\n",
       "    .dataframe tbody tr th {\n",
       "        vertical-align: top;\n",
       "    }\n",
       "\n",
       "    .dataframe thead th {\n",
       "        text-align: right;\n",
       "    }\n",
       "</style>\n",
       "<table border=\"1\" class=\"dataframe\">\n",
       "  <thead>\n",
       "    <tr style=\"text-align: right;\">\n",
       "      <th></th>\n",
       "      <th>0</th>\n",
       "      <th>1</th>\n",
       "      <th>2</th>\n",
       "      <th>3</th>\n",
       "      <th>4</th>\n",
       "    </tr>\n",
       "  </thead>\n",
       "  <tbody>\n",
       "    <tr>\n",
       "      <th>user_id</th>\n",
       "      <td>1</td>\n",
       "      <td>1</td>\n",
       "      <td>1</td>\n",
       "      <td>1</td>\n",
       "      <td>1</td>\n",
       "    </tr>\n",
       "    <tr>\n",
       "      <th>movie_id</th>\n",
       "      <td>1193</td>\n",
       "      <td>661</td>\n",
       "      <td>914</td>\n",
       "      <td>3408</td>\n",
       "      <td>2355</td>\n",
       "    </tr>\n",
       "    <tr>\n",
       "      <th>rating</th>\n",
       "      <td>5</td>\n",
       "      <td>3</td>\n",
       "      <td>3</td>\n",
       "      <td>4</td>\n",
       "      <td>5</td>\n",
       "    </tr>\n",
       "    <tr>\n",
       "      <th>timestamp</th>\n",
       "      <td>2000-12-31 22:12:40</td>\n",
       "      <td>2000-12-31 22:35:09</td>\n",
       "      <td>2000-12-31 22:32:48</td>\n",
       "      <td>2000-12-31 22:04:35</td>\n",
       "      <td>2001-01-06 23:38:11</td>\n",
       "    </tr>\n",
       "    <tr>\n",
       "      <th>gender</th>\n",
       "      <td>F</td>\n",
       "      <td>F</td>\n",
       "      <td>F</td>\n",
       "      <td>F</td>\n",
       "      <td>F</td>\n",
       "    </tr>\n",
       "    <tr>\n",
       "      <th>age</th>\n",
       "      <td>Under 18</td>\n",
       "      <td>Under 18</td>\n",
       "      <td>Under 18</td>\n",
       "      <td>Under 18</td>\n",
       "      <td>Under 18</td>\n",
       "    </tr>\n",
       "    <tr>\n",
       "      <th>occupation</th>\n",
       "      <td>K-12 student</td>\n",
       "      <td>K-12 student</td>\n",
       "      <td>K-12 student</td>\n",
       "      <td>K-12 student</td>\n",
       "      <td>K-12 student</td>\n",
       "    </tr>\n",
       "    <tr>\n",
       "      <th>zip</th>\n",
       "      <td>48067</td>\n",
       "      <td>48067</td>\n",
       "      <td>48067</td>\n",
       "      <td>48067</td>\n",
       "      <td>48067</td>\n",
       "    </tr>\n",
       "    <tr>\n",
       "      <th>title</th>\n",
       "      <td>One Flew Over the Cuckoo's Nest (1975)</td>\n",
       "      <td>James and the Giant Peach (1996)</td>\n",
       "      <td>My Fair Lady (1964)</td>\n",
       "      <td>Erin Brockovich (2000)</td>\n",
       "      <td>Bug's Life, A (1998)</td>\n",
       "    </tr>\n",
       "    <tr>\n",
       "      <th>genres</th>\n",
       "      <td>drama</td>\n",
       "      <td>animation|children's|musical</td>\n",
       "      <td>musical|romance</td>\n",
       "      <td>drama</td>\n",
       "      <td>animation|children's|comedy</td>\n",
       "    </tr>\n",
       "    <tr>\n",
       "      <th>state</th>\n",
       "      <td>MI</td>\n",
       "      <td>MI</td>\n",
       "      <td>MI</td>\n",
       "      <td>MI</td>\n",
       "      <td>MI</td>\n",
       "    </tr>\n",
       "  </tbody>\n",
       "</table>\n",
       "</div>"
      ],
      "text/plain": [
       "                                                 0  \\\n",
       "user_id                                          1   \n",
       "movie_id                                      1193   \n",
       "rating                                           5   \n",
       "timestamp                      2000-12-31 22:12:40   \n",
       "gender                                           F   \n",
       "age                                       Under 18   \n",
       "occupation                            K-12 student   \n",
       "zip                                          48067   \n",
       "title       One Flew Over the Cuckoo's Nest (1975)   \n",
       "genres                                       drama   \n",
       "state                                           MI   \n",
       "\n",
       "                                           1                    2  \\\n",
       "user_id                                    1                    1   \n",
       "movie_id                                 661                  914   \n",
       "rating                                     3                    3   \n",
       "timestamp                2000-12-31 22:35:09  2000-12-31 22:32:48   \n",
       "gender                                     F                    F   \n",
       "age                                 Under 18             Under 18   \n",
       "occupation                      K-12 student         K-12 student   \n",
       "zip                                    48067                48067   \n",
       "title       James and the Giant Peach (1996)  My Fair Lady (1964)   \n",
       "genres          animation|children's|musical      musical|romance   \n",
       "state                                     MI                   MI   \n",
       "\n",
       "                                 3                            4  \n",
       "user_id                          1                            1  \n",
       "movie_id                      3408                         2355  \n",
       "rating                           4                            5  \n",
       "timestamp      2000-12-31 22:04:35          2001-01-06 23:38:11  \n",
       "gender                           F                            F  \n",
       "age                       Under 18                     Under 18  \n",
       "occupation            K-12 student                 K-12 student  \n",
       "zip                          48067                        48067  \n",
       "title       Erin Brockovich (2000)         Bug's Life, A (1998)  \n",
       "genres                       drama  animation|children's|comedy  \n",
       "state                           MI                           MI  "
      ]
     },
     "execution_count": 10,
     "metadata": {},
     "output_type": "execute_result"
    }
   ],
   "source": [
    "df.head().T"
   ]
  },
  {
   "cell_type": "code",
   "execution_count": 11,
   "metadata": {},
   "outputs": [
    {
     "data": {
      "text/html": [
       "<div>\n",
       "<style scoped>\n",
       "    .dataframe tbody tr th:only-of-type {\n",
       "        vertical-align: middle;\n",
       "    }\n",
       "\n",
       "    .dataframe tbody tr th {\n",
       "        vertical-align: top;\n",
       "    }\n",
       "\n",
       "    .dataframe thead th {\n",
       "        text-align: right;\n",
       "    }\n",
       "</style>\n",
       "<table border=\"1\" class=\"dataframe\">\n",
       "  <thead>\n",
       "    <tr style=\"text-align: right;\">\n",
       "      <th></th>\n",
       "      <th>user_id</th>\n",
       "      <th>movie_id</th>\n",
       "      <th>rating</th>\n",
       "      <th>timestamp</th>\n",
       "      <th>gender</th>\n",
       "      <th>age</th>\n",
       "      <th>occupation</th>\n",
       "      <th>zip</th>\n",
       "      <th>title</th>\n",
       "      <th>genres</th>\n",
       "      <th>state</th>\n",
       "    </tr>\n",
       "  </thead>\n",
       "  <tbody>\n",
       "    <tr>\n",
       "      <th>621857</th>\n",
       "      <td>3841</td>\n",
       "      <td>95</td>\n",
       "      <td>4</td>\n",
       "      <td>2000-08-11 14:12:26</td>\n",
       "      <td>M</td>\n",
       "      <td>45-49</td>\n",
       "      <td>tradesman/craftsman</td>\n",
       "      <td>26101</td>\n",
       "      <td>Broken Arrow (1996)</td>\n",
       "      <td>action|thriller</td>\n",
       "      <td>WV</td>\n",
       "    </tr>\n",
       "    <tr>\n",
       "      <th>524958</th>\n",
       "      <td>3311</td>\n",
       "      <td>44</td>\n",
       "      <td>4</td>\n",
       "      <td>2000-09-03 04:36:22</td>\n",
       "      <td>M</td>\n",
       "      <td>25-34</td>\n",
       "      <td>college/grad student</td>\n",
       "      <td>90039</td>\n",
       "      <td>Mortal Kombat (1995)</td>\n",
       "      <td>action|adventure</td>\n",
       "      <td>CA</td>\n",
       "    </tr>\n",
       "    <tr>\n",
       "      <th>519804</th>\n",
       "      <td>3283</td>\n",
       "      <td>2094</td>\n",
       "      <td>3</td>\n",
       "      <td>2000-09-05 02:57:37</td>\n",
       "      <td>M</td>\n",
       "      <td>35-44</td>\n",
       "      <td>self-employed</td>\n",
       "      <td>66208</td>\n",
       "      <td>Rocketeer, The (1991)</td>\n",
       "      <td>action|adventure|sci-fi</td>\n",
       "      <td>KS</td>\n",
       "    </tr>\n",
       "  </tbody>\n",
       "</table>\n",
       "</div>"
      ],
      "text/plain": [
       "        user_id  movie_id  rating           timestamp gender    age  \\\n",
       "621857     3841        95       4 2000-08-11 14:12:26      M  45-49   \n",
       "524958     3311        44       4 2000-09-03 04:36:22      M  25-34   \n",
       "519804     3283      2094       3 2000-09-05 02:57:37      M  35-44   \n",
       "\n",
       "                  occupation    zip                  title  \\\n",
       "621857   tradesman/craftsman  26101    Broken Arrow (1996)   \n",
       "524958  college/grad student  90039   Mortal Kombat (1995)   \n",
       "519804         self-employed  66208  Rocketeer, The (1991)   \n",
       "\n",
       "                         genres state  \n",
       "621857          action|thriller    WV  \n",
       "524958         action|adventure    CA  \n",
       "519804  action|adventure|sci-fi    KS  "
      ]
     },
     "execution_count": 11,
     "metadata": {},
     "output_type": "execute_result"
    }
   ],
   "source": [
    "df.sample(n=3)"
   ]
  },
  {
   "cell_type": "code",
   "execution_count": 12,
   "metadata": {},
   "outputs": [
    {
     "data": {
      "text/html": [
       "<div>\n",
       "<style scoped>\n",
       "    .dataframe tbody tr th:only-of-type {\n",
       "        vertical-align: middle;\n",
       "    }\n",
       "\n",
       "    .dataframe tbody tr th {\n",
       "        vertical-align: top;\n",
       "    }\n",
       "\n",
       "    .dataframe thead th {\n",
       "        text-align: right;\n",
       "    }\n",
       "</style>\n",
       "<table border=\"1\" class=\"dataframe\">\n",
       "  <thead>\n",
       "    <tr style=\"text-align: right;\">\n",
       "      <th></th>\n",
       "      <th>user_id</th>\n",
       "      <th>movie_id</th>\n",
       "      <th>rating</th>\n",
       "      <th>timestamp</th>\n",
       "      <th>gender</th>\n",
       "      <th>age</th>\n",
       "      <th>occupation</th>\n",
       "      <th>zip</th>\n",
       "      <th>title</th>\n",
       "      <th>genres</th>\n",
       "      <th>state</th>\n",
       "    </tr>\n",
       "  </thead>\n",
       "  <tbody>\n",
       "    <tr>\n",
       "      <th>973176</th>\n",
       "      <td>6040</td>\n",
       "      <td>1096</td>\n",
       "      <td>4</td>\n",
       "      <td>2000-04-26 02:20:48</td>\n",
       "      <td>M</td>\n",
       "      <td>25-34</td>\n",
       "      <td>doctor/health care</td>\n",
       "      <td>11106</td>\n",
       "      <td>Sophie's Choice (1982)</td>\n",
       "      <td>drama</td>\n",
       "      <td>NY</td>\n",
       "    </tr>\n",
       "    <tr>\n",
       "      <th>973177</th>\n",
       "      <td>6040</td>\n",
       "      <td>1097</td>\n",
       "      <td>4</td>\n",
       "      <td>2000-04-26 02:19:29</td>\n",
       "      <td>M</td>\n",
       "      <td>25-34</td>\n",
       "      <td>doctor/health care</td>\n",
       "      <td>11106</td>\n",
       "      <td>E.T. the Extra-Terrestrial (1982)</td>\n",
       "      <td>children's|drama|fantasy|sci-fi</td>\n",
       "      <td>NY</td>\n",
       "    </tr>\n",
       "  </tbody>\n",
       "</table>\n",
       "</div>"
      ],
      "text/plain": [
       "        user_id  movie_id  rating           timestamp gender    age  \\\n",
       "973176     6040      1096       4 2000-04-26 02:20:48      M  25-34   \n",
       "973177     6040      1097       4 2000-04-26 02:19:29      M  25-34   \n",
       "\n",
       "                occupation    zip                              title  \\\n",
       "973176  doctor/health care  11106             Sophie's Choice (1982)   \n",
       "973177  doctor/health care  11106  E.T. the Extra-Terrestrial (1982)   \n",
       "\n",
       "                                 genres state  \n",
       "973176                            drama    NY  \n",
       "973177  children's|drama|fantasy|sci-fi    NY  "
      ]
     },
     "execution_count": 12,
     "metadata": {},
     "output_type": "execute_result"
    }
   ],
   "source": [
    "df.tail(2)"
   ]
  },
  {
   "cell_type": "markdown",
   "metadata": {},
   "source": [
    "We are ready to start asking questions..."
   ]
  },
  {
   "cell_type": "markdown",
   "metadata": {},
   "source": [
    "<mark>**Q1** What are minimum, maximum, mean, and median rating?</mark>"
   ]
  },
  {
   "cell_type": "code",
   "execution_count": 13,
   "metadata": {},
   "outputs": [
    {
     "data": {
      "text/plain": [
       "count   973,178.00\n",
       "mean          3.58\n",
       "std           1.11\n",
       "min           1.00\n",
       "25%           3.00\n",
       "50%           4.00\n",
       "75%           4.00\n",
       "max           5.00\n",
       "Name: rating, dtype: float64"
      ]
     },
     "execution_count": 13,
     "metadata": {},
     "output_type": "execute_result"
    }
   ],
   "source": [
    "df['rating'].describe()"
   ]
  },
  {
   "cell_type": "code",
   "execution_count": 14,
   "metadata": {},
   "outputs": [
    {
     "data": {
      "text/plain": [
       "1"
      ]
     },
     "execution_count": 14,
     "metadata": {},
     "output_type": "execute_result"
    }
   ],
   "source": [
    "df['rating'].min()"
   ]
  },
  {
   "cell_type": "code",
   "execution_count": 15,
   "metadata": {},
   "outputs": [
    {
     "data": {
      "text/plain": [
       "5"
      ]
     },
     "execution_count": 15,
     "metadata": {},
     "output_type": "execute_result"
    }
   ],
   "source": [
    "df['rating'].max()"
   ]
  },
  {
   "cell_type": "code",
   "execution_count": 16,
   "metadata": {},
   "outputs": [
    {
     "data": {
      "text/plain": [
       "3.5835551153026475"
      ]
     },
     "execution_count": 16,
     "metadata": {},
     "output_type": "execute_result"
    }
   ],
   "source": [
    "df['rating'].mean()"
   ]
  },
  {
   "cell_type": "code",
   "execution_count": 17,
   "metadata": {},
   "outputs": [
    {
     "data": {
      "text/plain": [
       "4.0"
      ]
     },
     "execution_count": 17,
     "metadata": {},
     "output_type": "execute_result"
    }
   ],
   "source": [
    "df['rating'].median()"
   ]
  },
  {
   "cell_type": "markdown",
   "metadata": {},
   "source": [
    "<h3>GroupBy Mechanics</h3>\n",
    "\n",
    "By \"group by\" we are referring to a process involving one or more of the following steps:\n",
    "\n",
    "- Splitting the data into groups based on some criteria.\n",
    "- Applying a function to each group independently.\n",
    "- Combining the results into a data structure.\n",
    "\n",
    "See more info in pandas documentation: [Group By: split-apply-combine](https://pandas.pydata.org/pandas-docs/stable/user_guide/groupby.html)"
   ]
  },
  {
   "cell_type": "code",
   "execution_count": 18,
   "metadata": {},
   "outputs": [],
   "source": [
    "grouped = df.groupby('title')"
   ]
  },
  {
   "cell_type": "code",
   "execution_count": 19,
   "metadata": {},
   "outputs": [
    {
     "name": "stdout",
     "output_type": "stream",
     "text": [
      "name: $1,000,000 Duck (1971)\n",
      "group shape: (36, 11)\n"
     ]
    }
   ],
   "source": [
    "movie_name, movie_data = None, None\n",
    "\n",
    "for name, group_data in grouped:\n",
    "    print(\"name: %s\" % name)\n",
    "    print(\"group shape: %s\" % str(group_data.shape))\n",
    "    movie_name = name\n",
    "    movie_data = group_data\n",
    "    break"
   ]
  },
  {
   "cell_type": "code",
   "execution_count": 20,
   "metadata": {},
   "outputs": [
    {
     "data": {
      "text/plain": [
       "'$1,000,000 Duck (1971)'"
      ]
     },
     "execution_count": 20,
     "metadata": {},
     "output_type": "execute_result"
    }
   ],
   "source": [
    "movie_name"
   ]
  },
  {
   "cell_type": "code",
   "execution_count": 21,
   "metadata": {},
   "outputs": [
    {
     "data": {
      "text/html": [
       "<div>\n",
       "<style scoped>\n",
       "    .dataframe tbody tr th:only-of-type {\n",
       "        vertical-align: middle;\n",
       "    }\n",
       "\n",
       "    .dataframe tbody tr th {\n",
       "        vertical-align: top;\n",
       "    }\n",
       "\n",
       "    .dataframe thead th {\n",
       "        text-align: right;\n",
       "    }\n",
       "</style>\n",
       "<table border=\"1\" class=\"dataframe\">\n",
       "  <thead>\n",
       "    <tr style=\"text-align: right;\">\n",
       "      <th></th>\n",
       "      <th>user_id</th>\n",
       "      <th>movie_id</th>\n",
       "      <th>rating</th>\n",
       "      <th>timestamp</th>\n",
       "      <th>gender</th>\n",
       "      <th>age</th>\n",
       "      <th>occupation</th>\n",
       "      <th>zip</th>\n",
       "      <th>title</th>\n",
       "      <th>genres</th>\n",
       "      <th>state</th>\n",
       "    </tr>\n",
       "  </thead>\n",
       "  <tbody>\n",
       "    <tr>\n",
       "      <th>31301</th>\n",
       "      <td>216</td>\n",
       "      <td>2031</td>\n",
       "      <td>2</td>\n",
       "      <td>2000-12-15 08:00:30</td>\n",
       "      <td>M</td>\n",
       "      <td>45-49</td>\n",
       "      <td>retired</td>\n",
       "      <td>52761</td>\n",
       "      <td>$1,000,000 Duck (1971)</td>\n",
       "      <td>children's|comedy</td>\n",
       "      <td>IA</td>\n",
       "    </tr>\n",
       "    <tr>\n",
       "      <th>71155</th>\n",
       "      <td>494</td>\n",
       "      <td>2031</td>\n",
       "      <td>5</td>\n",
       "      <td>2000-12-07 19:00:51</td>\n",
       "      <td>F</td>\n",
       "      <td>35-44</td>\n",
       "      <td>other</td>\n",
       "      <td>17870</td>\n",
       "      <td>$1,000,000 Duck (1971)</td>\n",
       "      <td>children's|comedy</td>\n",
       "      <td>PA</td>\n",
       "    </tr>\n",
       "    <tr>\n",
       "      <th>106124</th>\n",
       "      <td>714</td>\n",
       "      <td>2031</td>\n",
       "      <td>4</td>\n",
       "      <td>2000-12-02 18:45:11</td>\n",
       "      <td>M</td>\n",
       "      <td>18-24</td>\n",
       "      <td>college/grad student</td>\n",
       "      <td>76013</td>\n",
       "      <td>$1,000,000 Duck (1971)</td>\n",
       "      <td>children's|comedy</td>\n",
       "      <td>TX</td>\n",
       "    </tr>\n",
       "    <tr>\n",
       "      <th>131229</th>\n",
       "      <td>869</td>\n",
       "      <td>2031</td>\n",
       "      <td>1</td>\n",
       "      <td>2001-09-01 20:36:59</td>\n",
       "      <td>M</td>\n",
       "      <td>18-24</td>\n",
       "      <td>writer</td>\n",
       "      <td>92026</td>\n",
       "      <td>$1,000,000 Duck (1971)</td>\n",
       "      <td>children's|comedy</td>\n",
       "      <td>CA</td>\n",
       "    </tr>\n",
       "    <tr>\n",
       "      <th>158459</th>\n",
       "      <td>1034</td>\n",
       "      <td>2031</td>\n",
       "      <td>3</td>\n",
       "      <td>2000-11-24 19:15:19</td>\n",
       "      <td>F</td>\n",
       "      <td>35-44</td>\n",
       "      <td>academic/educator</td>\n",
       "      <td>82601</td>\n",
       "      <td>$1,000,000 Duck (1971)</td>\n",
       "      <td>children's|comedy</td>\n",
       "      <td>WY</td>\n",
       "    </tr>\n",
       "    <tr>\n",
       "      <th>...</th>\n",
       "      <td>...</td>\n",
       "      <td>...</td>\n",
       "      <td>...</td>\n",
       "      <td>...</td>\n",
       "      <td>...</td>\n",
       "      <td>...</td>\n",
       "      <td>...</td>\n",
       "      <td>...</td>\n",
       "      <td>...</td>\n",
       "      <td>...</td>\n",
       "      <td>...</td>\n",
       "    </tr>\n",
       "    <tr>\n",
       "      <th>777051</th>\n",
       "      <td>4784</td>\n",
       "      <td>2031</td>\n",
       "      <td>4</td>\n",
       "      <td>2000-09-26 20:26:33</td>\n",
       "      <td>F</td>\n",
       "      <td>35-44</td>\n",
       "      <td>doctor/health care</td>\n",
       "      <td>48105</td>\n",
       "      <td>$1,000,000 Duck (1971)</td>\n",
       "      <td>children's|comedy</td>\n",
       "      <td>MI</td>\n",
       "    </tr>\n",
       "    <tr>\n",
       "      <th>837752</th>\n",
       "      <td>5179</td>\n",
       "      <td>2031</td>\n",
       "      <td>1</td>\n",
       "      <td>2000-06-24 00:41:04</td>\n",
       "      <td>M</td>\n",
       "      <td>25-34</td>\n",
       "      <td>programmer</td>\n",
       "      <td>94110</td>\n",
       "      <td>$1,000,000 Duck (1971)</td>\n",
       "      <td>children's|comedy</td>\n",
       "      <td>CA</td>\n",
       "    </tr>\n",
       "    <tr>\n",
       "      <th>838901</th>\n",
       "      <td>5185</td>\n",
       "      <td>2031</td>\n",
       "      <td>3</td>\n",
       "      <td>2000-07-08 14:57:41</td>\n",
       "      <td>F</td>\n",
       "      <td>35-44</td>\n",
       "      <td>college/grad student</td>\n",
       "      <td>44485</td>\n",
       "      <td>$1,000,000 Duck (1971)</td>\n",
       "      <td>children's|comedy</td>\n",
       "      <td>OH</td>\n",
       "    </tr>\n",
       "    <tr>\n",
       "      <th>910197</th>\n",
       "      <td>5643</td>\n",
       "      <td>2031</td>\n",
       "      <td>2</td>\n",
       "      <td>2001-03-10 05:04:52</td>\n",
       "      <td>F</td>\n",
       "      <td>35-44</td>\n",
       "      <td>academic/educator</td>\n",
       "      <td>84108</td>\n",
       "      <td>$1,000,000 Duck (1971)</td>\n",
       "      <td>children's|comedy</td>\n",
       "      <td>UT</td>\n",
       "    </tr>\n",
       "    <tr>\n",
       "      <th>963383</th>\n",
       "      <td>5978</td>\n",
       "      <td>2031</td>\n",
       "      <td>2</td>\n",
       "      <td>2000-07-21 13:38:26</td>\n",
       "      <td>M</td>\n",
       "      <td>35-44</td>\n",
       "      <td>academic/educator</td>\n",
       "      <td>49307</td>\n",
       "      <td>$1,000,000 Duck (1971)</td>\n",
       "      <td>children's|comedy</td>\n",
       "      <td>MI</td>\n",
       "    </tr>\n",
       "  </tbody>\n",
       "</table>\n",
       "<p>36 rows × 11 columns</p>\n",
       "</div>"
      ],
      "text/plain": [
       "        user_id  movie_id  rating           timestamp gender    age  \\\n",
       "31301       216      2031       2 2000-12-15 08:00:30      M  45-49   \n",
       "71155       494      2031       5 2000-12-07 19:00:51      F  35-44   \n",
       "106124      714      2031       4 2000-12-02 18:45:11      M  18-24   \n",
       "131229      869      2031       1 2001-09-01 20:36:59      M  18-24   \n",
       "158459     1034      2031       3 2000-11-24 19:15:19      F  35-44   \n",
       "...         ...       ...     ...                 ...    ...    ...   \n",
       "777051     4784      2031       4 2000-09-26 20:26:33      F  35-44   \n",
       "837752     5179      2031       1 2000-06-24 00:41:04      M  25-34   \n",
       "838901     5185      2031       3 2000-07-08 14:57:41      F  35-44   \n",
       "910197     5643      2031       2 2001-03-10 05:04:52      F  35-44   \n",
       "963383     5978      2031       2 2000-07-21 13:38:26      M  35-44   \n",
       "\n",
       "                  occupation    zip                   title  \\\n",
       "31301                retired  52761  $1,000,000 Duck (1971)   \n",
       "71155                  other  17870  $1,000,000 Duck (1971)   \n",
       "106124  college/grad student  76013  $1,000,000 Duck (1971)   \n",
       "131229                writer  92026  $1,000,000 Duck (1971)   \n",
       "158459     academic/educator  82601  $1,000,000 Duck (1971)   \n",
       "...                      ...    ...                     ...   \n",
       "777051    doctor/health care  48105  $1,000,000 Duck (1971)   \n",
       "837752            programmer  94110  $1,000,000 Duck (1971)   \n",
       "838901  college/grad student  44485  $1,000,000 Duck (1971)   \n",
       "910197     academic/educator  84108  $1,000,000 Duck (1971)   \n",
       "963383     academic/educator  49307  $1,000,000 Duck (1971)   \n",
       "\n",
       "                   genres state  \n",
       "31301   children's|comedy    IA  \n",
       "71155   children's|comedy    PA  \n",
       "106124  children's|comedy    TX  \n",
       "131229  children's|comedy    CA  \n",
       "158459  children's|comedy    WY  \n",
       "...                   ...   ...  \n",
       "777051  children's|comedy    MI  \n",
       "837752  children's|comedy    CA  \n",
       "838901  children's|comedy    OH  \n",
       "910197  children's|comedy    UT  \n",
       "963383  children's|comedy    MI  \n",
       "\n",
       "[36 rows x 11 columns]"
      ]
     },
     "execution_count": 21,
     "metadata": {},
     "output_type": "execute_result"
    }
   ],
   "source": [
    "movie_data"
   ]
  },
  {
   "cell_type": "code",
   "execution_count": 22,
   "metadata": {},
   "outputs": [
    {
     "data": {
      "text/plain": [
       "36"
      ]
     },
     "execution_count": 22,
     "metadata": {},
     "output_type": "execute_result"
    }
   ],
   "source": [
    "movie_data['title'].count()"
   ]
  },
  {
   "cell_type": "code",
   "execution_count": 23,
   "metadata": {},
   "outputs": [
    {
     "data": {
      "text/html": [
       "<div>\n",
       "<style scoped>\n",
       "    .dataframe tbody tr th:only-of-type {\n",
       "        vertical-align: middle;\n",
       "    }\n",
       "\n",
       "    .dataframe tbody tr th {\n",
       "        vertical-align: top;\n",
       "    }\n",
       "\n",
       "    .dataframe thead th {\n",
       "        text-align: right;\n",
       "    }\n",
       "</style>\n",
       "<table border=\"1\" class=\"dataframe\">\n",
       "  <thead>\n",
       "    <tr style=\"text-align: right;\">\n",
       "      <th></th>\n",
       "      <th>user_id</th>\n",
       "      <th>movie_id</th>\n",
       "      <th>rating</th>\n",
       "      <th>timestamp</th>\n",
       "      <th>gender</th>\n",
       "      <th>age</th>\n",
       "      <th>occupation</th>\n",
       "      <th>zip</th>\n",
       "      <th>title</th>\n",
       "      <th>genres</th>\n",
       "      <th>state</th>\n",
       "    </tr>\n",
       "  </thead>\n",
       "  <tbody>\n",
       "    <tr>\n",
       "      <th>31301</th>\n",
       "      <td>216</td>\n",
       "      <td>2031</td>\n",
       "      <td>2</td>\n",
       "      <td>2000-12-15 08:00:30</td>\n",
       "      <td>M</td>\n",
       "      <td>45-49</td>\n",
       "      <td>retired</td>\n",
       "      <td>52761</td>\n",
       "      <td>$1,000,000 Duck (1971)</td>\n",
       "      <td>children's|comedy</td>\n",
       "      <td>IA</td>\n",
       "    </tr>\n",
       "    <tr>\n",
       "      <th>71155</th>\n",
       "      <td>494</td>\n",
       "      <td>2031</td>\n",
       "      <td>5</td>\n",
       "      <td>2000-12-07 19:00:51</td>\n",
       "      <td>F</td>\n",
       "      <td>35-44</td>\n",
       "      <td>other</td>\n",
       "      <td>17870</td>\n",
       "      <td>$1,000,000 Duck (1971)</td>\n",
       "      <td>children's|comedy</td>\n",
       "      <td>PA</td>\n",
       "    </tr>\n",
       "    <tr>\n",
       "      <th>106124</th>\n",
       "      <td>714</td>\n",
       "      <td>2031</td>\n",
       "      <td>4</td>\n",
       "      <td>2000-12-02 18:45:11</td>\n",
       "      <td>M</td>\n",
       "      <td>18-24</td>\n",
       "      <td>college/grad student</td>\n",
       "      <td>76013</td>\n",
       "      <td>$1,000,000 Duck (1971)</td>\n",
       "      <td>children's|comedy</td>\n",
       "      <td>TX</td>\n",
       "    </tr>\n",
       "    <tr>\n",
       "      <th>131229</th>\n",
       "      <td>869</td>\n",
       "      <td>2031</td>\n",
       "      <td>1</td>\n",
       "      <td>2001-09-01 20:36:59</td>\n",
       "      <td>M</td>\n",
       "      <td>18-24</td>\n",
       "      <td>writer</td>\n",
       "      <td>92026</td>\n",
       "      <td>$1,000,000 Duck (1971)</td>\n",
       "      <td>children's|comedy</td>\n",
       "      <td>CA</td>\n",
       "    </tr>\n",
       "    <tr>\n",
       "      <th>158459</th>\n",
       "      <td>1034</td>\n",
       "      <td>2031</td>\n",
       "      <td>3</td>\n",
       "      <td>2000-11-24 19:15:19</td>\n",
       "      <td>F</td>\n",
       "      <td>35-44</td>\n",
       "      <td>academic/educator</td>\n",
       "      <td>82601</td>\n",
       "      <td>$1,000,000 Duck (1971)</td>\n",
       "      <td>children's|comedy</td>\n",
       "      <td>WY</td>\n",
       "    </tr>\n",
       "  </tbody>\n",
       "</table>\n",
       "</div>"
      ],
      "text/plain": [
       "        user_id  movie_id  rating           timestamp gender    age  \\\n",
       "31301       216      2031       2 2000-12-15 08:00:30      M  45-49   \n",
       "71155       494      2031       5 2000-12-07 19:00:51      F  35-44   \n",
       "106124      714      2031       4 2000-12-02 18:45:11      M  18-24   \n",
       "131229      869      2031       1 2001-09-01 20:36:59      M  18-24   \n",
       "158459     1034      2031       3 2000-11-24 19:15:19      F  35-44   \n",
       "\n",
       "                  occupation    zip                   title  \\\n",
       "31301                retired  52761  $1,000,000 Duck (1971)   \n",
       "71155                  other  17870  $1,000,000 Duck (1971)   \n",
       "106124  college/grad student  76013  $1,000,000 Duck (1971)   \n",
       "131229                writer  92026  $1,000,000 Duck (1971)   \n",
       "158459     academic/educator  82601  $1,000,000 Duck (1971)   \n",
       "\n",
       "                   genres state  \n",
       "31301   children's|comedy    IA  \n",
       "71155   children's|comedy    PA  \n",
       "106124  children's|comedy    TX  \n",
       "131229  children's|comedy    CA  \n",
       "158459  children's|comedy    WY  "
      ]
     },
     "execution_count": 23,
     "metadata": {},
     "output_type": "execute_result"
    }
   ],
   "source": [
    "gr = df.groupby('title')\n",
    "gr.get_group(\"$1,000,000 Duck (1971)\").head()"
   ]
  },
  {
   "cell_type": "code",
   "execution_count": 24,
   "metadata": {},
   "outputs": [],
   "source": [
    "df_duck = gr.get_group(\"$1,000,000 Duck (1971)\")"
   ]
  },
  {
   "cell_type": "code",
   "execution_count": 25,
   "metadata": {},
   "outputs": [
    {
     "data": {
      "text/html": [
       "<div>\n",
       "<style scoped>\n",
       "    .dataframe tbody tr th:only-of-type {\n",
       "        vertical-align: middle;\n",
       "    }\n",
       "\n",
       "    .dataframe tbody tr th {\n",
       "        vertical-align: top;\n",
       "    }\n",
       "\n",
       "    .dataframe thead th {\n",
       "        text-align: right;\n",
       "    }\n",
       "</style>\n",
       "<table border=\"1\" class=\"dataframe\">\n",
       "  <thead>\n",
       "    <tr style=\"text-align: right;\">\n",
       "      <th></th>\n",
       "      <th>user_id</th>\n",
       "      <th>movie_id</th>\n",
       "      <th>rating</th>\n",
       "      <th>timestamp</th>\n",
       "      <th>gender</th>\n",
       "      <th>age</th>\n",
       "      <th>occupation</th>\n",
       "      <th>zip</th>\n",
       "      <th>title</th>\n",
       "      <th>genres</th>\n",
       "      <th>state</th>\n",
       "    </tr>\n",
       "  </thead>\n",
       "  <tbody>\n",
       "    <tr>\n",
       "      <th>31301</th>\n",
       "      <td>216</td>\n",
       "      <td>2031</td>\n",
       "      <td>2</td>\n",
       "      <td>2000-12-15 08:00:30</td>\n",
       "      <td>M</td>\n",
       "      <td>45-49</td>\n",
       "      <td>retired</td>\n",
       "      <td>52761</td>\n",
       "      <td>$1,000,000 Duck (1971)</td>\n",
       "      <td>children's|comedy</td>\n",
       "      <td>IA</td>\n",
       "    </tr>\n",
       "    <tr>\n",
       "      <th>71155</th>\n",
       "      <td>494</td>\n",
       "      <td>2031</td>\n",
       "      <td>5</td>\n",
       "      <td>2000-12-07 19:00:51</td>\n",
       "      <td>F</td>\n",
       "      <td>35-44</td>\n",
       "      <td>other</td>\n",
       "      <td>17870</td>\n",
       "      <td>$1,000,000 Duck (1971)</td>\n",
       "      <td>children's|comedy</td>\n",
       "      <td>PA</td>\n",
       "    </tr>\n",
       "    <tr>\n",
       "      <th>106124</th>\n",
       "      <td>714</td>\n",
       "      <td>2031</td>\n",
       "      <td>4</td>\n",
       "      <td>2000-12-02 18:45:11</td>\n",
       "      <td>M</td>\n",
       "      <td>18-24</td>\n",
       "      <td>college/grad student</td>\n",
       "      <td>76013</td>\n",
       "      <td>$1,000,000 Duck (1971)</td>\n",
       "      <td>children's|comedy</td>\n",
       "      <td>TX</td>\n",
       "    </tr>\n",
       "    <tr>\n",
       "      <th>131229</th>\n",
       "      <td>869</td>\n",
       "      <td>2031</td>\n",
       "      <td>1</td>\n",
       "      <td>2001-09-01 20:36:59</td>\n",
       "      <td>M</td>\n",
       "      <td>18-24</td>\n",
       "      <td>writer</td>\n",
       "      <td>92026</td>\n",
       "      <td>$1,000,000 Duck (1971)</td>\n",
       "      <td>children's|comedy</td>\n",
       "      <td>CA</td>\n",
       "    </tr>\n",
       "    <tr>\n",
       "      <th>158459</th>\n",
       "      <td>1034</td>\n",
       "      <td>2031</td>\n",
       "      <td>3</td>\n",
       "      <td>2000-11-24 19:15:19</td>\n",
       "      <td>F</td>\n",
       "      <td>35-44</td>\n",
       "      <td>academic/educator</td>\n",
       "      <td>82601</td>\n",
       "      <td>$1,000,000 Duck (1971)</td>\n",
       "      <td>children's|comedy</td>\n",
       "      <td>WY</td>\n",
       "    </tr>\n",
       "    <tr>\n",
       "      <th>...</th>\n",
       "      <td>...</td>\n",
       "      <td>...</td>\n",
       "      <td>...</td>\n",
       "      <td>...</td>\n",
       "      <td>...</td>\n",
       "      <td>...</td>\n",
       "      <td>...</td>\n",
       "      <td>...</td>\n",
       "      <td>...</td>\n",
       "      <td>...</td>\n",
       "      <td>...</td>\n",
       "    </tr>\n",
       "    <tr>\n",
       "      <th>777051</th>\n",
       "      <td>4784</td>\n",
       "      <td>2031</td>\n",
       "      <td>4</td>\n",
       "      <td>2000-09-26 20:26:33</td>\n",
       "      <td>F</td>\n",
       "      <td>35-44</td>\n",
       "      <td>doctor/health care</td>\n",
       "      <td>48105</td>\n",
       "      <td>$1,000,000 Duck (1971)</td>\n",
       "      <td>children's|comedy</td>\n",
       "      <td>MI</td>\n",
       "    </tr>\n",
       "    <tr>\n",
       "      <th>837752</th>\n",
       "      <td>5179</td>\n",
       "      <td>2031</td>\n",
       "      <td>1</td>\n",
       "      <td>2000-06-24 00:41:04</td>\n",
       "      <td>M</td>\n",
       "      <td>25-34</td>\n",
       "      <td>programmer</td>\n",
       "      <td>94110</td>\n",
       "      <td>$1,000,000 Duck (1971)</td>\n",
       "      <td>children's|comedy</td>\n",
       "      <td>CA</td>\n",
       "    </tr>\n",
       "    <tr>\n",
       "      <th>838901</th>\n",
       "      <td>5185</td>\n",
       "      <td>2031</td>\n",
       "      <td>3</td>\n",
       "      <td>2000-07-08 14:57:41</td>\n",
       "      <td>F</td>\n",
       "      <td>35-44</td>\n",
       "      <td>college/grad student</td>\n",
       "      <td>44485</td>\n",
       "      <td>$1,000,000 Duck (1971)</td>\n",
       "      <td>children's|comedy</td>\n",
       "      <td>OH</td>\n",
       "    </tr>\n",
       "    <tr>\n",
       "      <th>910197</th>\n",
       "      <td>5643</td>\n",
       "      <td>2031</td>\n",
       "      <td>2</td>\n",
       "      <td>2001-03-10 05:04:52</td>\n",
       "      <td>F</td>\n",
       "      <td>35-44</td>\n",
       "      <td>academic/educator</td>\n",
       "      <td>84108</td>\n",
       "      <td>$1,000,000 Duck (1971)</td>\n",
       "      <td>children's|comedy</td>\n",
       "      <td>UT</td>\n",
       "    </tr>\n",
       "    <tr>\n",
       "      <th>963383</th>\n",
       "      <td>5978</td>\n",
       "      <td>2031</td>\n",
       "      <td>2</td>\n",
       "      <td>2000-07-21 13:38:26</td>\n",
       "      <td>M</td>\n",
       "      <td>35-44</td>\n",
       "      <td>academic/educator</td>\n",
       "      <td>49307</td>\n",
       "      <td>$1,000,000 Duck (1971)</td>\n",
       "      <td>children's|comedy</td>\n",
       "      <td>MI</td>\n",
       "    </tr>\n",
       "  </tbody>\n",
       "</table>\n",
       "<p>36 rows × 11 columns</p>\n",
       "</div>"
      ],
      "text/plain": [
       "        user_id  movie_id  rating           timestamp gender    age  \\\n",
       "31301       216      2031       2 2000-12-15 08:00:30      M  45-49   \n",
       "71155       494      2031       5 2000-12-07 19:00:51      F  35-44   \n",
       "106124      714      2031       4 2000-12-02 18:45:11      M  18-24   \n",
       "131229      869      2031       1 2001-09-01 20:36:59      M  18-24   \n",
       "158459     1034      2031       3 2000-11-24 19:15:19      F  35-44   \n",
       "...         ...       ...     ...                 ...    ...    ...   \n",
       "777051     4784      2031       4 2000-09-26 20:26:33      F  35-44   \n",
       "837752     5179      2031       1 2000-06-24 00:41:04      M  25-34   \n",
       "838901     5185      2031       3 2000-07-08 14:57:41      F  35-44   \n",
       "910197     5643      2031       2 2001-03-10 05:04:52      F  35-44   \n",
       "963383     5978      2031       2 2000-07-21 13:38:26      M  35-44   \n",
       "\n",
       "                  occupation    zip                   title  \\\n",
       "31301                retired  52761  $1,000,000 Duck (1971)   \n",
       "71155                  other  17870  $1,000,000 Duck (1971)   \n",
       "106124  college/grad student  76013  $1,000,000 Duck (1971)   \n",
       "131229                writer  92026  $1,000,000 Duck (1971)   \n",
       "158459     academic/educator  82601  $1,000,000 Duck (1971)   \n",
       "...                      ...    ...                     ...   \n",
       "777051    doctor/health care  48105  $1,000,000 Duck (1971)   \n",
       "837752            programmer  94110  $1,000,000 Duck (1971)   \n",
       "838901  college/grad student  44485  $1,000,000 Duck (1971)   \n",
       "910197     academic/educator  84108  $1,000,000 Duck (1971)   \n",
       "963383     academic/educator  49307  $1,000,000 Duck (1971)   \n",
       "\n",
       "                   genres state  \n",
       "31301   children's|comedy    IA  \n",
       "71155   children's|comedy    PA  \n",
       "106124  children's|comedy    TX  \n",
       "131229  children's|comedy    CA  \n",
       "158459  children's|comedy    WY  \n",
       "...                   ...   ...  \n",
       "777051  children's|comedy    MI  \n",
       "837752  children's|comedy    CA  \n",
       "838901  children's|comedy    OH  \n",
       "910197  children's|comedy    UT  \n",
       "963383  children's|comedy    MI  \n",
       "\n",
       "[36 rows x 11 columns]"
      ]
     },
     "execution_count": 25,
     "metadata": {},
     "output_type": "execute_result"
    }
   ],
   "source": [
    "df_duck"
   ]
  },
  {
   "cell_type": "markdown",
   "metadata": {},
   "source": [
    "Let us group the data by `title` column and save the number of ratings for each move into `ratings_by_title` object."
   ]
  },
  {
   "cell_type": "code",
   "execution_count": 26,
   "metadata": {},
   "outputs": [],
   "source": [
    "ratings_by_title = df.groupby('title').size()"
   ]
  },
  {
   "cell_type": "code",
   "execution_count": 27,
   "metadata": {},
   "outputs": [
    {
     "data": {
      "text/plain": [
       "pandas.core.series.Series"
      ]
     },
     "execution_count": 27,
     "metadata": {},
     "output_type": "execute_result"
    }
   ],
   "source": [
    "type(ratings_by_title)"
   ]
  },
  {
   "cell_type": "markdown",
   "metadata": {},
   "source": [
    "### Series\n",
    "\n",
    "The data structure Series is a one-dimensional labeled array capable of holding any data type (integers, strings, floating point numbers, Python objects, etc.). The axis labels are collectively referred to as the *index*.\n",
    "\n",
    "Read more: [Data Structures: Series](https://pandas.pydata.org/docs/user_guide/dsintro.html#series)"
   ]
  },
  {
   "cell_type": "code",
   "execution_count": 28,
   "metadata": {},
   "outputs": [
    {
     "data": {
      "text/plain": [
       "title\n",
       "$1,000,000 Duck (1971)                         36\n",
       "'Night Mother (1986)                           68\n",
       "'Til There Was You (1997)                      50\n",
       "'burbs, The (1989)                            295\n",
       "...And Justice for All (1979)                 189\n",
       "                                             ... \n",
       "Zed & Two Noughts, A (1985)                    29\n",
       "Zero Effect (1998)                            293\n",
       "Zero Kelvin (Kjærlighetens kjøtere) (1995)      2\n",
       "Zeus and Roxanne (1997)                        21\n",
       "eXistenZ (1999)                               397\n",
       "Length: 3703, dtype: int64"
      ]
     },
     "execution_count": 28,
     "metadata": {},
     "output_type": "execute_result"
    }
   ],
   "source": [
    "ratings_by_title"
   ]
  },
  {
   "cell_type": "markdown",
   "metadata": {},
   "source": [
    "<mark>**Q2** How many times were movies rated on average?</mark>"
   ]
  },
  {
   "cell_type": "code",
   "execution_count": 29,
   "metadata": {},
   "outputs": [
    {
     "data": {
      "text/plain": [
       "count   3,703.00\n",
       "mean      262.81\n",
       "std       374.82\n",
       "min         1.00\n",
       "25%        32.00\n",
       "50%       120.00\n",
       "75%       340.50\n",
       "max     3,346.00\n",
       "dtype: float64"
      ]
     },
     "execution_count": 29,
     "metadata": {},
     "output_type": "execute_result"
    }
   ],
   "source": [
    "ratings_by_title.describe()"
   ]
  },
  {
   "cell_type": "code",
   "execution_count": 30,
   "metadata": {},
   "outputs": [
    {
     "data": {
      "text/plain": [
       "262.80799351876857"
      ]
     },
     "execution_count": 30,
     "metadata": {},
     "output_type": "execute_result"
    }
   ],
   "source": [
    "ratings_by_title.mean()"
   ]
  },
  {
   "cell_type": "code",
   "execution_count": 31,
   "metadata": {},
   "outputs": [
    {
     "data": {
      "text/plain": [
       "239.34000000000015"
      ]
     },
     "execution_count": 31,
     "metadata": {},
     "output_type": "execute_result"
    }
   ],
   "source": [
    "ratings_by_title.quantile(q=0.67)"
   ]
  },
  {
   "cell_type": "code",
   "execution_count": 32,
   "metadata": {},
   "outputs": [
    {
     "data": {
      "text/plain": [
       "True"
      ]
     },
     "execution_count": 32,
     "metadata": {},
     "output_type": "execute_result"
    }
   ],
   "source": [
    "ratings_by_title.quantile(q=0.50) == ratings_by_title.median()"
   ]
  },
  {
   "cell_type": "markdown",
   "metadata": {},
   "source": [
    "<mark>**Q3** Which are Top 10 most rated movies? (Note: not best rated!)</mark>"
   ]
  },
  {
   "cell_type": "code",
   "execution_count": 33,
   "metadata": {},
   "outputs": [
    {
     "data": {
      "text/plain": [
       "title\n",
       "American Beauty (1999)                                   3346\n",
       "Star Wars: Episode V - The Empire Strikes Back (1980)    2918\n",
       "Star Wars: Episode IV - A New Hope (1977)                2915\n",
       "Star Wars: Episode VI - Return of the Jedi (1983)        2811\n",
       "Terminator 2: Judgment Day (1991)                        2593\n",
       "Jurassic Park (1993)                                     2593\n",
       "Saving Private Ryan (1998)                               2591\n",
       "Matrix, The (1999)                                       2525\n",
       "Back to the Future (1985)                                2516\n",
       "Silence of the Lambs, The (1991)                         2514\n",
       "dtype: int64"
      ]
     },
     "execution_count": 33,
     "metadata": {},
     "output_type": "execute_result"
    }
   ],
   "source": [
    "ratings_by_title.sort_values(ascending=False).head(10)"
   ]
  },
  {
   "cell_type": "code",
   "execution_count": 34,
   "metadata": {},
   "outputs": [
    {
     "data": {
      "text/plain": [
       "Index(['American Beauty (1999)',\n",
       "       'Star Wars: Episode V - The Empire Strikes Back (1980)',\n",
       "       'Star Wars: Episode IV - A New Hope (1977)',\n",
       "       'Star Wars: Episode VI - Return of the Jedi (1983)',\n",
       "       'Terminator 2: Judgment Day (1991)', 'Jurassic Park (1993)',\n",
       "       'Saving Private Ryan (1998)', 'Matrix, The (1999)',\n",
       "       'Back to the Future (1985)', 'Silence of the Lambs, The (1991)'],\n",
       "      dtype='object', name='title')"
      ]
     },
     "execution_count": 34,
     "metadata": {},
     "output_type": "execute_result"
    }
   ],
   "source": [
    "ratings_by_title.sort_values(ascending=False).head(10).index"
   ]
  },
  {
   "cell_type": "code",
   "execution_count": 35,
   "metadata": {},
   "outputs": [
    {
     "data": {
      "text/plain": [
       "['American Beauty (1999)',\n",
       " 'Star Wars: Episode V - The Empire Strikes Back (1980)',\n",
       " 'Star Wars: Episode IV - A New Hope (1977)',\n",
       " 'Star Wars: Episode VI - Return of the Jedi (1983)',\n",
       " 'Terminator 2: Judgment Day (1991)',\n",
       " 'Jurassic Park (1993)',\n",
       " 'Saving Private Ryan (1998)',\n",
       " 'Matrix, The (1999)',\n",
       " 'Back to the Future (1985)',\n",
       " 'Silence of the Lambs, The (1991)']"
      ]
     },
     "execution_count": 35,
     "metadata": {},
     "output_type": "execute_result"
    }
   ],
   "source": [
    "ratings_by_title.sort_values(ascending=False).head(10).index.to_list()"
   ]
  },
  {
   "cell_type": "markdown",
   "metadata": {},
   "source": [
    "### Indexing\n",
    "\n",
    "We are now going to save the titles of all movies that were rated at least 250 times as `index`. Later we will be able to use this index to enable a quick access to movie titles.\n",
    "\n",
    "Read more: [Indexing and Selecting Data](https://pandas.pydata.org/pandas-docs/stable/user_guide/indexing.html)"
   ]
  },
  {
   "cell_type": "code",
   "execution_count": 36,
   "metadata": {},
   "outputs": [
    {
     "data": {
      "text/plain": [
       "Index(['$1,000,000 Duck (1971)', ''Night Mother (1986)',\n",
       "       ''Til There Was You (1997)', ''burbs, The (1989)',\n",
       "       '...And Justice for All (1979)', '1-900 (1994)',\n",
       "       '10 Things I Hate About You (1999)', '101 Dalmatians (1961)',\n",
       "       '101 Dalmatians (1996)', '12 Angry Men (1957)',\n",
       "       ...\n",
       "       'Young Poisoner's Handbook, The (1995)', 'Young Sherlock Holmes (1985)',\n",
       "       'Young and Innocent (1937)', 'Your Friends and Neighbors (1998)',\n",
       "       'Zachariah (1971)', 'Zed & Two Noughts, A (1985)', 'Zero Effect (1998)',\n",
       "       'Zero Kelvin (Kjærlighetens kjøtere) (1995)', 'Zeus and Roxanne (1997)',\n",
       "       'eXistenZ (1999)'],\n",
       "      dtype='object', name='title', length=3703)"
      ]
     },
     "execution_count": 36,
     "metadata": {},
     "output_type": "execute_result"
    }
   ],
   "source": [
    "ratings_by_title.index"
   ]
  },
  {
   "cell_type": "code",
   "execution_count": 37,
   "metadata": {},
   "outputs": [
    {
     "data": {
      "text/plain": [
       "title\n",
       "$1,000,000 Duck (1971)                        False\n",
       "'Night Mother (1986)                          False\n",
       "'Til There Was You (1997)                     False\n",
       "'burbs, The (1989)                             True\n",
       "...And Justice for All (1979)                 False\n",
       "                                              ...  \n",
       "Zed & Two Noughts, A (1985)                   False\n",
       "Zero Effect (1998)                             True\n",
       "Zero Kelvin (Kjærlighetens kjøtere) (1995)    False\n",
       "Zeus and Roxanne (1997)                       False\n",
       "eXistenZ (1999)                                True\n",
       "Length: 3703, dtype: bool"
      ]
     },
     "execution_count": 37,
     "metadata": {},
     "output_type": "execute_result"
    }
   ],
   "source": [
    "ratings_by_title >= 250"
   ]
  },
  {
   "cell_type": "code",
   "execution_count": 38,
   "metadata": {},
   "outputs": [
    {
     "data": {
      "text/plain": [
       "Index([''burbs, The (1989)', '10 Things I Hate About You (1999)',\n",
       "       '101 Dalmatians (1961)', '101 Dalmatians (1996)', '12 Angry Men (1957)',\n",
       "       '13th Warrior, The (1999)', '2 Days in the Valley (1996)',\n",
       "       '20,000 Leagues Under the Sea (1954)', '2001: A Space Odyssey (1968)',\n",
       "       '2010 (1984)',\n",
       "       ...\n",
       "       'X-Men (2000)', 'Year of Living Dangerously (1982)',\n",
       "       'Yellow Submarine (1968)', 'You've Got Mail (1998)',\n",
       "       'Young Frankenstein (1974)', 'Young Guns (1988)',\n",
       "       'Young Guns II (1990)', 'Young Sherlock Holmes (1985)',\n",
       "       'Zero Effect (1998)', 'eXistenZ (1999)'],\n",
       "      dtype='object', name='title', length=1191)"
      ]
     },
     "execution_count": 38,
     "metadata": {},
     "output_type": "execute_result"
    }
   ],
   "source": [
    "ratings_by_title.index[ratings_by_title >= 250]"
   ]
  },
  {
   "cell_type": "code",
   "execution_count": 39,
   "metadata": {},
   "outputs": [],
   "source": [
    "active_titles = ratings_by_title.index[ratings_by_title >= 250]"
   ]
  },
  {
   "cell_type": "code",
   "execution_count": 40,
   "metadata": {},
   "outputs": [
    {
     "data": {
      "text/plain": [
       "Index([''burbs, The (1989)', '10 Things I Hate About You (1999)',\n",
       "       '101 Dalmatians (1961)', '101 Dalmatians (1996)', '12 Angry Men (1957)',\n",
       "       '13th Warrior, The (1999)', '2 Days in the Valley (1996)',\n",
       "       '20,000 Leagues Under the Sea (1954)', '2001: A Space Odyssey (1968)',\n",
       "       '2010 (1984)'],\n",
       "      dtype='object', name='title')"
      ]
     },
     "execution_count": 40,
     "metadata": {},
     "output_type": "execute_result"
    }
   ],
   "source": [
    "active_titles[:10]"
   ]
  },
  {
   "cell_type": "code",
   "execution_count": 41,
   "metadata": {},
   "outputs": [
    {
     "data": {
      "text/plain": [
       "'2001: A Space Odyssey (1968)'"
      ]
     },
     "execution_count": 41,
     "metadata": {},
     "output_type": "execute_result"
    }
   ],
   "source": [
    "active_titles[8]"
   ]
  },
  {
   "cell_type": "markdown",
   "metadata": {},
   "source": [
    "<h3>Pivot Tables</h3>\n",
    "\n",
    "A pivot table is a data summarization tool frequently found in spreadsheet programs and other analysis software. It aggregates a table of data by one or more keys, arranging the data in rectangle with some of the group keys along the rows and some along the columns.\n",
    "\n",
    "Read more: [Reshaping and Pivot Tables](https://pandas.pydata.org/pandas-docs/stable/user_guide/reshaping.html)"
   ]
  },
  {
   "cell_type": "markdown",
   "metadata": {},
   "source": [
    "![Pivot](https://pandas.pydata.org/pandas-docs/stable/_images/reshaping_pivot.png)"
   ]
  },
  {
   "cell_type": "markdown",
   "metadata": {},
   "source": [
    "<mark>**Q4** What are Top 10 (best rated) movies according to females?</mark>"
   ]
  },
  {
   "cell_type": "code",
   "execution_count": 42,
   "metadata": {},
   "outputs": [
    {
     "data": {
      "text/html": [
       "<div>\n",
       "<style scoped>\n",
       "    .dataframe tbody tr th:only-of-type {\n",
       "        vertical-align: middle;\n",
       "    }\n",
       "\n",
       "    .dataframe tbody tr th {\n",
       "        vertical-align: top;\n",
       "    }\n",
       "\n",
       "    .dataframe thead th {\n",
       "        text-align: right;\n",
       "    }\n",
       "</style>\n",
       "<table border=\"1\" class=\"dataframe\">\n",
       "  <thead>\n",
       "    <tr style=\"text-align: right;\">\n",
       "      <th></th>\n",
       "      <th>user_id</th>\n",
       "      <th>movie_id</th>\n",
       "      <th>rating</th>\n",
       "      <th>timestamp</th>\n",
       "      <th>gender</th>\n",
       "      <th>age</th>\n",
       "      <th>occupation</th>\n",
       "      <th>zip</th>\n",
       "      <th>title</th>\n",
       "      <th>genres</th>\n",
       "      <th>state</th>\n",
       "    </tr>\n",
       "  </thead>\n",
       "  <tbody>\n",
       "    <tr>\n",
       "      <th>0</th>\n",
       "      <td>1</td>\n",
       "      <td>1193</td>\n",
       "      <td>5</td>\n",
       "      <td>2000-12-31 22:12:40</td>\n",
       "      <td>F</td>\n",
       "      <td>Under 18</td>\n",
       "      <td>K-12 student</td>\n",
       "      <td>48067</td>\n",
       "      <td>One Flew Over the Cuckoo's Nest (1975)</td>\n",
       "      <td>drama</td>\n",
       "      <td>MI</td>\n",
       "    </tr>\n",
       "    <tr>\n",
       "      <th>1</th>\n",
       "      <td>1</td>\n",
       "      <td>661</td>\n",
       "      <td>3</td>\n",
       "      <td>2000-12-31 22:35:09</td>\n",
       "      <td>F</td>\n",
       "      <td>Under 18</td>\n",
       "      <td>K-12 student</td>\n",
       "      <td>48067</td>\n",
       "      <td>James and the Giant Peach (1996)</td>\n",
       "      <td>animation|children's|musical</td>\n",
       "      <td>MI</td>\n",
       "    </tr>\n",
       "    <tr>\n",
       "      <th>2</th>\n",
       "      <td>1</td>\n",
       "      <td>914</td>\n",
       "      <td>3</td>\n",
       "      <td>2000-12-31 22:32:48</td>\n",
       "      <td>F</td>\n",
       "      <td>Under 18</td>\n",
       "      <td>K-12 student</td>\n",
       "      <td>48067</td>\n",
       "      <td>My Fair Lady (1964)</td>\n",
       "      <td>musical|romance</td>\n",
       "      <td>MI</td>\n",
       "    </tr>\n",
       "    <tr>\n",
       "      <th>3</th>\n",
       "      <td>1</td>\n",
       "      <td>3408</td>\n",
       "      <td>4</td>\n",
       "      <td>2000-12-31 22:04:35</td>\n",
       "      <td>F</td>\n",
       "      <td>Under 18</td>\n",
       "      <td>K-12 student</td>\n",
       "      <td>48067</td>\n",
       "      <td>Erin Brockovich (2000)</td>\n",
       "      <td>drama</td>\n",
       "      <td>MI</td>\n",
       "    </tr>\n",
       "    <tr>\n",
       "      <th>4</th>\n",
       "      <td>1</td>\n",
       "      <td>2355</td>\n",
       "      <td>5</td>\n",
       "      <td>2001-01-06 23:38:11</td>\n",
       "      <td>F</td>\n",
       "      <td>Under 18</td>\n",
       "      <td>K-12 student</td>\n",
       "      <td>48067</td>\n",
       "      <td>Bug's Life, A (1998)</td>\n",
       "      <td>animation|children's|comedy</td>\n",
       "      <td>MI</td>\n",
       "    </tr>\n",
       "  </tbody>\n",
       "</table>\n",
       "</div>"
      ],
      "text/plain": [
       "   user_id  movie_id  rating           timestamp gender       age  \\\n",
       "0        1      1193       5 2000-12-31 22:12:40      F  Under 18   \n",
       "1        1       661       3 2000-12-31 22:35:09      F  Under 18   \n",
       "2        1       914       3 2000-12-31 22:32:48      F  Under 18   \n",
       "3        1      3408       4 2000-12-31 22:04:35      F  Under 18   \n",
       "4        1      2355       5 2001-01-06 23:38:11      F  Under 18   \n",
       "\n",
       "     occupation    zip                                   title  \\\n",
       "0  K-12 student  48067  One Flew Over the Cuckoo's Nest (1975)   \n",
       "1  K-12 student  48067        James and the Giant Peach (1996)   \n",
       "2  K-12 student  48067                     My Fair Lady (1964)   \n",
       "3  K-12 student  48067                  Erin Brockovich (2000)   \n",
       "4  K-12 student  48067                    Bug's Life, A (1998)   \n",
       "\n",
       "                         genres state  \n",
       "0                         drama    MI  \n",
       "1  animation|children's|musical    MI  \n",
       "2               musical|romance    MI  \n",
       "3                         drama    MI  \n",
       "4   animation|children's|comedy    MI  "
      ]
     },
     "execution_count": 42,
     "metadata": {},
     "output_type": "execute_result"
    }
   ],
   "source": [
    "df.head()"
   ]
  },
  {
   "cell_type": "code",
   "execution_count": 43,
   "metadata": {},
   "outputs": [],
   "source": [
    "mean_ratings = df.pivot_table('rating', index='title', columns='gender', aggfunc='mean')"
   ]
  },
  {
   "cell_type": "code",
   "execution_count": 44,
   "metadata": {},
   "outputs": [
    {
     "data": {
      "text/html": [
       "<div>\n",
       "<style scoped>\n",
       "    .dataframe tbody tr th:only-of-type {\n",
       "        vertical-align: middle;\n",
       "    }\n",
       "\n",
       "    .dataframe tbody tr th {\n",
       "        vertical-align: top;\n",
       "    }\n",
       "\n",
       "    .dataframe thead th {\n",
       "        text-align: right;\n",
       "    }\n",
       "</style>\n",
       "<table border=\"1\" class=\"dataframe\">\n",
       "  <thead>\n",
       "    <tr style=\"text-align: right;\">\n",
       "      <th>gender</th>\n",
       "      <th>F</th>\n",
       "      <th>M</th>\n",
       "    </tr>\n",
       "    <tr>\n",
       "      <th>title</th>\n",
       "      <th></th>\n",
       "      <th></th>\n",
       "    </tr>\n",
       "  </thead>\n",
       "  <tbody>\n",
       "    <tr>\n",
       "      <th>$1,000,000 Duck (1971)</th>\n",
       "      <td>3.40</td>\n",
       "      <td>2.76</td>\n",
       "    </tr>\n",
       "    <tr>\n",
       "      <th>'Night Mother (1986)</th>\n",
       "      <td>3.39</td>\n",
       "      <td>3.25</td>\n",
       "    </tr>\n",
       "    <tr>\n",
       "      <th>'Til There Was You (1997)</th>\n",
       "      <td>2.69</td>\n",
       "      <td>2.73</td>\n",
       "    </tr>\n",
       "    <tr>\n",
       "      <th>'burbs, The (1989)</th>\n",
       "      <td>2.79</td>\n",
       "      <td>2.96</td>\n",
       "    </tr>\n",
       "    <tr>\n",
       "      <th>...And Justice for All (1979)</th>\n",
       "      <td>3.82</td>\n",
       "      <td>3.69</td>\n",
       "    </tr>\n",
       "  </tbody>\n",
       "</table>\n",
       "</div>"
      ],
      "text/plain": [
       "gender                           F    M\n",
       "title                                  \n",
       "$1,000,000 Duck (1971)        3.40 2.76\n",
       "'Night Mother (1986)          3.39 3.25\n",
       "'Til There Was You (1997)     2.69 2.73\n",
       "'burbs, The (1989)            2.79 2.96\n",
       "...And Justice for All (1979) 3.82 3.69"
      ]
     },
     "execution_count": 44,
     "metadata": {},
     "output_type": "execute_result"
    }
   ],
   "source": [
    "mean_ratings.head()"
   ]
  },
  {
   "cell_type": "markdown",
   "metadata": {},
   "source": [
    "We are interested only in active titles."
   ]
  },
  {
   "cell_type": "code",
   "execution_count": 45,
   "metadata": {},
   "outputs": [
    {
     "data": {
      "text/plain": [
       "Index([''burbs, The (1989)', '10 Things I Hate About You (1999)',\n",
       "       '101 Dalmatians (1961)', '101 Dalmatians (1996)', '12 Angry Men (1957)',\n",
       "       '13th Warrior, The (1999)', '2 Days in the Valley (1996)',\n",
       "       '20,000 Leagues Under the Sea (1954)', '2001: A Space Odyssey (1968)',\n",
       "       '2010 (1984)',\n",
       "       ...\n",
       "       'X-Men (2000)', 'Year of Living Dangerously (1982)',\n",
       "       'Yellow Submarine (1968)', 'You've Got Mail (1998)',\n",
       "       'Young Frankenstein (1974)', 'Young Guns (1988)',\n",
       "       'Young Guns II (1990)', 'Young Sherlock Holmes (1985)',\n",
       "       'Zero Effect (1998)', 'eXistenZ (1999)'],\n",
       "      dtype='object', name='title', length=1191)"
      ]
     },
     "execution_count": 45,
     "metadata": {},
     "output_type": "execute_result"
    }
   ],
   "source": [
    "active_titles"
   ]
  },
  {
   "cell_type": "code",
   "execution_count": 46,
   "metadata": {},
   "outputs": [],
   "source": [
    "mean_ratings = mean_ratings.loc[active_titles]"
   ]
  },
  {
   "cell_type": "code",
   "execution_count": 47,
   "metadata": {},
   "outputs": [
    {
     "data": {
      "text/html": [
       "<div>\n",
       "<style scoped>\n",
       "    .dataframe tbody tr th:only-of-type {\n",
       "        vertical-align: middle;\n",
       "    }\n",
       "\n",
       "    .dataframe tbody tr th {\n",
       "        vertical-align: top;\n",
       "    }\n",
       "\n",
       "    .dataframe thead th {\n",
       "        text-align: right;\n",
       "    }\n",
       "</style>\n",
       "<table border=\"1\" class=\"dataframe\">\n",
       "  <thead>\n",
       "    <tr style=\"text-align: right;\">\n",
       "      <th>gender</th>\n",
       "      <th>F</th>\n",
       "      <th>M</th>\n",
       "    </tr>\n",
       "    <tr>\n",
       "      <th>title</th>\n",
       "      <th></th>\n",
       "      <th></th>\n",
       "    </tr>\n",
       "  </thead>\n",
       "  <tbody>\n",
       "    <tr>\n",
       "      <th>'burbs, The (1989)</th>\n",
       "      <td>2.79</td>\n",
       "      <td>2.96</td>\n",
       "    </tr>\n",
       "    <tr>\n",
       "      <th>10 Things I Hate About You (1999)</th>\n",
       "      <td>3.67</td>\n",
       "      <td>3.31</td>\n",
       "    </tr>\n",
       "    <tr>\n",
       "      <th>101 Dalmatians (1961)</th>\n",
       "      <td>3.81</td>\n",
       "      <td>3.49</td>\n",
       "    </tr>\n",
       "    <tr>\n",
       "      <th>101 Dalmatians (1996)</th>\n",
       "      <td>3.27</td>\n",
       "      <td>2.90</td>\n",
       "    </tr>\n",
       "    <tr>\n",
       "      <th>12 Angry Men (1957)</th>\n",
       "      <td>4.21</td>\n",
       "      <td>4.32</td>\n",
       "    </tr>\n",
       "  </tbody>\n",
       "</table>\n",
       "</div>"
      ],
      "text/plain": [
       "gender                               F    M\n",
       "title                                      \n",
       "'burbs, The (1989)                2.79 2.96\n",
       "10 Things I Hate About You (1999) 3.67 3.31\n",
       "101 Dalmatians (1961)             3.81 3.49\n",
       "101 Dalmatians (1996)             3.27 2.90\n",
       "12 Angry Men (1957)               4.21 4.32"
      ]
     },
     "execution_count": 47,
     "metadata": {},
     "output_type": "execute_result"
    }
   ],
   "source": [
    "mean_ratings.head()"
   ]
  },
  {
   "cell_type": "code",
   "execution_count": 48,
   "metadata": {},
   "outputs": [
    {
     "data": {
      "text/plain": [
       "title\n",
       "Close Shave, A (1995)                                    4.66\n",
       "Wrong Trousers, The (1993)                               4.59\n",
       "Schindler's List (1993)                                  4.57\n",
       "Sunset Blvd. (a.k.a. Sunset Boulevard) (1950)            4.56\n",
       "Wallace & Gromit: The Best of Aardman Animation (1996)   4.56\n",
       "Grand Day Out, A (1992)                                  4.56\n",
       "To Kill a Mockingbird (1962)                             4.54\n",
       "Shawshank Redemption, The (1994)                         4.53\n",
       "Usual Suspects, The (1995)                               4.52\n",
       "Creature Comforts (1990)                                 4.51\n",
       "Name: F, dtype: float64"
      ]
     },
     "execution_count": 48,
     "metadata": {},
     "output_type": "execute_result"
    }
   ],
   "source": [
    "mean_ratings['F'].sort_values(ascending=False).head(10)"
   ]
  },
  {
   "cell_type": "code",
   "execution_count": 49,
   "metadata": {},
   "outputs": [
    {
     "data": {
      "text/plain": [
       "['Close Shave, A (1995)',\n",
       " 'Wrong Trousers, The (1993)',\n",
       " \"Schindler's List (1993)\",\n",
       " 'Sunset Blvd. (a.k.a. Sunset Boulevard) (1950)',\n",
       " 'Wallace & Gromit: The Best of Aardman Animation (1996)',\n",
       " 'Grand Day Out, A (1992)',\n",
       " 'To Kill a Mockingbird (1962)',\n",
       " 'Shawshank Redemption, The (1994)',\n",
       " 'Usual Suspects, The (1995)',\n",
       " 'Creature Comforts (1990)']"
      ]
     },
     "execution_count": 49,
     "metadata": {},
     "output_type": "execute_result"
    }
   ],
   "source": [
    "mean_ratings['F'].sort_values(ascending=False).head(10).index.to_list()"
   ]
  },
  {
   "cell_type": "code",
   "execution_count": 50,
   "metadata": {},
   "outputs": [],
   "source": [
    "top_female_ratings = mean_ratings['F'].sort_values(ascending=False)"
   ]
  },
  {
   "cell_type": "code",
   "execution_count": 51,
   "metadata": {},
   "outputs": [
    {
     "data": {
      "text/plain": [
       "title\n",
       "Close Shave, A (1995)                                    4.66\n",
       "Wrong Trousers, The (1993)                               4.59\n",
       "Schindler's List (1993)                                  4.57\n",
       "Sunset Blvd. (a.k.a. Sunset Boulevard) (1950)            4.56\n",
       "Wallace & Gromit: The Best of Aardman Animation (1996)   4.56\n",
       "Grand Day Out, A (1992)                                  4.56\n",
       "To Kill a Mockingbird (1962)                             4.54\n",
       "Shawshank Redemption, The (1994)                         4.53\n",
       "Usual Suspects, The (1995)                               4.52\n",
       "Creature Comforts (1990)                                 4.51\n",
       "Name: F, dtype: float64"
      ]
     },
     "execution_count": 51,
     "metadata": {},
     "output_type": "execute_result"
    }
   ],
   "source": [
    "top_female_ratings[:10]"
   ]
  },
  {
   "cell_type": "markdown",
   "metadata": {},
   "source": [
    "<mark>**Q5** What are Top 10 (best rated) movies according to males?</mark>"
   ]
  },
  {
   "cell_type": "code",
   "execution_count": 52,
   "metadata": {},
   "outputs": [],
   "source": [
    "top_male_ratings = mean_ratings['M'].sort_values(ascending=False)"
   ]
  },
  {
   "cell_type": "code",
   "execution_count": 53,
   "metadata": {},
   "outputs": [
    {
     "data": {
      "text/plain": [
       "title\n",
       "Godfather, The (1972)                         4.58\n",
       "Seven Samurai (Shichinin no samurai) (1954)   4.57\n",
       "Shawshank Redemption, The (1994)              4.56\n",
       "Raiders of the Lost Ark (1981)                4.52\n",
       "Usual Suspects, The (1995)                    4.51\n",
       "Schindler's List (1993)                       4.49\n",
       "Star Wars: Episode IV - A New Hope (1977)     4.49\n",
       "Wrong Trousers, The (1993)                    4.48\n",
       "Close Shave, A (1995)                         4.48\n",
       "Double Indemnity (1944)                       4.47\n",
       "Name: M, dtype: float64"
      ]
     },
     "execution_count": 53,
     "metadata": {},
     "output_type": "execute_result"
    }
   ],
   "source": [
    "top_male_ratings.head(10)"
   ]
  },
  {
   "cell_type": "code",
   "execution_count": 54,
   "metadata": {},
   "outputs": [
    {
     "data": {
      "text/plain": [
       "['Godfather, The (1972)',\n",
       " 'Seven Samurai (Shichinin no samurai) (1954)',\n",
       " 'Shawshank Redemption, The (1994)',\n",
       " 'Raiders of the Lost Ark (1981)',\n",
       " 'Usual Suspects, The (1995)',\n",
       " \"Schindler's List (1993)\",\n",
       " 'Star Wars: Episode IV - A New Hope (1977)',\n",
       " 'Wrong Trousers, The (1993)',\n",
       " 'Close Shave, A (1995)',\n",
       " 'Double Indemnity (1944)']"
      ]
     },
     "execution_count": 54,
     "metadata": {},
     "output_type": "execute_result"
    }
   ],
   "source": [
    "top_male_ratings.head(10).index.to_list()"
   ]
  },
  {
   "cell_type": "markdown",
   "metadata": {},
   "source": [
    "<h3>Cross Tabulations: Crosstab</h3>\n",
    "\n",
    "A cross-tabulation is a special case of a pivot table that computes group frequencies.\n",
    "\n",
    "Use the crosstab function to compute a cross-tabulation of two (or more) factors. By default crosstab computes a frequency table of the factors unless an array of values and an aggregation function are passed.\n",
    "\n",
    "Read more: [Cross tabulations](https://pandas.pydata.org/pandas-docs/stable/user_guide/reshaping.html#cross-tabulations)"
   ]
  },
  {
   "cell_type": "code",
   "execution_count": 55,
   "metadata": {},
   "outputs": [
    {
     "data": {
      "text/html": [
       "<div>\n",
       "<style scoped>\n",
       "    .dataframe tbody tr th:only-of-type {\n",
       "        vertical-align: middle;\n",
       "    }\n",
       "\n",
       "    .dataframe tbody tr th {\n",
       "        vertical-align: top;\n",
       "    }\n",
       "\n",
       "    .dataframe thead th {\n",
       "        text-align: right;\n",
       "    }\n",
       "</style>\n",
       "<table border=\"1\" class=\"dataframe\">\n",
       "  <thead>\n",
       "    <tr style=\"text-align: right;\">\n",
       "      <th>age</th>\n",
       "      <th>18-24</th>\n",
       "      <th>25-34</th>\n",
       "      <th>35-44</th>\n",
       "      <th>45-49</th>\n",
       "      <th>50-55</th>\n",
       "      <th>56+</th>\n",
       "      <th>Under 18</th>\n",
       "    </tr>\n",
       "    <tr>\n",
       "      <th>gender</th>\n",
       "      <th></th>\n",
       "      <th></th>\n",
       "      <th></th>\n",
       "      <th></th>\n",
       "      <th></th>\n",
       "      <th></th>\n",
       "      <th></th>\n",
       "    </tr>\n",
       "  </thead>\n",
       "  <tbody>\n",
       "    <tr>\n",
       "      <th>F</th>\n",
       "      <td>43485</td>\n",
       "      <td>90013</td>\n",
       "      <td>48168</td>\n",
       "      <td>23699</td>\n",
       "      <td>17992</td>\n",
       "      <td>8773</td>\n",
       "      <td>8246</td>\n",
       "    </tr>\n",
       "    <tr>\n",
       "      <th>M</th>\n",
       "      <td>135791</td>\n",
       "      <td>296524</td>\n",
       "      <td>144718</td>\n",
       "      <td>57120</td>\n",
       "      <td>52306</td>\n",
       "      <td>28382</td>\n",
       "      <td>17961</td>\n",
       "    </tr>\n",
       "  </tbody>\n",
       "</table>\n",
       "</div>"
      ],
      "text/plain": [
       "age      18-24   25-34   35-44  45-49  50-55    56+  Under 18\n",
       "gender                                                       \n",
       "F        43485   90013   48168  23699  17992   8773      8246\n",
       "M       135791  296524  144718  57120  52306  28382     17961"
      ]
     },
     "execution_count": 55,
     "metadata": {},
     "output_type": "execute_result"
    }
   ],
   "source": [
    "pd.crosstab(df.gender, df.age)"
   ]
  },
  {
   "cell_type": "markdown",
   "metadata": {},
   "source": [
    "<mark>**Q6** Which age groups are best represented?</mark>\n",
    "\n",
    "*Visualize results in order to obtain a clear answer.*"
   ]
  },
  {
   "cell_type": "code",
   "execution_count": 56,
   "metadata": {},
   "outputs": [
    {
     "data": {
      "text/html": [
       "<div>\n",
       "<style scoped>\n",
       "    .dataframe tbody tr th:only-of-type {\n",
       "        vertical-align: middle;\n",
       "    }\n",
       "\n",
       "    .dataframe tbody tr th {\n",
       "        vertical-align: top;\n",
       "    }\n",
       "\n",
       "    .dataframe thead th {\n",
       "        text-align: right;\n",
       "    }\n",
       "</style>\n",
       "<table border=\"1\" class=\"dataframe\">\n",
       "  <thead>\n",
       "    <tr style=\"text-align: right;\">\n",
       "      <th>age</th>\n",
       "      <th>18-24</th>\n",
       "      <th>25-34</th>\n",
       "      <th>35-44</th>\n",
       "      <th>45-49</th>\n",
       "      <th>50-55</th>\n",
       "      <th>56+</th>\n",
       "      <th>Under 18</th>\n",
       "      <th>All</th>\n",
       "    </tr>\n",
       "    <tr>\n",
       "      <th>gender</th>\n",
       "      <th></th>\n",
       "      <th></th>\n",
       "      <th></th>\n",
       "      <th></th>\n",
       "      <th></th>\n",
       "      <th></th>\n",
       "      <th></th>\n",
       "      <th></th>\n",
       "    </tr>\n",
       "  </thead>\n",
       "  <tbody>\n",
       "    <tr>\n",
       "      <th>F</th>\n",
       "      <td>43485</td>\n",
       "      <td>90013</td>\n",
       "      <td>48168</td>\n",
       "      <td>23699</td>\n",
       "      <td>17992</td>\n",
       "      <td>8773</td>\n",
       "      <td>8246</td>\n",
       "      <td>240376</td>\n",
       "    </tr>\n",
       "    <tr>\n",
       "      <th>M</th>\n",
       "      <td>135791</td>\n",
       "      <td>296524</td>\n",
       "      <td>144718</td>\n",
       "      <td>57120</td>\n",
       "      <td>52306</td>\n",
       "      <td>28382</td>\n",
       "      <td>17961</td>\n",
       "      <td>732802</td>\n",
       "    </tr>\n",
       "    <tr>\n",
       "      <th>All</th>\n",
       "      <td>179276</td>\n",
       "      <td>386537</td>\n",
       "      <td>192886</td>\n",
       "      <td>80819</td>\n",
       "      <td>70298</td>\n",
       "      <td>37155</td>\n",
       "      <td>26207</td>\n",
       "      <td>973178</td>\n",
       "    </tr>\n",
       "  </tbody>\n",
       "</table>\n",
       "</div>"
      ],
      "text/plain": [
       "age      18-24   25-34   35-44  45-49  50-55    56+  Under 18     All\n",
       "gender                                                               \n",
       "F        43485   90013   48168  23699  17992   8773      8246  240376\n",
       "M       135791  296524  144718  57120  52306  28382     17961  732802\n",
       "All     179276  386537  192886  80819  70298  37155     26207  973178"
      ]
     },
     "execution_count": 56,
     "metadata": {},
     "output_type": "execute_result"
    }
   ],
   "source": [
    "# Add subtotals.\n",
    "pd.crosstab(df.gender, df.age, margins=True)"
   ]
  },
  {
   "cell_type": "code",
   "execution_count": 57,
   "metadata": {},
   "outputs": [
    {
     "data": {
      "image/png": "[encoded data removed]",
      "text/plain": [
       "<Figure size 640x480 with 1 Axes>"
      ]
     },
     "metadata": {},
     "output_type": "display_data"
    }
   ],
   "source": [
    "pd.crosstab(df.gender, df.age).plot(kind='bar');"
   ]
  },
  {
   "cell_type": "code",
   "execution_count": 58,
   "metadata": {},
   "outputs": [
    {
     "data": {
      "image/png": "[encoded data removed]",
      "text/plain": [
       "<Figure size 1000x600 with 1 Axes>"
      ]
     },
     "metadata": {},
     "output_type": "display_data"
    }
   ],
   "source": [
    "# It is always a good idea to visualize data when possible.\n",
    "pd.crosstab(df.gender, df.age).plot(kind='barh', figsize=(10,6));"
   ]
  },
  {
   "cell_type": "markdown",
   "metadata": {},
   "source": [
    "<mark>**Q7** Which occupations are best represented?</mark>\n",
    "\n",
    "*Visualize results in order to obtain a clear answer.*"
   ]
  },
  {
   "cell_type": "code",
   "execution_count": 59,
   "metadata": {},
   "outputs": [],
   "source": [
    "pd.set_option('display.max_rows', 23)"
   ]
  },
  {
   "cell_type": "code",
   "execution_count": 60,
   "metadata": {},
   "outputs": [],
   "source": [
    "movies_crosstab = pd.crosstab([df.gender, df.age], df.occupation, margins=True).T"
   ]
  },
  {
   "cell_type": "code",
   "execution_count": 61,
   "metadata": {},
   "outputs": [
    {
     "data": {
      "text/html": [
       "<div>\n",
       "<style scoped>\n",
       "    .dataframe tbody tr th:only-of-type {\n",
       "        vertical-align: middle;\n",
       "    }\n",
       "\n",
       "    .dataframe tbody tr th {\n",
       "        vertical-align: top;\n",
       "    }\n",
       "\n",
       "    .dataframe thead tr th {\n",
       "        text-align: left;\n",
       "    }\n",
       "\n",
       "    .dataframe thead tr:last-of-type th {\n",
       "        text-align: right;\n",
       "    }\n",
       "</style>\n",
       "<table border=\"1\" class=\"dataframe\">\n",
       "  <thead>\n",
       "    <tr>\n",
       "      <th>gender</th>\n",
       "      <th colspan=\"7\" halign=\"left\">F</th>\n",
       "      <th colspan=\"7\" halign=\"left\">M</th>\n",
       "      <th>All</th>\n",
       "    </tr>\n",
       "    <tr>\n",
       "      <th>age</th>\n",
       "      <th>18-24</th>\n",
       "      <th>25-34</th>\n",
       "      <th>35-44</th>\n",
       "      <th>45-49</th>\n",
       "      <th>50-55</th>\n",
       "      <th>56+</th>\n",
       "      <th>Under 18</th>\n",
       "      <th>18-24</th>\n",
       "      <th>25-34</th>\n",
       "      <th>35-44</th>\n",
       "      <th>45-49</th>\n",
       "      <th>50-55</th>\n",
       "      <th>56+</th>\n",
       "      <th>Under 18</th>\n",
       "      <th></th>\n",
       "    </tr>\n",
       "    <tr>\n",
       "      <th>occupation</th>\n",
       "      <th></th>\n",
       "      <th></th>\n",
       "      <th></th>\n",
       "      <th></th>\n",
       "      <th></th>\n",
       "      <th></th>\n",
       "      <th></th>\n",
       "      <th></th>\n",
       "      <th></th>\n",
       "      <th></th>\n",
       "      <th></th>\n",
       "      <th></th>\n",
       "      <th></th>\n",
       "      <th></th>\n",
       "      <th></th>\n",
       "    </tr>\n",
       "  </thead>\n",
       "  <tbody>\n",
       "    <tr>\n",
       "      <th>K-12 student</th>\n",
       "      <td>168</td>\n",
       "      <td>0</td>\n",
       "      <td>0</td>\n",
       "      <td>0</td>\n",
       "      <td>0</td>\n",
       "      <td>0</td>\n",
       "      <td>6304</td>\n",
       "      <td>2695</td>\n",
       "      <td>50</td>\n",
       "      <td>302</td>\n",
       "      <td>0</td>\n",
       "      <td>0</td>\n",
       "      <td>204</td>\n",
       "      <td>12560</td>\n",
       "      <td>22283</td>\n",
       "    </tr>\n",
       "    <tr>\n",
       "      <th>academic/educator</th>\n",
       "      <td>3240</td>\n",
       "      <td>13013</td>\n",
       "      <td>6221</td>\n",
       "      <td>5754</td>\n",
       "      <td>2747</td>\n",
       "      <td>1180</td>\n",
       "      <td>297</td>\n",
       "      <td>3730</td>\n",
       "      <td>19688</td>\n",
       "      <td>11115</td>\n",
       "      <td>6772</td>\n",
       "      <td>5339</td>\n",
       "      <td>4011</td>\n",
       "      <td>300</td>\n",
       "      <td>83407</td>\n",
       "    </tr>\n",
       "    <tr>\n",
       "      <th>artist</th>\n",
       "      <td>3544</td>\n",
       "      <td>5301</td>\n",
       "      <td>2861</td>\n",
       "      <td>1828</td>\n",
       "      <td>1326</td>\n",
       "      <td>865</td>\n",
       "      <td>176</td>\n",
       "      <td>4512</td>\n",
       "      <td>18024</td>\n",
       "      <td>6130</td>\n",
       "      <td>2409</td>\n",
       "      <td>1308</td>\n",
       "      <td>407</td>\n",
       "      <td>92</td>\n",
       "      <td>48783</td>\n",
       "    </tr>\n",
       "    <tr>\n",
       "      <th>clerical/admin</th>\n",
       "      <td>1029</td>\n",
       "      <td>7621</td>\n",
       "      <td>3229</td>\n",
       "      <td>855</td>\n",
       "      <td>677</td>\n",
       "      <td>708</td>\n",
       "      <td>0</td>\n",
       "      <td>2173</td>\n",
       "      <td>6927</td>\n",
       "      <td>3948</td>\n",
       "      <td>2078</td>\n",
       "      <td>1222</td>\n",
       "      <td>716</td>\n",
       "      <td>0</td>\n",
       "      <td>31183</td>\n",
       "    </tr>\n",
       "    <tr>\n",
       "      <th>college/grad student</th>\n",
       "      <td>22059</td>\n",
       "      <td>8057</td>\n",
       "      <td>1038</td>\n",
       "      <td>132</td>\n",
       "      <td>399</td>\n",
       "      <td>0</td>\n",
       "      <td>0</td>\n",
       "      <td>64937</td>\n",
       "      <td>30180</td>\n",
       "      <td>2086</td>\n",
       "      <td>118</td>\n",
       "      <td>43</td>\n",
       "      <td>0</td>\n",
       "      <td>221</td>\n",
       "      <td>129270</td>\n",
       "    </tr>\n",
       "    <tr>\n",
       "      <th>customer service</th>\n",
       "      <td>161</td>\n",
       "      <td>1388</td>\n",
       "      <td>1844</td>\n",
       "      <td>350</td>\n",
       "      <td>162</td>\n",
       "      <td>0</td>\n",
       "      <td>0</td>\n",
       "      <td>2366</td>\n",
       "      <td>9265</td>\n",
       "      <td>2699</td>\n",
       "      <td>1732</td>\n",
       "      <td>515</td>\n",
       "      <td>22</td>\n",
       "      <td>0</td>\n",
       "      <td>20504</td>\n",
       "    </tr>\n",
       "    <tr>\n",
       "      <th>doctor/health care</th>\n",
       "      <td>210</td>\n",
       "      <td>4867</td>\n",
       "      <td>2991</td>\n",
       "      <td>2749</td>\n",
       "      <td>3215</td>\n",
       "      <td>506</td>\n",
       "      <td>0</td>\n",
       "      <td>1807</td>\n",
       "      <td>8049</td>\n",
       "      <td>5353</td>\n",
       "      <td>2171</td>\n",
       "      <td>3168</td>\n",
       "      <td>781</td>\n",
       "      <td>0</td>\n",
       "      <td>35867</td>\n",
       "    </tr>\n",
       "    <tr>\n",
       "      <th>executive/managerial</th>\n",
       "      <td>612</td>\n",
       "      <td>9241</td>\n",
       "      <td>4161</td>\n",
       "      <td>1807</td>\n",
       "      <td>1615</td>\n",
       "      <td>421</td>\n",
       "      <td>74</td>\n",
       "      <td>3107</td>\n",
       "      <td>33841</td>\n",
       "      <td>27515</td>\n",
       "      <td>9225</td>\n",
       "      <td>7799</td>\n",
       "      <td>3145</td>\n",
       "      <td>210</td>\n",
       "      <td>102773</td>\n",
       "    </tr>\n",
       "    <tr>\n",
       "      <th>farmer</th>\n",
       "      <td>0</td>\n",
       "      <td>0</td>\n",
       "      <td>74</td>\n",
       "      <td>0</td>\n",
       "      <td>510</td>\n",
       "      <td>52</td>\n",
       "      <td>0</td>\n",
       "      <td>28</td>\n",
       "      <td>647</td>\n",
       "      <td>102</td>\n",
       "      <td>0</td>\n",
       "      <td>59</td>\n",
       "      <td>29</td>\n",
       "      <td>0</td>\n",
       "      <td>1501</td>\n",
       "    </tr>\n",
       "    <tr>\n",
       "      <th>homemaker</th>\n",
       "      <td>924</td>\n",
       "      <td>2588</td>\n",
       "      <td>4956</td>\n",
       "      <td>1034</td>\n",
       "      <td>683</td>\n",
       "      <td>369</td>\n",
       "      <td>0</td>\n",
       "      <td>51</td>\n",
       "      <td>132</td>\n",
       "      <td>608</td>\n",
       "      <td>0</td>\n",
       "      <td>0</td>\n",
       "      <td>0</td>\n",
       "      <td>0</td>\n",
       "      <td>11345</td>\n",
       "    </tr>\n",
       "    <tr>\n",
       "      <th>lawyer</th>\n",
       "      <td>56</td>\n",
       "      <td>1194</td>\n",
       "      <td>922</td>\n",
       "      <td>89</td>\n",
       "      <td>320</td>\n",
       "      <td>62</td>\n",
       "      <td>0</td>\n",
       "      <td>1222</td>\n",
       "      <td>7116</td>\n",
       "      <td>3835</td>\n",
       "      <td>2780</td>\n",
       "      <td>2162</td>\n",
       "      <td>217</td>\n",
       "      <td>30</td>\n",
       "      <td>20005</td>\n",
       "    </tr>\n",
       "    <tr>\n",
       "      <th>other</th>\n",
       "      <td>4180</td>\n",
       "      <td>13702</td>\n",
       "      <td>6283</td>\n",
       "      <td>3260</td>\n",
       "      <td>2249</td>\n",
       "      <td>1034</td>\n",
       "      <td>1196</td>\n",
       "      <td>12928</td>\n",
       "      <td>46274</td>\n",
       "      <td>16974</td>\n",
       "      <td>4728</td>\n",
       "      <td>8786</td>\n",
       "      <td>1741</td>\n",
       "      <td>2578</td>\n",
       "      <td>125913</td>\n",
       "    </tr>\n",
       "    <tr>\n",
       "      <th>programmer</th>\n",
       "      <td>651</td>\n",
       "      <td>2660</td>\n",
       "      <td>1628</td>\n",
       "      <td>560</td>\n",
       "      <td>531</td>\n",
       "      <td>347</td>\n",
       "      <td>0</td>\n",
       "      <td>7623</td>\n",
       "      <td>24221</td>\n",
       "      <td>10506</td>\n",
       "      <td>3800</td>\n",
       "      <td>2245</td>\n",
       "      <td>757</td>\n",
       "      <td>446</td>\n",
       "      <td>55975</td>\n",
       "    </tr>\n",
       "    <tr>\n",
       "      <th>retired</th>\n",
       "      <td>0</td>\n",
       "      <td>0</td>\n",
       "      <td>0</td>\n",
       "      <td>152</td>\n",
       "      <td>543</td>\n",
       "      <td>1905</td>\n",
       "      <td>0</td>\n",
       "      <td>0</td>\n",
       "      <td>0</td>\n",
       "      <td>748</td>\n",
       "      <td>1009</td>\n",
       "      <td>2576</td>\n",
       "      <td>6552</td>\n",
       "      <td>23</td>\n",
       "      <td>13508</td>\n",
       "    </tr>\n",
       "    <tr>\n",
       "      <th>sales/marketing</th>\n",
       "      <td>2022</td>\n",
       "      <td>7064</td>\n",
       "      <td>1709</td>\n",
       "      <td>547</td>\n",
       "      <td>253</td>\n",
       "      <td>394</td>\n",
       "      <td>0</td>\n",
       "      <td>5677</td>\n",
       "      <td>16873</td>\n",
       "      <td>8682</td>\n",
       "      <td>2070</td>\n",
       "      <td>1394</td>\n",
       "      <td>1971</td>\n",
       "      <td>146</td>\n",
       "      <td>48802</td>\n",
       "    </tr>\n",
       "    <tr>\n",
       "      <th>scientist</th>\n",
       "      <td>462</td>\n",
       "      <td>2536</td>\n",
       "      <td>406</td>\n",
       "      <td>606</td>\n",
       "      <td>0</td>\n",
       "      <td>188</td>\n",
       "      <td>0</td>\n",
       "      <td>1944</td>\n",
       "      <td>9984</td>\n",
       "      <td>4196</td>\n",
       "      <td>792</td>\n",
       "      <td>920</td>\n",
       "      <td>619</td>\n",
       "      <td>0</td>\n",
       "      <td>22653</td>\n",
       "    </tr>\n",
       "    <tr>\n",
       "      <th>self-employed</th>\n",
       "      <td>402</td>\n",
       "      <td>1258</td>\n",
       "      <td>2783</td>\n",
       "      <td>1515</td>\n",
       "      <td>806</td>\n",
       "      <td>675</td>\n",
       "      <td>0</td>\n",
       "      <td>2608</td>\n",
       "      <td>11205</td>\n",
       "      <td>10784</td>\n",
       "      <td>4232</td>\n",
       "      <td>5772</td>\n",
       "      <td>2721</td>\n",
       "      <td>0</td>\n",
       "      <td>44761</td>\n",
       "    </tr>\n",
       "    <tr>\n",
       "      <th>technician/engineer</th>\n",
       "      <td>1111</td>\n",
       "      <td>3141</td>\n",
       "      <td>2137</td>\n",
       "      <td>1177</td>\n",
       "      <td>83</td>\n",
       "      <td>0</td>\n",
       "      <td>0</td>\n",
       "      <td>6384</td>\n",
       "      <td>27546</td>\n",
       "      <td>16418</td>\n",
       "      <td>7077</td>\n",
       "      <td>4169</td>\n",
       "      <td>2746</td>\n",
       "      <td>59</td>\n",
       "      <td>72048</td>\n",
       "    </tr>\n",
       "    <tr>\n",
       "      <th>tradesman/craftsman</th>\n",
       "      <td>0</td>\n",
       "      <td>142</td>\n",
       "      <td>0</td>\n",
       "      <td>0</td>\n",
       "      <td>272</td>\n",
       "      <td>0</td>\n",
       "      <td>0</td>\n",
       "      <td>1897</td>\n",
       "      <td>3761</td>\n",
       "      <td>2670</td>\n",
       "      <td>2045</td>\n",
       "      <td>654</td>\n",
       "      <td>309</td>\n",
       "      <td>0</td>\n",
       "      <td>11750</td>\n",
       "    </tr>\n",
       "    <tr>\n",
       "      <th>unemployed</th>\n",
       "      <td>1202</td>\n",
       "      <td>1045</td>\n",
       "      <td>1027</td>\n",
       "      <td>0</td>\n",
       "      <td>0</td>\n",
       "      <td>0</td>\n",
       "      <td>199</td>\n",
       "      <td>3285</td>\n",
       "      <td>3806</td>\n",
       "      <td>633</td>\n",
       "      <td>460</td>\n",
       "      <td>347</td>\n",
       "      <td>88</td>\n",
       "      <td>1296</td>\n",
       "      <td>13388</td>\n",
       "    </tr>\n",
       "    <tr>\n",
       "      <th>writer</th>\n",
       "      <td>1452</td>\n",
       "      <td>5195</td>\n",
       "      <td>3898</td>\n",
       "      <td>1284</td>\n",
       "      <td>1601</td>\n",
       "      <td>67</td>\n",
       "      <td>0</td>\n",
       "      <td>6817</td>\n",
       "      <td>18935</td>\n",
       "      <td>9414</td>\n",
       "      <td>3622</td>\n",
       "      <td>3828</td>\n",
       "      <td>1346</td>\n",
       "      <td>0</td>\n",
       "      <td>57459</td>\n",
       "    </tr>\n",
       "    <tr>\n",
       "      <th>All</th>\n",
       "      <td>43485</td>\n",
       "      <td>90013</td>\n",
       "      <td>48168</td>\n",
       "      <td>23699</td>\n",
       "      <td>17992</td>\n",
       "      <td>8773</td>\n",
       "      <td>8246</td>\n",
       "      <td>135791</td>\n",
       "      <td>296524</td>\n",
       "      <td>144718</td>\n",
       "      <td>57120</td>\n",
       "      <td>52306</td>\n",
       "      <td>28382</td>\n",
       "      <td>17961</td>\n",
       "      <td>973178</td>\n",
       "    </tr>\n",
       "  </tbody>\n",
       "</table>\n",
       "</div>"
      ],
      "text/plain": [
       "gender                    F                                             \\\n",
       "age                   18-24  25-34  35-44  45-49  50-55   56+ Under 18   \n",
       "occupation                                                               \n",
       "K-12 student            168      0      0      0      0     0     6304   \n",
       "academic/educator      3240  13013   6221   5754   2747  1180      297   \n",
       "artist                 3544   5301   2861   1828   1326   865      176   \n",
       "clerical/admin         1029   7621   3229    855    677   708        0   \n",
       "college/grad student  22059   8057   1038    132    399     0        0   \n",
       "customer service        161   1388   1844    350    162     0        0   \n",
       "doctor/health care      210   4867   2991   2749   3215   506        0   \n",
       "executive/managerial    612   9241   4161   1807   1615   421       74   \n",
       "farmer                    0      0     74      0    510    52        0   \n",
       "homemaker               924   2588   4956   1034    683   369        0   \n",
       "lawyer                   56   1194    922     89    320    62        0   \n",
       "other                  4180  13702   6283   3260   2249  1034     1196   \n",
       "programmer              651   2660   1628    560    531   347        0   \n",
       "retired                   0      0      0    152    543  1905        0   \n",
       "sales/marketing        2022   7064   1709    547    253   394        0   \n",
       "scientist               462   2536    406    606      0   188        0   \n",
       "self-employed           402   1258   2783   1515    806   675        0   \n",
       "technician/engineer    1111   3141   2137   1177     83     0        0   \n",
       "tradesman/craftsman       0    142      0      0    272     0        0   \n",
       "unemployed             1202   1045   1027      0      0     0      199   \n",
       "writer                 1452   5195   3898   1284   1601    67        0   \n",
       "All                   43485  90013  48168  23699  17992  8773     8246   \n",
       "\n",
       "gender                     M                                                \\\n",
       "age                    18-24   25-34   35-44  45-49  50-55    56+ Under 18   \n",
       "occupation                                                                   \n",
       "K-12 student            2695      50     302      0      0    204    12560   \n",
       "academic/educator       3730   19688   11115   6772   5339   4011      300   \n",
       "artist                  4512   18024    6130   2409   1308    407       92   \n",
       "clerical/admin          2173    6927    3948   2078   1222    716        0   \n",
       "college/grad student   64937   30180    2086    118     43      0      221   \n",
       "customer service        2366    9265    2699   1732    515     22        0   \n",
       "doctor/health care      1807    8049    5353   2171   3168    781        0   \n",
       "executive/managerial    3107   33841   27515   9225   7799   3145      210   \n",
       "farmer                    28     647     102      0     59     29        0   \n",
       "homemaker                 51     132     608      0      0      0        0   \n",
       "lawyer                  1222    7116    3835   2780   2162    217       30   \n",
       "other                  12928   46274   16974   4728   8786   1741     2578   \n",
       "programmer              7623   24221   10506   3800   2245    757      446   \n",
       "retired                    0       0     748   1009   2576   6552       23   \n",
       "sales/marketing         5677   16873    8682   2070   1394   1971      146   \n",
       "scientist               1944    9984    4196    792    920    619        0   \n",
       "self-employed           2608   11205   10784   4232   5772   2721        0   \n",
       "technician/engineer     6384   27546   16418   7077   4169   2746       59   \n",
       "tradesman/craftsman     1897    3761    2670   2045    654    309        0   \n",
       "unemployed              3285    3806     633    460    347     88     1296   \n",
       "writer                  6817   18935    9414   3622   3828   1346        0   \n",
       "All                   135791  296524  144718  57120  52306  28382    17961   \n",
       "\n",
       "gender                   All  \n",
       "age                           \n",
       "occupation                    \n",
       "K-12 student           22283  \n",
       "academic/educator      83407  \n",
       "artist                 48783  \n",
       "clerical/admin         31183  \n",
       "college/grad student  129270  \n",
       "customer service       20504  \n",
       "doctor/health care     35867  \n",
       "executive/managerial  102773  \n",
       "farmer                  1501  \n",
       "homemaker              11345  \n",
       "lawyer                 20005  \n",
       "other                 125913  \n",
       "programmer             55975  \n",
       "retired                13508  \n",
       "sales/marketing        48802  \n",
       "scientist              22653  \n",
       "self-employed          44761  \n",
       "technician/engineer    72048  \n",
       "tradesman/craftsman    11750  \n",
       "unemployed             13388  \n",
       "writer                 57459  \n",
       "All                   973178  "
      ]
     },
     "execution_count": 61,
     "metadata": {},
     "output_type": "execute_result"
    }
   ],
   "source": [
    "movies_crosstab"
   ]
  },
  {
   "cell_type": "code",
   "execution_count": 62,
   "metadata": {},
   "outputs": [
    {
     "data": {
      "image/png": "[encoded data removed]",
      "text/plain": [
       "<Figure size 2000x800 with 1 Axes>"
      ]
     },
     "metadata": {},
     "output_type": "display_data"
    }
   ],
   "source": [
    "pd.crosstab(df.gender, df.occupation).plot(kind='bar', figsize=(20,8));"
   ]
  },
  {
   "cell_type": "code",
   "execution_count": 63,
   "metadata": {},
   "outputs": [
    {
     "data": {
      "image/png": "[encoded data removed]",
      "text/plain": [
       "<Figure size 2000x800 with 1 Axes>"
      ]
     },
     "metadata": {},
     "output_type": "display_data"
    }
   ],
   "source": [
    "pd.crosstab(df.gender, df.occupation).plot(kind='bar', stacked=True, figsize=(20,8));"
   ]
  },
  {
   "cell_type": "markdown",
   "metadata": {},
   "source": [
    "### Stacking and Unstacking\n",
    "\n",
    "Closely related to the pivot function are the related stack and unstack functions. These functions are designed to work together with MultiIndex objects. Here are essentially what these functions do:\n",
    "\n",
    "The clearest way to explain is by example.\n",
    "\n",
    "Read more: [Reshaping by stacking and unstacking](https://pandas.pydata.org/pandas-docs/stable/user_guide/reshaping.html#reshaping-by-stacking-and-unstacking)"
   ]
  },
  {
   "cell_type": "code",
   "execution_count": 64,
   "metadata": {},
   "outputs": [
    {
     "data": {
      "text/plain": [
       "pandas.core.frame.DataFrame"
      ]
     },
     "execution_count": 64,
     "metadata": {},
     "output_type": "execute_result"
    }
   ],
   "source": [
    "# The data structure of movies_crosstab is actually DataFrame...\n",
    "type(movies_crosstab)"
   ]
  },
  {
   "cell_type": "code",
   "execution_count": 65,
   "metadata": {},
   "outputs": [
    {
     "data": {
      "text/plain": [
       "MultiIndex([(  'F',    '18-24'),\n",
       "            (  'F',    '25-34'),\n",
       "            (  'F',    '35-44'),\n",
       "            (  'F',    '45-49'),\n",
       "            (  'F',    '50-55'),\n",
       "            (  'F',      '56+'),\n",
       "            (  'F', 'Under 18'),\n",
       "            (  'M',    '18-24'),\n",
       "            (  'M',    '25-34'),\n",
       "            (  'M',    '35-44'),\n",
       "            (  'M',    '45-49'),\n",
       "            (  'M',    '50-55'),\n",
       "            (  'M',      '56+'),\n",
       "            (  'M', 'Under 18'),\n",
       "            ('All',         '')],\n",
       "           names=['gender', 'age'])"
      ]
     },
     "execution_count": 65,
     "metadata": {},
     "output_type": "execute_result"
    }
   ],
   "source": [
    "# However, not an ordinary one...\n",
    "movies_crosstab.columns"
   ]
  },
  {
   "cell_type": "code",
   "execution_count": 66,
   "metadata": {},
   "outputs": [
    {
     "data": {
      "text/html": [
       "<div>\n",
       "<style scoped>\n",
       "    .dataframe tbody tr th:only-of-type {\n",
       "        vertical-align: middle;\n",
       "    }\n",
       "\n",
       "    .dataframe tbody tr th {\n",
       "        vertical-align: top;\n",
       "    }\n",
       "\n",
       "    .dataframe thead tr th {\n",
       "        text-align: left;\n",
       "    }\n",
       "\n",
       "    .dataframe thead tr:last-of-type th {\n",
       "        text-align: right;\n",
       "    }\n",
       "</style>\n",
       "<table border=\"1\" class=\"dataframe\">\n",
       "  <thead>\n",
       "    <tr>\n",
       "      <th>gender</th>\n",
       "      <th colspan=\"7\" halign=\"left\">F</th>\n",
       "      <th colspan=\"7\" halign=\"left\">M</th>\n",
       "    </tr>\n",
       "    <tr>\n",
       "      <th>age</th>\n",
       "      <th>18-24</th>\n",
       "      <th>25-34</th>\n",
       "      <th>35-44</th>\n",
       "      <th>45-49</th>\n",
       "      <th>50-55</th>\n",
       "      <th>56+</th>\n",
       "      <th>Under 18</th>\n",
       "      <th>18-24</th>\n",
       "      <th>25-34</th>\n",
       "      <th>35-44</th>\n",
       "      <th>45-49</th>\n",
       "      <th>50-55</th>\n",
       "      <th>56+</th>\n",
       "      <th>Under 18</th>\n",
       "    </tr>\n",
       "    <tr>\n",
       "      <th>occupation</th>\n",
       "      <th></th>\n",
       "      <th></th>\n",
       "      <th></th>\n",
       "      <th></th>\n",
       "      <th></th>\n",
       "      <th></th>\n",
       "      <th></th>\n",
       "      <th></th>\n",
       "      <th></th>\n",
       "      <th></th>\n",
       "      <th></th>\n",
       "      <th></th>\n",
       "      <th></th>\n",
       "      <th></th>\n",
       "    </tr>\n",
       "  </thead>\n",
       "  <tbody>\n",
       "    <tr>\n",
       "      <th>academic/educator</th>\n",
       "      <td>3240</td>\n",
       "      <td>13013</td>\n",
       "      <td>6221</td>\n",
       "      <td>5754</td>\n",
       "      <td>2747</td>\n",
       "      <td>1180</td>\n",
       "      <td>297</td>\n",
       "      <td>3730</td>\n",
       "      <td>19688</td>\n",
       "      <td>11115</td>\n",
       "      <td>6772</td>\n",
       "      <td>5339</td>\n",
       "      <td>4011</td>\n",
       "      <td>300</td>\n",
       "    </tr>\n",
       "  </tbody>\n",
       "</table>\n",
       "</div>"
      ],
      "text/plain": [
       "gender                F                                             M         \\\n",
       "age               18-24  25-34 35-44 45-49 50-55   56+ Under 18 18-24  25-34   \n",
       "occupation                                                                     \n",
       "academic/educator  3240  13013  6221  5754  2747  1180      297  3730  19688   \n",
       "\n",
       "gender                                               \n",
       "age                35-44 45-49 50-55   56+ Under 18  \n",
       "occupation                                           \n",
       "academic/educator  11115  6772  5339  4011      300  "
      ]
     },
     "execution_count": 66,
     "metadata": {},
     "output_type": "execute_result"
    }
   ],
   "source": [
    "# Create a subset in order to easier deal with the data.\n",
    "movies_crosstab_education = pd.crosstab([df.gender, df.age], df.occupation[df.occupation == 'academic/educator']).T\n",
    "movies_crosstab_education"
   ]
  },
  {
   "cell_type": "markdown",
   "metadata": {},
   "source": [
    "![Stack](https://pandas.pydata.org/pandas-docs/stable/_images/reshaping_stack.png)\n",
    "\n",
    "#### Stack\n",
    "\n",
    "\"Pivot\" a level of the column labels, returning a DataFrame with an index with a new inner-most level of row labels.\n"
   ]
  },
  {
   "cell_type": "code",
   "execution_count": 67,
   "metadata": {},
   "outputs": [
    {
     "data": {
      "text/html": [
       "<div>\n",
       "<style scoped>\n",
       "    .dataframe tbody tr th:only-of-type {\n",
       "        vertical-align: middle;\n",
       "    }\n",
       "\n",
       "    .dataframe tbody tr th {\n",
       "        vertical-align: top;\n",
       "    }\n",
       "\n",
       "    .dataframe thead th {\n",
       "        text-align: right;\n",
       "    }\n",
       "</style>\n",
       "<table border=\"1\" class=\"dataframe\">\n",
       "  <thead>\n",
       "    <tr style=\"text-align: right;\">\n",
       "      <th></th>\n",
       "      <th>gender</th>\n",
       "      <th>F</th>\n",
       "      <th>M</th>\n",
       "    </tr>\n",
       "    <tr>\n",
       "      <th>occupation</th>\n",
       "      <th>age</th>\n",
       "      <th></th>\n",
       "      <th></th>\n",
       "    </tr>\n",
       "  </thead>\n",
       "  <tbody>\n",
       "    <tr>\n",
       "      <th rowspan=\"7\" valign=\"top\">academic/educator</th>\n",
       "      <th>18-24</th>\n",
       "      <td>3240</td>\n",
       "      <td>3730</td>\n",
       "    </tr>\n",
       "    <tr>\n",
       "      <th>25-34</th>\n",
       "      <td>13013</td>\n",
       "      <td>19688</td>\n",
       "    </tr>\n",
       "    <tr>\n",
       "      <th>35-44</th>\n",
       "      <td>6221</td>\n",
       "      <td>11115</td>\n",
       "    </tr>\n",
       "    <tr>\n",
       "      <th>45-49</th>\n",
       "      <td>5754</td>\n",
       "      <td>6772</td>\n",
       "    </tr>\n",
       "    <tr>\n",
       "      <th>50-55</th>\n",
       "      <td>2747</td>\n",
       "      <td>5339</td>\n",
       "    </tr>\n",
       "    <tr>\n",
       "      <th>56+</th>\n",
       "      <td>1180</td>\n",
       "      <td>4011</td>\n",
       "    </tr>\n",
       "    <tr>\n",
       "      <th>Under 18</th>\n",
       "      <td>297</td>\n",
       "      <td>300</td>\n",
       "    </tr>\n",
       "  </tbody>\n",
       "</table>\n",
       "</div>"
      ],
      "text/plain": [
       "gender                          F      M\n",
       "occupation        age                   \n",
       "academic/educator 18-24      3240   3730\n",
       "                  25-34     13013  19688\n",
       "                  35-44      6221  11115\n",
       "                  45-49      5754   6772\n",
       "                  50-55      2747   5339\n",
       "                  56+        1180   4011\n",
       "                  Under 18    297    300"
      ]
     },
     "execution_count": 67,
     "metadata": {},
     "output_type": "execute_result"
    }
   ],
   "source": [
    "stacked = movies_crosstab_education.stack(future_stack=True)\n",
    "stacked"
   ]
  },
  {
   "cell_type": "code",
   "execution_count": 68,
   "metadata": {},
   "outputs": [
    {
     "data": {
      "image/png": "[encoded data removed]",
      "text/plain": [
       "<Figure size 640x480 with 1 Axes>"
      ]
     },
     "metadata": {},
     "output_type": "display_data"
    }
   ],
   "source": [
    "stacked.plot(kind='barh');"
   ]
  },
  {
   "cell_type": "markdown",
   "metadata": {},
   "source": [
    "![Unstack](https://pandas.pydata.org/pandas-docs/stable/_images/reshaping_unstack.png)\n",
    "\n",
    "#### Unstack\n",
    "\n",
    "Inverse operation from stack: \"pivot\" a level of the row index to the column axis, producing a reshaped DataFrame with a new inner-most level of column labels."
   ]
  },
  {
   "cell_type": "code",
   "execution_count": 69,
   "metadata": {},
   "outputs": [
    {
     "data": {
      "text/html": [
       "<div>\n",
       "<style scoped>\n",
       "    .dataframe tbody tr th:only-of-type {\n",
       "        vertical-align: middle;\n",
       "    }\n",
       "\n",
       "    .dataframe tbody tr th {\n",
       "        vertical-align: top;\n",
       "    }\n",
       "\n",
       "    .dataframe thead tr th {\n",
       "        text-align: left;\n",
       "    }\n",
       "\n",
       "    .dataframe thead tr:last-of-type th {\n",
       "        text-align: right;\n",
       "    }\n",
       "</style>\n",
       "<table border=\"1\" class=\"dataframe\">\n",
       "  <thead>\n",
       "    <tr>\n",
       "      <th>gender</th>\n",
       "      <th colspan=\"7\" halign=\"left\">F</th>\n",
       "      <th colspan=\"7\" halign=\"left\">M</th>\n",
       "    </tr>\n",
       "    <tr>\n",
       "      <th>age</th>\n",
       "      <th>18-24</th>\n",
       "      <th>25-34</th>\n",
       "      <th>35-44</th>\n",
       "      <th>45-49</th>\n",
       "      <th>50-55</th>\n",
       "      <th>56+</th>\n",
       "      <th>Under 18</th>\n",
       "      <th>18-24</th>\n",
       "      <th>25-34</th>\n",
       "      <th>35-44</th>\n",
       "      <th>45-49</th>\n",
       "      <th>50-55</th>\n",
       "      <th>56+</th>\n",
       "      <th>Under 18</th>\n",
       "    </tr>\n",
       "    <tr>\n",
       "      <th>occupation</th>\n",
       "      <th></th>\n",
       "      <th></th>\n",
       "      <th></th>\n",
       "      <th></th>\n",
       "      <th></th>\n",
       "      <th></th>\n",
       "      <th></th>\n",
       "      <th></th>\n",
       "      <th></th>\n",
       "      <th></th>\n",
       "      <th></th>\n",
       "      <th></th>\n",
       "      <th></th>\n",
       "      <th></th>\n",
       "    </tr>\n",
       "  </thead>\n",
       "  <tbody>\n",
       "    <tr>\n",
       "      <th>academic/educator</th>\n",
       "      <td>3240</td>\n",
       "      <td>13013</td>\n",
       "      <td>6221</td>\n",
       "      <td>5754</td>\n",
       "      <td>2747</td>\n",
       "      <td>1180</td>\n",
       "      <td>297</td>\n",
       "      <td>3730</td>\n",
       "      <td>19688</td>\n",
       "      <td>11115</td>\n",
       "      <td>6772</td>\n",
       "      <td>5339</td>\n",
       "      <td>4011</td>\n",
       "      <td>300</td>\n",
       "    </tr>\n",
       "  </tbody>\n",
       "</table>\n",
       "</div>"
      ],
      "text/plain": [
       "gender                F                                             M         \\\n",
       "age               18-24  25-34 35-44 45-49 50-55   56+ Under 18 18-24  25-34   \n",
       "occupation                                                                     \n",
       "academic/educator  3240  13013  6221  5754  2747  1180      297  3730  19688   \n",
       "\n",
       "gender                                               \n",
       "age                35-44 45-49 50-55   56+ Under 18  \n",
       "occupation                                           \n",
       "academic/educator  11115  6772  5339  4011      300  "
      ]
     },
     "execution_count": 69,
     "metadata": {},
     "output_type": "execute_result"
    }
   ],
   "source": [
    "# the same as before stacking\n",
    "stacked.unstack()"
   ]
  },
  {
   "cell_type": "markdown",
   "metadata": {},
   "source": [
    "<mark>**Q8** What are Top 10 (best rated) movies according to the age group 18-24?</mark>"
   ]
  },
  {
   "cell_type": "code",
   "execution_count": 70,
   "metadata": {},
   "outputs": [],
   "source": [
    "mean_ratings = df.pivot_table('rating', index='title', columns='age', aggfunc='mean')"
   ]
  },
  {
   "cell_type": "code",
   "execution_count": 71,
   "metadata": {},
   "outputs": [
    {
     "data": {
      "text/html": [
       "<div>\n",
       "<style scoped>\n",
       "    .dataframe tbody tr th:only-of-type {\n",
       "        vertical-align: middle;\n",
       "    }\n",
       "\n",
       "    .dataframe tbody tr th {\n",
       "        vertical-align: top;\n",
       "    }\n",
       "\n",
       "    .dataframe thead th {\n",
       "        text-align: right;\n",
       "    }\n",
       "</style>\n",
       "<table border=\"1\" class=\"dataframe\">\n",
       "  <thead>\n",
       "    <tr style=\"text-align: right;\">\n",
       "      <th>age</th>\n",
       "      <th>18-24</th>\n",
       "      <th>25-34</th>\n",
       "      <th>35-44</th>\n",
       "      <th>45-49</th>\n",
       "      <th>50-55</th>\n",
       "      <th>56+</th>\n",
       "      <th>Under 18</th>\n",
       "    </tr>\n",
       "    <tr>\n",
       "      <th>title</th>\n",
       "      <th></th>\n",
       "      <th></th>\n",
       "      <th></th>\n",
       "      <th></th>\n",
       "      <th></th>\n",
       "      <th></th>\n",
       "      <th></th>\n",
       "    </tr>\n",
       "  </thead>\n",
       "  <tbody>\n",
       "    <tr>\n",
       "      <th>$1,000,000 Duck (1971)</th>\n",
       "      <td>3.00</td>\n",
       "      <td>3.09</td>\n",
       "      <td>3.14</td>\n",
       "      <td>2.00</td>\n",
       "      <td>2.75</td>\n",
       "      <td>NaN</td>\n",
       "      <td>NaN</td>\n",
       "    </tr>\n",
       "    <tr>\n",
       "      <th>'Night Mother (1986)</th>\n",
       "      <td>4.67</td>\n",
       "      <td>3.42</td>\n",
       "      <td>2.90</td>\n",
       "      <td>3.60</td>\n",
       "      <td>3.38</td>\n",
       "      <td>4.33</td>\n",
       "      <td>2.00</td>\n",
       "    </tr>\n",
       "    <tr>\n",
       "      <th>'Til There Was You (1997)</th>\n",
       "      <td>2.57</td>\n",
       "      <td>2.67</td>\n",
       "      <td>2.89</td>\n",
       "      <td>2.33</td>\n",
       "      <td>2.50</td>\n",
       "      <td>2.67</td>\n",
       "      <td>3.50</td>\n",
       "    </tr>\n",
       "    <tr>\n",
       "      <th>'burbs, The (1989)</th>\n",
       "      <td>3.27</td>\n",
       "      <td>2.64</td>\n",
       "      <td>2.83</td>\n",
       "      <td>2.55</td>\n",
       "      <td>3.23</td>\n",
       "      <td>2.20</td>\n",
       "      <td>4.50</td>\n",
       "    </tr>\n",
       "    <tr>\n",
       "      <th>...And Justice for All (1979)</th>\n",
       "      <td>3.43</td>\n",
       "      <td>3.70</td>\n",
       "      <td>3.67</td>\n",
       "      <td>4.10</td>\n",
       "      <td>3.54</td>\n",
       "      <td>3.93</td>\n",
       "      <td>3.00</td>\n",
       "    </tr>\n",
       "  </tbody>\n",
       "</table>\n",
       "</div>"
      ],
      "text/plain": [
       "age                            18-24  25-34  35-44  45-49  50-55  56+  \\\n",
       "title                                                                   \n",
       "$1,000,000 Duck (1971)          3.00   3.09   3.14   2.00   2.75  NaN   \n",
       "'Night Mother (1986)            4.67   3.42   2.90   3.60   3.38 4.33   \n",
       "'Til There Was You (1997)       2.57   2.67   2.89   2.33   2.50 2.67   \n",
       "'burbs, The (1989)              3.27   2.64   2.83   2.55   3.23 2.20   \n",
       "...And Justice for All (1979)   3.43   3.70   3.67   4.10   3.54 3.93   \n",
       "\n",
       "age                            Under 18  \n",
       "title                                    \n",
       "$1,000,000 Duck (1971)              NaN  \n",
       "'Night Mother (1986)               2.00  \n",
       "'Til There Was You (1997)          3.50  \n",
       "'burbs, The (1989)                 4.50  \n",
       "...And Justice for All (1979)      3.00  "
      ]
     },
     "execution_count": 71,
     "metadata": {},
     "output_type": "execute_result"
    }
   ],
   "source": [
    "mean_ratings.head()"
   ]
  },
  {
   "cell_type": "code",
   "execution_count": 72,
   "metadata": {},
   "outputs": [],
   "source": [
    "mean_ratings = mean_ratings.loc[active_titles]"
   ]
  },
  {
   "cell_type": "code",
   "execution_count": 73,
   "metadata": {},
   "outputs": [
    {
     "data": {
      "text/html": [
       "<div>\n",
       "<style scoped>\n",
       "    .dataframe tbody tr th:only-of-type {\n",
       "        vertical-align: middle;\n",
       "    }\n",
       "\n",
       "    .dataframe tbody tr th {\n",
       "        vertical-align: top;\n",
       "    }\n",
       "\n",
       "    .dataframe thead th {\n",
       "        text-align: right;\n",
       "    }\n",
       "</style>\n",
       "<table border=\"1\" class=\"dataframe\">\n",
       "  <thead>\n",
       "    <tr style=\"text-align: right;\">\n",
       "      <th>age</th>\n",
       "      <th>18-24</th>\n",
       "      <th>25-34</th>\n",
       "      <th>35-44</th>\n",
       "      <th>45-49</th>\n",
       "      <th>50-55</th>\n",
       "      <th>56+</th>\n",
       "      <th>Under 18</th>\n",
       "    </tr>\n",
       "    <tr>\n",
       "      <th>title</th>\n",
       "      <th></th>\n",
       "      <th></th>\n",
       "      <th></th>\n",
       "      <th></th>\n",
       "      <th></th>\n",
       "      <th></th>\n",
       "      <th></th>\n",
       "    </tr>\n",
       "  </thead>\n",
       "  <tbody>\n",
       "    <tr>\n",
       "      <th>'burbs, The (1989)</th>\n",
       "      <td>3.27</td>\n",
       "      <td>2.64</td>\n",
       "      <td>2.83</td>\n",
       "      <td>2.55</td>\n",
       "      <td>3.23</td>\n",
       "      <td>2.20</td>\n",
       "      <td>4.50</td>\n",
       "    </tr>\n",
       "    <tr>\n",
       "      <th>10 Things I Hate About You (1999)</th>\n",
       "      <td>3.42</td>\n",
       "      <td>3.44</td>\n",
       "      <td>3.12</td>\n",
       "      <td>3.23</td>\n",
       "      <td>3.63</td>\n",
       "      <td>4.00</td>\n",
       "      <td>3.79</td>\n",
       "    </tr>\n",
       "    <tr>\n",
       "      <th>101 Dalmatians (1961)</th>\n",
       "      <td>3.29</td>\n",
       "      <td>3.62</td>\n",
       "      <td>3.86</td>\n",
       "      <td>3.95</td>\n",
       "      <td>3.66</td>\n",
       "      <td>3.15</td>\n",
       "      <td>3.50</td>\n",
       "    </tr>\n",
       "    <tr>\n",
       "      <th>101 Dalmatians (1996)</th>\n",
       "      <td>2.49</td>\n",
       "      <td>2.94</td>\n",
       "      <td>3.27</td>\n",
       "      <td>3.48</td>\n",
       "      <td>3.43</td>\n",
       "      <td>3.50</td>\n",
       "      <td>3.15</td>\n",
       "    </tr>\n",
       "    <tr>\n",
       "      <th>12 Angry Men (1957)</th>\n",
       "      <td>4.05</td>\n",
       "      <td>4.40</td>\n",
       "      <td>4.37</td>\n",
       "      <td>4.26</td>\n",
       "      <td>4.29</td>\n",
       "      <td>4.22</td>\n",
       "      <td>4.25</td>\n",
       "    </tr>\n",
       "  </tbody>\n",
       "</table>\n",
       "</div>"
      ],
      "text/plain": [
       "age                                18-24  25-34  35-44  45-49  50-55  56+  \\\n",
       "title                                                                       \n",
       "'burbs, The (1989)                  3.27   2.64   2.83   2.55   3.23 2.20   \n",
       "10 Things I Hate About You (1999)   3.42   3.44   3.12   3.23   3.63 4.00   \n",
       "101 Dalmatians (1961)               3.29   3.62   3.86   3.95   3.66 3.15   \n",
       "101 Dalmatians (1996)               2.49   2.94   3.27   3.48   3.43 3.50   \n",
       "12 Angry Men (1957)                 4.05   4.40   4.37   4.26   4.29 4.22   \n",
       "\n",
       "age                                Under 18  \n",
       "title                                        \n",
       "'burbs, The (1989)                     4.50  \n",
       "10 Things I Hate About You (1999)      3.79  \n",
       "101 Dalmatians (1961)                  3.50  \n",
       "101 Dalmatians (1996)                  3.15  \n",
       "12 Angry Men (1957)                    4.25  "
      ]
     },
     "execution_count": 73,
     "metadata": {},
     "output_type": "execute_result"
    }
   ],
   "source": [
    "mean_ratings[:5]"
   ]
  },
  {
   "cell_type": "code",
   "execution_count": 74,
   "metadata": {},
   "outputs": [
    {
     "data": {
      "text/html": [
       "<div>\n",
       "<style scoped>\n",
       "    .dataframe tbody tr th:only-of-type {\n",
       "        vertical-align: middle;\n",
       "    }\n",
       "\n",
       "    .dataframe tbody tr th {\n",
       "        vertical-align: top;\n",
       "    }\n",
       "\n",
       "    .dataframe thead th {\n",
       "        text-align: right;\n",
       "    }\n",
       "</style>\n",
       "<table border=\"1\" class=\"dataframe\">\n",
       "  <thead>\n",
       "    <tr style=\"text-align: right;\">\n",
       "      <th>age</th>\n",
       "      <th>18-24</th>\n",
       "      <th>25-34</th>\n",
       "      <th>35-44</th>\n",
       "      <th>45-49</th>\n",
       "      <th>50-55</th>\n",
       "      <th>56+</th>\n",
       "      <th>Under 18</th>\n",
       "    </tr>\n",
       "    <tr>\n",
       "      <th>title</th>\n",
       "      <th></th>\n",
       "      <th></th>\n",
       "      <th></th>\n",
       "      <th></th>\n",
       "      <th></th>\n",
       "      <th></th>\n",
       "      <th></th>\n",
       "    </tr>\n",
       "  </thead>\n",
       "  <tbody>\n",
       "    <tr>\n",
       "      <th>Usual Suspects, The (1995)</th>\n",
       "      <td>4.68</td>\n",
       "      <td>4.55</td>\n",
       "      <td>4.39</td>\n",
       "      <td>4.24</td>\n",
       "      <td>4.34</td>\n",
       "      <td>4.44</td>\n",
       "      <td>4.42</td>\n",
       "    </tr>\n",
       "    <tr>\n",
       "      <th>Shawshank Redemption, The (1994)</th>\n",
       "      <td>4.67</td>\n",
       "      <td>4.59</td>\n",
       "      <td>4.49</td>\n",
       "      <td>4.48</td>\n",
       "      <td>4.35</td>\n",
       "      <td>4.41</td>\n",
       "      <td>4.52</td>\n",
       "    </tr>\n",
       "    <tr>\n",
       "      <th>Seven Samurai (Shichinin no samurai) (1954)</th>\n",
       "      <td>4.60</td>\n",
       "      <td>4.55</td>\n",
       "      <td>4.53</td>\n",
       "      <td>4.53</td>\n",
       "      <td>4.65</td>\n",
       "      <td>4.50</td>\n",
       "      <td>4.50</td>\n",
       "    </tr>\n",
       "    <tr>\n",
       "      <th>Close Shave, A (1995)</th>\n",
       "      <td>4.58</td>\n",
       "      <td>4.55</td>\n",
       "      <td>4.47</td>\n",
       "      <td>4.59</td>\n",
       "      <td>4.59</td>\n",
       "      <td>4.45</td>\n",
       "      <td>4.31</td>\n",
       "    </tr>\n",
       "    <tr>\n",
       "      <th>Life Is Beautiful (La Vita è bella) (1997)</th>\n",
       "      <td>4.55</td>\n",
       "      <td>4.38</td>\n",
       "      <td>4.20</td>\n",
       "      <td>4.00</td>\n",
       "      <td>4.17</td>\n",
       "      <td>4.23</td>\n",
       "      <td>4.32</td>\n",
       "    </tr>\n",
       "    <tr>\n",
       "      <th>Wrong Trousers, The (1993)</th>\n",
       "      <td>4.53</td>\n",
       "      <td>4.51</td>\n",
       "      <td>4.44</td>\n",
       "      <td>4.63</td>\n",
       "      <td>4.65</td>\n",
       "      <td>4.71</td>\n",
       "      <td>4.32</td>\n",
       "    </tr>\n",
       "    <tr>\n",
       "      <th>American Beauty (1999)</th>\n",
       "      <td>4.52</td>\n",
       "      <td>4.33</td>\n",
       "      <td>4.24</td>\n",
       "      <td>4.14</td>\n",
       "      <td>4.15</td>\n",
       "      <td>4.11</td>\n",
       "      <td>4.44</td>\n",
       "    </tr>\n",
       "    <tr>\n",
       "      <th>Charade (1963)</th>\n",
       "      <td>4.52</td>\n",
       "      <td>4.05</td>\n",
       "      <td>4.25</td>\n",
       "      <td>4.20</td>\n",
       "      <td>4.13</td>\n",
       "      <td>4.13</td>\n",
       "      <td>4.67</td>\n",
       "    </tr>\n",
       "    <tr>\n",
       "      <th>Godfather, The (1972)</th>\n",
       "      <td>4.50</td>\n",
       "      <td>4.57</td>\n",
       "      <td>4.54</td>\n",
       "      <td>4.37</td>\n",
       "      <td>4.54</td>\n",
       "      <td>4.46</td>\n",
       "      <td>4.48</td>\n",
       "    </tr>\n",
       "    <tr>\n",
       "      <th>Dr. Strangelove or: How I Learned to Stop Worrying and Love the Bomb (1963)</th>\n",
       "      <td>4.47</td>\n",
       "      <td>4.41</td>\n",
       "      <td>4.48</td>\n",
       "      <td>4.43</td>\n",
       "      <td>4.53</td>\n",
       "      <td>4.40</td>\n",
       "      <td>4.51</td>\n",
       "    </tr>\n",
       "  </tbody>\n",
       "</table>\n",
       "</div>"
      ],
      "text/plain": [
       "age                                                 18-24  25-34  35-44  \\\n",
       "title                                                                     \n",
       "Usual Suspects, The (1995)                           4.68   4.55   4.39   \n",
       "Shawshank Redemption, The (1994)                     4.67   4.59   4.49   \n",
       "Seven Samurai (Shichinin no samurai) (1954)          4.60   4.55   4.53   \n",
       "Close Shave, A (1995)                                4.58   4.55   4.47   \n",
       "Life Is Beautiful (La Vita è bella) (1997)           4.55   4.38   4.20   \n",
       "Wrong Trousers, The (1993)                           4.53   4.51   4.44   \n",
       "American Beauty (1999)                               4.52   4.33   4.24   \n",
       "Charade (1963)                                       4.52   4.05   4.25   \n",
       "Godfather, The (1972)                                4.50   4.57   4.54   \n",
       "Dr. Strangelove or: How I Learned to Stop Worry...   4.47   4.41   4.48   \n",
       "\n",
       "age                                                 45-49  50-55  56+  \\\n",
       "title                                                                   \n",
       "Usual Suspects, The (1995)                           4.24   4.34 4.44   \n",
       "Shawshank Redemption, The (1994)                     4.48   4.35 4.41   \n",
       "Seven Samurai (Shichinin no samurai) (1954)          4.53   4.65 4.50   \n",
       "Close Shave, A (1995)                                4.59   4.59 4.45   \n",
       "Life Is Beautiful (La Vita è bella) (1997)           4.00   4.17 4.23   \n",
       "Wrong Trousers, The (1993)                           4.63   4.65 4.71   \n",
       "American Beauty (1999)                               4.14   4.15 4.11   \n",
       "Charade (1963)                                       4.20   4.13 4.13   \n",
       "Godfather, The (1972)                                4.37   4.54 4.46   \n",
       "Dr. Strangelove or: How I Learned to Stop Worry...   4.43   4.53 4.40   \n",
       "\n",
       "age                                                 Under 18  \n",
       "title                                                         \n",
       "Usual Suspects, The (1995)                              4.42  \n",
       "Shawshank Redemption, The (1994)                        4.52  \n",
       "Seven Samurai (Shichinin no samurai) (1954)             4.50  \n",
       "Close Shave, A (1995)                                   4.31  \n",
       "Life Is Beautiful (La Vita è bella) (1997)              4.32  \n",
       "Wrong Trousers, The (1993)                              4.32  \n",
       "American Beauty (1999)                                  4.44  \n",
       "Charade (1963)                                          4.67  \n",
       "Godfather, The (1972)                                   4.48  \n",
       "Dr. Strangelove or: How I Learned to Stop Worry...      4.51  "
      ]
     },
     "execution_count": 74,
     "metadata": {},
     "output_type": "execute_result"
    }
   ],
   "source": [
    "top_age_group_ratings = mean_ratings.sort_values(by='18-24', ascending=False)\n",
    "top_age_group_ratings[:10]"
   ]
  },
  {
   "cell_type": "code",
   "execution_count": 75,
   "metadata": {},
   "outputs": [
    {
     "data": {
      "text/plain": [
       "['Usual Suspects, The (1995)',\n",
       " 'Shawshank Redemption, The (1994)',\n",
       " 'Seven Samurai (Shichinin no samurai) (1954)',\n",
       " 'Close Shave, A (1995)',\n",
       " 'Life Is Beautiful (La Vita è bella) (1997)',\n",
       " 'Wrong Trousers, The (1993)',\n",
       " 'American Beauty (1999)',\n",
       " 'Charade (1963)',\n",
       " 'Godfather, The (1972)',\n",
       " 'Dr. Strangelove or: How I Learned to Stop Worrying and Love the Bomb (1963)']"
      ]
     },
     "execution_count": 75,
     "metadata": {},
     "output_type": "execute_result"
    }
   ],
   "source": [
    "mean_ratings.sort_values(by='18-24', ascending=False)[:10].index.tolist()"
   ]
  },
  {
   "cell_type": "markdown",
   "metadata": {},
   "source": [
    "<mark>**Q9** What are Top 10 (best rated) movies according to females in age group 18-24?</mark><br>"
   ]
  },
  {
   "cell_type": "code",
   "execution_count": 76,
   "metadata": {},
   "outputs": [
    {
     "data": {
      "text/html": [
       "<div>\n",
       "<style scoped>\n",
       "    .dataframe tbody tr th:only-of-type {\n",
       "        vertical-align: middle;\n",
       "    }\n",
       "\n",
       "    .dataframe tbody tr th {\n",
       "        vertical-align: top;\n",
       "    }\n",
       "\n",
       "    .dataframe thead tr th {\n",
       "        text-align: left;\n",
       "    }\n",
       "\n",
       "    .dataframe thead tr:last-of-type th {\n",
       "        text-align: right;\n",
       "    }\n",
       "</style>\n",
       "<table border=\"1\" class=\"dataframe\">\n",
       "  <thead>\n",
       "    <tr>\n",
       "      <th>age</th>\n",
       "      <th colspan=\"2\" halign=\"left\">18-24</th>\n",
       "      <th colspan=\"2\" halign=\"left\">25-34</th>\n",
       "      <th colspan=\"2\" halign=\"left\">35-44</th>\n",
       "      <th colspan=\"2\" halign=\"left\">45-49</th>\n",
       "      <th colspan=\"2\" halign=\"left\">50-55</th>\n",
       "      <th colspan=\"2\" halign=\"left\">56+</th>\n",
       "      <th colspan=\"2\" halign=\"left\">Under 18</th>\n",
       "    </tr>\n",
       "    <tr>\n",
       "      <th>gender</th>\n",
       "      <th>F</th>\n",
       "      <th>M</th>\n",
       "      <th>F</th>\n",
       "      <th>M</th>\n",
       "      <th>F</th>\n",
       "      <th>M</th>\n",
       "      <th>F</th>\n",
       "      <th>M</th>\n",
       "      <th>F</th>\n",
       "      <th>M</th>\n",
       "      <th>F</th>\n",
       "      <th>M</th>\n",
       "      <th>F</th>\n",
       "      <th>M</th>\n",
       "    </tr>\n",
       "    <tr>\n",
       "      <th>title</th>\n",
       "      <th></th>\n",
       "      <th></th>\n",
       "      <th></th>\n",
       "      <th></th>\n",
       "      <th></th>\n",
       "      <th></th>\n",
       "      <th></th>\n",
       "      <th></th>\n",
       "      <th></th>\n",
       "      <th></th>\n",
       "      <th></th>\n",
       "      <th></th>\n",
       "      <th></th>\n",
       "      <th></th>\n",
       "    </tr>\n",
       "  </thead>\n",
       "  <tbody>\n",
       "    <tr>\n",
       "      <th>'burbs, The (1989)</th>\n",
       "      <td>3.11</td>\n",
       "      <td>3.34</td>\n",
       "      <td>2.47</td>\n",
       "      <td>2.71</td>\n",
       "      <td>3.06</td>\n",
       "      <td>2.73</td>\n",
       "      <td>2.00</td>\n",
       "      <td>2.75</td>\n",
       "      <td>3.14</td>\n",
       "      <td>3.27</td>\n",
       "      <td>1.00</td>\n",
       "      <td>2.50</td>\n",
       "      <td>NaN</td>\n",
       "      <td>4.50</td>\n",
       "    </tr>\n",
       "    <tr>\n",
       "      <th>10 Things I Hate About You (1999)</th>\n",
       "      <td>3.51</td>\n",
       "      <td>3.38</td>\n",
       "      <td>3.73</td>\n",
       "      <td>3.30</td>\n",
       "      <td>3.47</td>\n",
       "      <td>3.00</td>\n",
       "      <td>3.64</td>\n",
       "      <td>3.00</td>\n",
       "      <td>3.55</td>\n",
       "      <td>3.69</td>\n",
       "      <td>4.00</td>\n",
       "      <td>4.00</td>\n",
       "      <td>4.15</td>\n",
       "      <td>3.44</td>\n",
       "    </tr>\n",
       "    <tr>\n",
       "      <th>101 Dalmatians (1961)</th>\n",
       "      <td>3.43</td>\n",
       "      <td>3.21</td>\n",
       "      <td>3.76</td>\n",
       "      <td>3.57</td>\n",
       "      <td>4.05</td>\n",
       "      <td>3.75</td>\n",
       "      <td>4.31</td>\n",
       "      <td>3.79</td>\n",
       "      <td>4.12</td>\n",
       "      <td>3.32</td>\n",
       "      <td>3.67</td>\n",
       "      <td>3.06</td>\n",
       "      <td>3.81</td>\n",
       "      <td>3.22</td>\n",
       "    </tr>\n",
       "    <tr>\n",
       "      <th>101 Dalmatians (1996)</th>\n",
       "      <td>2.71</td>\n",
       "      <td>2.38</td>\n",
       "      <td>3.15</td>\n",
       "      <td>2.77</td>\n",
       "      <td>3.22</td>\n",
       "      <td>3.32</td>\n",
       "      <td>3.78</td>\n",
       "      <td>3.33</td>\n",
       "      <td>4.25</td>\n",
       "      <td>3.00</td>\n",
       "      <td>3.67</td>\n",
       "      <td>3.40</td>\n",
       "      <td>3.62</td>\n",
       "      <td>2.71</td>\n",
       "    </tr>\n",
       "    <tr>\n",
       "      <th>12 Angry Men (1957)</th>\n",
       "      <td>3.71</td>\n",
       "      <td>4.15</td>\n",
       "      <td>4.51</td>\n",
       "      <td>4.38</td>\n",
       "      <td>4.22</td>\n",
       "      <td>4.41</td>\n",
       "      <td>4.38</td>\n",
       "      <td>4.23</td>\n",
       "      <td>4.39</td>\n",
       "      <td>4.24</td>\n",
       "      <td>4.00</td>\n",
       "      <td>4.28</td>\n",
       "      <td>3.67</td>\n",
       "      <td>5.00</td>\n",
       "    </tr>\n",
       "  </tbody>\n",
       "</table>\n",
       "</div>"
      ],
      "text/plain": [
       "age                               18-24      25-34      35-44      45-49       \\\n",
       "gender                                F    M     F    M     F    M     F    M   \n",
       "title                                                                           \n",
       "'burbs, The (1989)                 3.11 3.34  2.47 2.71  3.06 2.73  2.00 2.75   \n",
       "10 Things I Hate About You (1999)  3.51 3.38  3.73 3.30  3.47 3.00  3.64 3.00   \n",
       "101 Dalmatians (1961)              3.43 3.21  3.76 3.57  4.05 3.75  4.31 3.79   \n",
       "101 Dalmatians (1996)              2.71 2.38  3.15 2.77  3.22 3.32  3.78 3.33   \n",
       "12 Angry Men (1957)                3.71 4.15  4.51 4.38  4.22 4.41  4.38 4.23   \n",
       "\n",
       "age                               50-55       56+      Under 18       \n",
       "gender                                F    M    F    M        F    M  \n",
       "title                                                                 \n",
       "'burbs, The (1989)                 3.14 3.27 1.00 2.50      NaN 4.50  \n",
       "10 Things I Hate About You (1999)  3.55 3.69 4.00 4.00     4.15 3.44  \n",
       "101 Dalmatians (1961)              4.12 3.32 3.67 3.06     3.81 3.22  \n",
       "101 Dalmatians (1996)              4.25 3.00 3.67 3.40     3.62 2.71  \n",
       "12 Angry Men (1957)                4.39 4.24 4.00 4.28     3.67 5.00  "
      ]
     },
     "execution_count": 76,
     "metadata": {},
     "output_type": "execute_result"
    }
   ],
   "source": [
    "mean_ratings = df.pivot_table('rating', index='title', columns=['age', 'gender'], aggfunc='mean')\n",
    "mean_ratings = mean_ratings.loc[active_titles]\n",
    "mean_ratings[:5]"
   ]
  },
  {
   "cell_type": "code",
   "execution_count": 77,
   "metadata": {},
   "outputs": [
    {
     "data": {
      "text/html": [
       "<div>\n",
       "<style scoped>\n",
       "    .dataframe tbody tr th:only-of-type {\n",
       "        vertical-align: middle;\n",
       "    }\n",
       "\n",
       "    .dataframe tbody tr th {\n",
       "        vertical-align: top;\n",
       "    }\n",
       "\n",
       "    .dataframe thead th {\n",
       "        text-align: right;\n",
       "    }\n",
       "</style>\n",
       "<table border=\"1\" class=\"dataframe\">\n",
       "  <thead>\n",
       "    <tr style=\"text-align: right;\">\n",
       "      <th>gender</th>\n",
       "      <th>F</th>\n",
       "      <th>M</th>\n",
       "    </tr>\n",
       "    <tr>\n",
       "      <th>title</th>\n",
       "      <th></th>\n",
       "      <th></th>\n",
       "    </tr>\n",
       "  </thead>\n",
       "  <tbody>\n",
       "    <tr>\n",
       "      <th>Breaker Morant (1980)</th>\n",
       "      <td>5.00</td>\n",
       "      <td>4.00</td>\n",
       "    </tr>\n",
       "    <tr>\n",
       "      <th>My Favorite Year (1982)</th>\n",
       "      <td>5.00</td>\n",
       "      <td>4.00</td>\n",
       "    </tr>\n",
       "    <tr>\n",
       "      <th>Hidden, The (1987)</th>\n",
       "      <td>5.00</td>\n",
       "      <td>3.57</td>\n",
       "    </tr>\n",
       "    <tr>\n",
       "      <th>Five Easy Pieces (1970)</th>\n",
       "      <td>5.00</td>\n",
       "      <td>4.18</td>\n",
       "    </tr>\n",
       "    <tr>\n",
       "      <th>Stalag 17 (1953)</th>\n",
       "      <td>5.00</td>\n",
       "      <td>4.15</td>\n",
       "    </tr>\n",
       "    <tr>\n",
       "      <th>Kelly's Heroes (1970)</th>\n",
       "      <td>5.00</td>\n",
       "      <td>3.88</td>\n",
       "    </tr>\n",
       "    <tr>\n",
       "      <th>It Happened One Night (1934)</th>\n",
       "      <td>4.88</td>\n",
       "      <td>4.19</td>\n",
       "    </tr>\n",
       "    <tr>\n",
       "      <th>Brazil (1985)</th>\n",
       "      <td>4.75</td>\n",
       "      <td>4.31</td>\n",
       "    </tr>\n",
       "    <tr>\n",
       "      <th>Wrong Trousers, The (1993)</th>\n",
       "      <td>4.73</td>\n",
       "      <td>4.45</td>\n",
       "    </tr>\n",
       "    <tr>\n",
       "      <th>Charade (1963)</th>\n",
       "      <td>4.69</td>\n",
       "      <td>4.33</td>\n",
       "    </tr>\n",
       "  </tbody>\n",
       "</table>\n",
       "</div>"
      ],
      "text/plain": [
       "gender                          F    M\n",
       "title                                 \n",
       "Breaker Morant (1980)        5.00 4.00\n",
       "My Favorite Year (1982)      5.00 4.00\n",
       "Hidden, The (1987)           5.00 3.57\n",
       "Five Easy Pieces (1970)      5.00 4.18\n",
       "Stalag 17 (1953)             5.00 4.15\n",
       "Kelly's Heroes (1970)        5.00 3.88\n",
       "It Happened One Night (1934) 4.88 4.19\n",
       "Brazil (1985)                4.75 4.31\n",
       "Wrong Trousers, The (1993)   4.73 4.45\n",
       "Charade (1963)               4.69 4.33"
      ]
     },
     "execution_count": 77,
     "metadata": {},
     "output_type": "execute_result"
    }
   ],
   "source": [
    "top_young_female_ratings = mean_ratings['18-24'].sort_values(by='F', ascending=False)\n",
    "top_young_female_ratings[:10]"
   ]
  },
  {
   "cell_type": "code",
   "execution_count": 78,
   "metadata": {},
   "outputs": [
    {
     "data": {
      "text/plain": [
       "['Breaker Morant (1980)',\n",
       " 'My Favorite Year (1982)',\n",
       " 'Hidden, The (1987)',\n",
       " 'Five Easy Pieces (1970)',\n",
       " 'Stalag 17 (1953)',\n",
       " \"Kelly's Heroes (1970)\",\n",
       " 'It Happened One Night (1934)',\n",
       " 'Brazil (1985)',\n",
       " 'Wrong Trousers, The (1993)',\n",
       " 'Charade (1963)']"
      ]
     },
     "execution_count": 78,
     "metadata": {},
     "output_type": "execute_result"
    }
   ],
   "source": [
    "mean_ratings['18-24'].sort_values(by='F', ascending=False)[:10].index.tolist()"
   ]
  },
  {
   "cell_type": "markdown",
   "metadata": {},
   "source": [
    "<mark>**Q10** What are Top 10 (best rated) movies according to males in age group 25-34?</mark>"
   ]
  },
  {
   "cell_type": "code",
   "execution_count": 79,
   "metadata": {},
   "outputs": [
    {
     "data": {
      "text/html": [
       "<div>\n",
       "<style scoped>\n",
       "    .dataframe tbody tr th:only-of-type {\n",
       "        vertical-align: middle;\n",
       "    }\n",
       "\n",
       "    .dataframe tbody tr th {\n",
       "        vertical-align: top;\n",
       "    }\n",
       "\n",
       "    .dataframe thead tr th {\n",
       "        text-align: left;\n",
       "    }\n",
       "\n",
       "    .dataframe thead tr:last-of-type th {\n",
       "        text-align: right;\n",
       "    }\n",
       "</style>\n",
       "<table border=\"1\" class=\"dataframe\">\n",
       "  <thead>\n",
       "    <tr>\n",
       "      <th>age</th>\n",
       "      <th colspan=\"2\" halign=\"left\">18-24</th>\n",
       "      <th colspan=\"2\" halign=\"left\">25-34</th>\n",
       "      <th colspan=\"2\" halign=\"left\">35-44</th>\n",
       "      <th colspan=\"2\" halign=\"left\">45-49</th>\n",
       "      <th colspan=\"2\" halign=\"left\">50-55</th>\n",
       "      <th colspan=\"2\" halign=\"left\">56+</th>\n",
       "      <th colspan=\"2\" halign=\"left\">Under 18</th>\n",
       "    </tr>\n",
       "    <tr>\n",
       "      <th>gender</th>\n",
       "      <th>F</th>\n",
       "      <th>M</th>\n",
       "      <th>F</th>\n",
       "      <th>M</th>\n",
       "      <th>F</th>\n",
       "      <th>M</th>\n",
       "      <th>F</th>\n",
       "      <th>M</th>\n",
       "      <th>F</th>\n",
       "      <th>M</th>\n",
       "      <th>F</th>\n",
       "      <th>M</th>\n",
       "      <th>F</th>\n",
       "      <th>M</th>\n",
       "    </tr>\n",
       "    <tr>\n",
       "      <th>title</th>\n",
       "      <th></th>\n",
       "      <th></th>\n",
       "      <th></th>\n",
       "      <th></th>\n",
       "      <th></th>\n",
       "      <th></th>\n",
       "      <th></th>\n",
       "      <th></th>\n",
       "      <th></th>\n",
       "      <th></th>\n",
       "      <th></th>\n",
       "      <th></th>\n",
       "      <th></th>\n",
       "      <th></th>\n",
       "    </tr>\n",
       "  </thead>\n",
       "  <tbody>\n",
       "    <tr>\n",
       "      <th>'burbs, The (1989)</th>\n",
       "      <td>3.11</td>\n",
       "      <td>3.34</td>\n",
       "      <td>2.47</td>\n",
       "      <td>2.71</td>\n",
       "      <td>3.06</td>\n",
       "      <td>2.73</td>\n",
       "      <td>2.00</td>\n",
       "      <td>2.75</td>\n",
       "      <td>3.14</td>\n",
       "      <td>3.27</td>\n",
       "      <td>1.00</td>\n",
       "      <td>2.50</td>\n",
       "      <td>NaN</td>\n",
       "      <td>4.50</td>\n",
       "    </tr>\n",
       "    <tr>\n",
       "      <th>10 Things I Hate About You (1999)</th>\n",
       "      <td>3.51</td>\n",
       "      <td>3.38</td>\n",
       "      <td>3.73</td>\n",
       "      <td>3.30</td>\n",
       "      <td>3.47</td>\n",
       "      <td>3.00</td>\n",
       "      <td>3.64</td>\n",
       "      <td>3.00</td>\n",
       "      <td>3.55</td>\n",
       "      <td>3.69</td>\n",
       "      <td>4.00</td>\n",
       "      <td>4.00</td>\n",
       "      <td>4.15</td>\n",
       "      <td>3.44</td>\n",
       "    </tr>\n",
       "    <tr>\n",
       "      <th>101 Dalmatians (1961)</th>\n",
       "      <td>3.43</td>\n",
       "      <td>3.21</td>\n",
       "      <td>3.76</td>\n",
       "      <td>3.57</td>\n",
       "      <td>4.05</td>\n",
       "      <td>3.75</td>\n",
       "      <td>4.31</td>\n",
       "      <td>3.79</td>\n",
       "      <td>4.12</td>\n",
       "      <td>3.32</td>\n",
       "      <td>3.67</td>\n",
       "      <td>3.06</td>\n",
       "      <td>3.81</td>\n",
       "      <td>3.22</td>\n",
       "    </tr>\n",
       "    <tr>\n",
       "      <th>101 Dalmatians (1996)</th>\n",
       "      <td>2.71</td>\n",
       "      <td>2.38</td>\n",
       "      <td>3.15</td>\n",
       "      <td>2.77</td>\n",
       "      <td>3.22</td>\n",
       "      <td>3.32</td>\n",
       "      <td>3.78</td>\n",
       "      <td>3.33</td>\n",
       "      <td>4.25</td>\n",
       "      <td>3.00</td>\n",
       "      <td>3.67</td>\n",
       "      <td>3.40</td>\n",
       "      <td>3.62</td>\n",
       "      <td>2.71</td>\n",
       "    </tr>\n",
       "    <tr>\n",
       "      <th>12 Angry Men (1957)</th>\n",
       "      <td>3.71</td>\n",
       "      <td>4.15</td>\n",
       "      <td>4.51</td>\n",
       "      <td>4.38</td>\n",
       "      <td>4.22</td>\n",
       "      <td>4.41</td>\n",
       "      <td>4.38</td>\n",
       "      <td>4.23</td>\n",
       "      <td>4.39</td>\n",
       "      <td>4.24</td>\n",
       "      <td>4.00</td>\n",
       "      <td>4.28</td>\n",
       "      <td>3.67</td>\n",
       "      <td>5.00</td>\n",
       "    </tr>\n",
       "    <tr>\n",
       "      <th>...</th>\n",
       "      <td>...</td>\n",
       "      <td>...</td>\n",
       "      <td>...</td>\n",
       "      <td>...</td>\n",
       "      <td>...</td>\n",
       "      <td>...</td>\n",
       "      <td>...</td>\n",
       "      <td>...</td>\n",
       "      <td>...</td>\n",
       "      <td>...</td>\n",
       "      <td>...</td>\n",
       "      <td>...</td>\n",
       "      <td>...</td>\n",
       "      <td>...</td>\n",
       "    </tr>\n",
       "    <tr>\n",
       "      <th>Young Guns (1988)</th>\n",
       "      <td>3.21</td>\n",
       "      <td>3.71</td>\n",
       "      <td>3.42</td>\n",
       "      <td>3.42</td>\n",
       "      <td>3.27</td>\n",
       "      <td>3.29</td>\n",
       "      <td>3.57</td>\n",
       "      <td>3.04</td>\n",
       "      <td>NaN</td>\n",
       "      <td>3.19</td>\n",
       "      <td>3.00</td>\n",
       "      <td>3.00</td>\n",
       "      <td>NaN</td>\n",
       "      <td>3.00</td>\n",
       "    </tr>\n",
       "    <tr>\n",
       "      <th>Young Guns II (1990)</th>\n",
       "      <td>3.07</td>\n",
       "      <td>3.11</td>\n",
       "      <td>2.79</td>\n",
       "      <td>2.90</td>\n",
       "      <td>3.00</td>\n",
       "      <td>2.81</td>\n",
       "      <td>3.25</td>\n",
       "      <td>2.21</td>\n",
       "      <td>1.00</td>\n",
       "      <td>2.50</td>\n",
       "      <td>NaN</td>\n",
       "      <td>2.71</td>\n",
       "      <td>5.00</td>\n",
       "      <td>3.00</td>\n",
       "    </tr>\n",
       "    <tr>\n",
       "      <th>Young Sherlock Holmes (1985)</th>\n",
       "      <td>3.60</td>\n",
       "      <td>3.60</td>\n",
       "      <td>3.69</td>\n",
       "      <td>3.38</td>\n",
       "      <td>3.08</td>\n",
       "      <td>3.27</td>\n",
       "      <td>3.14</td>\n",
       "      <td>3.09</td>\n",
       "      <td>3.20</td>\n",
       "      <td>3.33</td>\n",
       "      <td>4.00</td>\n",
       "      <td>3.14</td>\n",
       "      <td>NaN</td>\n",
       "      <td>3.00</td>\n",
       "    </tr>\n",
       "    <tr>\n",
       "      <th>Zero Effect (1998)</th>\n",
       "      <td>4.14</td>\n",
       "      <td>3.87</td>\n",
       "      <td>3.89</td>\n",
       "      <td>3.67</td>\n",
       "      <td>3.67</td>\n",
       "      <td>3.62</td>\n",
       "      <td>4.00</td>\n",
       "      <td>3.67</td>\n",
       "      <td>4.33</td>\n",
       "      <td>3.73</td>\n",
       "      <td>3.50</td>\n",
       "      <td>3.67</td>\n",
       "      <td>4.50</td>\n",
       "      <td>4.00</td>\n",
       "    </tr>\n",
       "    <tr>\n",
       "      <th>eXistenZ (1999)</th>\n",
       "      <td>2.92</td>\n",
       "      <td>3.43</td>\n",
       "      <td>3.25</td>\n",
       "      <td>3.21</td>\n",
       "      <td>2.85</td>\n",
       "      <td>3.48</td>\n",
       "      <td>3.67</td>\n",
       "      <td>3.05</td>\n",
       "      <td>3.50</td>\n",
       "      <td>3.25</td>\n",
       "      <td>NaN</td>\n",
       "      <td>2.20</td>\n",
       "      <td>4.00</td>\n",
       "      <td>3.08</td>\n",
       "    </tr>\n",
       "  </tbody>\n",
       "</table>\n",
       "<p>1191 rows × 14 columns</p>\n",
       "</div>"
      ],
      "text/plain": [
       "age                               18-24      25-34      35-44      45-49       \\\n",
       "gender                                F    M     F    M     F    M     F    M   \n",
       "title                                                                           \n",
       "'burbs, The (1989)                 3.11 3.34  2.47 2.71  3.06 2.73  2.00 2.75   \n",
       "10 Things I Hate About You (1999)  3.51 3.38  3.73 3.30  3.47 3.00  3.64 3.00   \n",
       "101 Dalmatians (1961)              3.43 3.21  3.76 3.57  4.05 3.75  4.31 3.79   \n",
       "101 Dalmatians (1996)              2.71 2.38  3.15 2.77  3.22 3.32  3.78 3.33   \n",
       "12 Angry Men (1957)                3.71 4.15  4.51 4.38  4.22 4.41  4.38 4.23   \n",
       "...                                 ...  ...   ...  ...   ...  ...   ...  ...   \n",
       "Young Guns (1988)                  3.21 3.71  3.42 3.42  3.27 3.29  3.57 3.04   \n",
       "Young Guns II (1990)               3.07 3.11  2.79 2.90  3.00 2.81  3.25 2.21   \n",
       "Young Sherlock Holmes (1985)       3.60 3.60  3.69 3.38  3.08 3.27  3.14 3.09   \n",
       "Zero Effect (1998)                 4.14 3.87  3.89 3.67  3.67 3.62  4.00 3.67   \n",
       "eXistenZ (1999)                    2.92 3.43  3.25 3.21  2.85 3.48  3.67 3.05   \n",
       "\n",
       "age                               50-55       56+      Under 18       \n",
       "gender                                F    M    F    M        F    M  \n",
       "title                                                                 \n",
       "'burbs, The (1989)                 3.14 3.27 1.00 2.50      NaN 4.50  \n",
       "10 Things I Hate About You (1999)  3.55 3.69 4.00 4.00     4.15 3.44  \n",
       "101 Dalmatians (1961)              4.12 3.32 3.67 3.06     3.81 3.22  \n",
       "101 Dalmatians (1996)              4.25 3.00 3.67 3.40     3.62 2.71  \n",
       "12 Angry Men (1957)                4.39 4.24 4.00 4.28     3.67 5.00  \n",
       "...                                 ...  ...  ...  ...      ...  ...  \n",
       "Young Guns (1988)                   NaN 3.19 3.00 3.00      NaN 3.00  \n",
       "Young Guns II (1990)               1.00 2.50  NaN 2.71     5.00 3.00  \n",
       "Young Sherlock Holmes (1985)       3.20 3.33 4.00 3.14      NaN 3.00  \n",
       "Zero Effect (1998)                 4.33 3.73 3.50 3.67     4.50 4.00  \n",
       "eXistenZ (1999)                    3.50 3.25  NaN 2.20     4.00 3.08  \n",
       "\n",
       "[1191 rows x 14 columns]"
      ]
     },
     "execution_count": 79,
     "metadata": {},
     "output_type": "execute_result"
    }
   ],
   "source": [
    "mean_ratings"
   ]
  },
  {
   "cell_type": "code",
   "execution_count": 80,
   "metadata": {},
   "outputs": [
    {
     "data": {
      "text/html": [
       "<div>\n",
       "<style scoped>\n",
       "    .dataframe tbody tr th:only-of-type {\n",
       "        vertical-align: middle;\n",
       "    }\n",
       "\n",
       "    .dataframe tbody tr th {\n",
       "        vertical-align: top;\n",
       "    }\n",
       "\n",
       "    .dataframe thead th {\n",
       "        text-align: right;\n",
       "    }\n",
       "</style>\n",
       "<table border=\"1\" class=\"dataframe\">\n",
       "  <thead>\n",
       "    <tr style=\"text-align: right;\">\n",
       "      <th>gender</th>\n",
       "      <th>F</th>\n",
       "      <th>M</th>\n",
       "    </tr>\n",
       "    <tr>\n",
       "      <th>title</th>\n",
       "      <th></th>\n",
       "      <th></th>\n",
       "    </tr>\n",
       "  </thead>\n",
       "  <tbody>\n",
       "    <tr>\n",
       "      <th>Raiders of the Lost Ark (1981)</th>\n",
       "      <td>4.42</td>\n",
       "      <td>4.62</td>\n",
       "    </tr>\n",
       "    <tr>\n",
       "      <th>Star Wars: Episode IV - A New Hope (1977)</th>\n",
       "      <td>4.43</td>\n",
       "      <td>4.62</td>\n",
       "    </tr>\n",
       "    <tr>\n",
       "      <th>Godfather, The (1972)</th>\n",
       "      <td>4.40</td>\n",
       "      <td>4.61</td>\n",
       "    </tr>\n",
       "    <tr>\n",
       "      <th>Shawshank Redemption, The (1994)</th>\n",
       "      <td>4.61</td>\n",
       "      <td>4.58</td>\n",
       "    </tr>\n",
       "    <tr>\n",
       "      <th>Usual Suspects, The (1995)</th>\n",
       "      <td>4.50</td>\n",
       "      <td>4.56</td>\n",
       "    </tr>\n",
       "    <tr>\n",
       "      <th>Seven Samurai (Shichinin no samurai) (1954)</th>\n",
       "      <td>4.50</td>\n",
       "      <td>4.55</td>\n",
       "    </tr>\n",
       "    <tr>\n",
       "      <th>Rear Window (1954)</th>\n",
       "      <td>4.50</td>\n",
       "      <td>4.53</td>\n",
       "    </tr>\n",
       "    <tr>\n",
       "      <th>Double Indemnity (1944)</th>\n",
       "      <td>4.34</td>\n",
       "      <td>4.50</td>\n",
       "    </tr>\n",
       "    <tr>\n",
       "      <th>Godfather: Part II, The (1974)</th>\n",
       "      <td>4.16</td>\n",
       "      <td>4.49</td>\n",
       "    </tr>\n",
       "    <tr>\n",
       "      <th>Schindler's List (1993)</th>\n",
       "      <td>4.49</td>\n",
       "      <td>4.49</td>\n",
       "    </tr>\n",
       "  </tbody>\n",
       "</table>\n",
       "</div>"
      ],
      "text/plain": [
       "gender                                         F    M\n",
       "title                                                \n",
       "Raiders of the Lost Ark (1981)              4.42 4.62\n",
       "Star Wars: Episode IV - A New Hope (1977)   4.43 4.62\n",
       "Godfather, The (1972)                       4.40 4.61\n",
       "Shawshank Redemption, The (1994)            4.61 4.58\n",
       "Usual Suspects, The (1995)                  4.50 4.56\n",
       "Seven Samurai (Shichinin no samurai) (1954) 4.50 4.55\n",
       "Rear Window (1954)                          4.50 4.53\n",
       "Double Indemnity (1944)                     4.34 4.50\n",
       "Godfather: Part II, The (1974)              4.16 4.49\n",
       "Schindler's List (1993)                     4.49 4.49"
      ]
     },
     "execution_count": 80,
     "metadata": {},
     "output_type": "execute_result"
    }
   ],
   "source": [
    "top_young_male_ratings = mean_ratings['25-34'].sort_values(by='M', ascending=False)\n",
    "top_young_male_ratings[:10]"
   ]
  },
  {
   "cell_type": "code",
   "execution_count": 81,
   "metadata": {},
   "outputs": [
    {
     "data": {
      "text/plain": [
       "['Raiders of the Lost Ark (1981)',\n",
       " 'Star Wars: Episode IV - A New Hope (1977)',\n",
       " 'Godfather, The (1972)',\n",
       " 'Shawshank Redemption, The (1994)',\n",
       " 'Usual Suspects, The (1995)',\n",
       " 'Seven Samurai (Shichinin no samurai) (1954)',\n",
       " 'Rear Window (1954)',\n",
       " 'Double Indemnity (1944)',\n",
       " 'Godfather: Part II, The (1974)',\n",
       " \"Schindler's List (1993)\"]"
      ]
     },
     "execution_count": 81,
     "metadata": {},
     "output_type": "execute_result"
    }
   ],
   "source": [
    "mean_ratings['25-34'].sort_values(by='M', ascending=False)[:10].index.tolist()"
   ]
  },
  {
   "cell_type": "markdown",
   "metadata": {},
   "source": [
    "<mark>**Q11** How many people have rated the movie called \"Ferris Bueller's Day Off (1986)\"?</mark>"
   ]
  },
  {
   "cell_type": "code",
   "execution_count": 82,
   "metadata": {},
   "outputs": [
    {
     "data": {
      "text/html": [
       "<div>\n",
       "<style scoped>\n",
       "    .dataframe tbody tr th:only-of-type {\n",
       "        vertical-align: middle;\n",
       "    }\n",
       "\n",
       "    .dataframe tbody tr th {\n",
       "        vertical-align: top;\n",
       "    }\n",
       "\n",
       "    .dataframe thead th {\n",
       "        text-align: right;\n",
       "    }\n",
       "</style>\n",
       "<table border=\"1\" class=\"dataframe\">\n",
       "  <thead>\n",
       "    <tr style=\"text-align: right;\">\n",
       "      <th></th>\n",
       "      <th>user_id</th>\n",
       "      <th>movie_id</th>\n",
       "      <th>rating</th>\n",
       "      <th>timestamp</th>\n",
       "      <th>gender</th>\n",
       "      <th>age</th>\n",
       "      <th>occupation</th>\n",
       "      <th>zip</th>\n",
       "      <th>title</th>\n",
       "      <th>genres</th>\n",
       "      <th>state</th>\n",
       "    </tr>\n",
       "  </thead>\n",
       "  <tbody>\n",
       "    <tr>\n",
       "      <th>13</th>\n",
       "      <td>1</td>\n",
       "      <td>2918</td>\n",
       "      <td>4</td>\n",
       "      <td>2000-12-31 22:35:24</td>\n",
       "      <td>F</td>\n",
       "      <td>Under 18</td>\n",
       "      <td>K-12 student</td>\n",
       "      <td>48067</td>\n",
       "      <td>Ferris Bueller's Day Off (1986)</td>\n",
       "      <td>comedy</td>\n",
       "      <td>MI</td>\n",
       "    </tr>\n",
       "    <tr>\n",
       "      <th>1026</th>\n",
       "      <td>10</td>\n",
       "      <td>2918</td>\n",
       "      <td>5</td>\n",
       "      <td>2000-12-31 01:25:22</td>\n",
       "      <td>F</td>\n",
       "      <td>35-44</td>\n",
       "      <td>academic/educator</td>\n",
       "      <td>95370</td>\n",
       "      <td>Ferris Bueller's Day Off (1986)</td>\n",
       "      <td>comedy</td>\n",
       "      <td>CA</td>\n",
       "    </tr>\n",
       "    <tr>\n",
       "      <th>1272</th>\n",
       "      <td>11</td>\n",
       "      <td>2918</td>\n",
       "      <td>5</td>\n",
       "      <td>2001-01-07 21:32:09</td>\n",
       "      <td>F</td>\n",
       "      <td>25-34</td>\n",
       "      <td>academic/educator</td>\n",
       "      <td>4093</td>\n",
       "      <td>Ferris Bueller's Day Off (1986)</td>\n",
       "      <td>comedy</td>\n",
       "      <td>ME</td>\n",
       "    </tr>\n",
       "    <tr>\n",
       "      <th>2402</th>\n",
       "      <td>19</td>\n",
       "      <td>2918</td>\n",
       "      <td>4</td>\n",
       "      <td>2001-02-14 22:42:43</td>\n",
       "      <td>M</td>\n",
       "      <td>Under 18</td>\n",
       "      <td>K-12 student</td>\n",
       "      <td>48073</td>\n",
       "      <td>Ferris Bueller's Day Off (1986)</td>\n",
       "      <td>comedy</td>\n",
       "      <td>MI</td>\n",
       "    </tr>\n",
       "    <tr>\n",
       "      <th>2707</th>\n",
       "      <td>22</td>\n",
       "      <td>2918</td>\n",
       "      <td>4</td>\n",
       "      <td>2000-12-30 00:09:37</td>\n",
       "      <td>M</td>\n",
       "      <td>18-24</td>\n",
       "      <td>scientist</td>\n",
       "      <td>53706</td>\n",
       "      <td>Ferris Bueller's Day Off (1986)</td>\n",
       "      <td>comedy</td>\n",
       "      <td>WI</td>\n",
       "    </tr>\n",
       "  </tbody>\n",
       "</table>\n",
       "</div>"
      ],
      "text/plain": [
       "      user_id  movie_id  rating           timestamp gender       age  \\\n",
       "13          1      2918       4 2000-12-31 22:35:24      F  Under 18   \n",
       "1026       10      2918       5 2000-12-31 01:25:22      F     35-44   \n",
       "1272       11      2918       5 2001-01-07 21:32:09      F     25-34   \n",
       "2402       19      2918       4 2001-02-14 22:42:43      M  Under 18   \n",
       "2707       22      2918       4 2000-12-30 00:09:37      M     18-24   \n",
       "\n",
       "             occupation    zip                            title  genres state  \n",
       "13         K-12 student  48067  Ferris Bueller's Day Off (1986)  comedy    MI  \n",
       "1026  academic/educator  95370  Ferris Bueller's Day Off (1986)  comedy    CA  \n",
       "1272  academic/educator   4093  Ferris Bueller's Day Off (1986)  comedy    ME  \n",
       "2402       K-12 student  48073  Ferris Bueller's Day Off (1986)  comedy    MI  \n",
       "2707          scientist  53706  Ferris Bueller's Day Off (1986)  comedy    WI  "
      ]
     },
     "execution_count": 82,
     "metadata": {},
     "output_type": "execute_result"
    }
   ],
   "source": [
    "# Let's view the first five rows that contain ratings for that movie.\n",
    "df[df['title'] == \"Ferris Bueller's Day Off (1986)\"].head()"
   ]
  },
  {
   "cell_type": "code",
   "execution_count": 83,
   "metadata": {},
   "outputs": [
    {
     "data": {
      "text/plain": [
       "(1439, 11)"
      ]
     },
     "execution_count": 83,
     "metadata": {},
     "output_type": "execute_result"
    }
   ],
   "source": [
    "df[df['title'] == \"Ferris Bueller's Day Off (1986)\"].shape"
   ]
  },
  {
   "cell_type": "code",
   "execution_count": 84,
   "metadata": {},
   "outputs": [
    {
     "data": {
      "text/plain": [
       "1439"
      ]
     },
     "execution_count": 84,
     "metadata": {},
     "output_type": "execute_result"
    }
   ],
   "source": [
    "# This is one way toobtain the answer...\n",
    "df[df['title'] == \"Ferris Bueller's Day Off (1986)\"].shape[0]"
   ]
  },
  {
   "cell_type": "code",
   "execution_count": 85,
   "metadata": {},
   "outputs": [
    {
     "data": {
      "text/html": [
       "<div>\n",
       "<style scoped>\n",
       "    .dataframe tbody tr th:only-of-type {\n",
       "        vertical-align: middle;\n",
       "    }\n",
       "\n",
       "    .dataframe tbody tr th {\n",
       "        vertical-align: top;\n",
       "    }\n",
       "\n",
       "    .dataframe thead th {\n",
       "        text-align: right;\n",
       "    }\n",
       "</style>\n",
       "<table border=\"1\" class=\"dataframe\">\n",
       "  <thead>\n",
       "    <tr style=\"text-align: right;\">\n",
       "      <th></th>\n",
       "      <th>user_id</th>\n",
       "      <th>movie_id</th>\n",
       "      <th>rating</th>\n",
       "      <th>timestamp</th>\n",
       "      <th>gender</th>\n",
       "      <th>age</th>\n",
       "      <th>occupation</th>\n",
       "      <th>zip</th>\n",
       "      <th>title</th>\n",
       "      <th>genres</th>\n",
       "      <th>state</th>\n",
       "    </tr>\n",
       "  </thead>\n",
       "  <tbody>\n",
       "    <tr>\n",
       "      <th>13</th>\n",
       "      <td>1</td>\n",
       "      <td>2918</td>\n",
       "      <td>4</td>\n",
       "      <td>2000-12-31 22:35:24</td>\n",
       "      <td>F</td>\n",
       "      <td>Under 18</td>\n",
       "      <td>K-12 student</td>\n",
       "      <td>48067</td>\n",
       "      <td>Ferris Bueller's Day Off (1986)</td>\n",
       "      <td>comedy</td>\n",
       "      <td>MI</td>\n",
       "    </tr>\n",
       "    <tr>\n",
       "      <th>1026</th>\n",
       "      <td>10</td>\n",
       "      <td>2918</td>\n",
       "      <td>5</td>\n",
       "      <td>2000-12-31 01:25:22</td>\n",
       "      <td>F</td>\n",
       "      <td>35-44</td>\n",
       "      <td>academic/educator</td>\n",
       "      <td>95370</td>\n",
       "      <td>Ferris Bueller's Day Off (1986)</td>\n",
       "      <td>comedy</td>\n",
       "      <td>CA</td>\n",
       "    </tr>\n",
       "    <tr>\n",
       "      <th>1272</th>\n",
       "      <td>11</td>\n",
       "      <td>2918</td>\n",
       "      <td>5</td>\n",
       "      <td>2001-01-07 21:32:09</td>\n",
       "      <td>F</td>\n",
       "      <td>25-34</td>\n",
       "      <td>academic/educator</td>\n",
       "      <td>4093</td>\n",
       "      <td>Ferris Bueller's Day Off (1986)</td>\n",
       "      <td>comedy</td>\n",
       "      <td>ME</td>\n",
       "    </tr>\n",
       "  </tbody>\n",
       "</table>\n",
       "</div>"
      ],
      "text/plain": [
       "      user_id  movie_id  rating           timestamp gender       age  \\\n",
       "13          1      2918       4 2000-12-31 22:35:24      F  Under 18   \n",
       "1026       10      2918       5 2000-12-31 01:25:22      F     35-44   \n",
       "1272       11      2918       5 2001-01-07 21:32:09      F     25-34   \n",
       "\n",
       "             occupation    zip                            title  genres state  \n",
       "13         K-12 student  48067  Ferris Bueller's Day Off (1986)  comedy    MI  \n",
       "1026  academic/educator  95370  Ferris Bueller's Day Off (1986)  comedy    CA  \n",
       "1272  academic/educator   4093  Ferris Bueller's Day Off (1986)  comedy    ME  "
      ]
     },
     "execution_count": 85,
     "metadata": {},
     "output_type": "execute_result"
    }
   ],
   "source": [
    "# However, there is more than one way...\n",
    "gr = df.groupby('title')\n",
    "gr.get_group(\"Ferris Bueller's Day Off (1986)\").head(3)"
   ]
  },
  {
   "cell_type": "code",
   "execution_count": 86,
   "metadata": {},
   "outputs": [
    {
     "data": {
      "text/plain": [
       "user_id       1439\n",
       "movie_id      1439\n",
       "rating        1439\n",
       "timestamp     1439\n",
       "gender        1439\n",
       "age           1439\n",
       "occupation    1439\n",
       "zip           1439\n",
       "title         1439\n",
       "genres        1439\n",
       "state         1439\n",
       "dtype: int64"
      ]
     },
     "execution_count": 86,
     "metadata": {},
     "output_type": "execute_result"
    }
   ],
   "source": [
    "gr.get_group(\"Ferris Bueller's Day Off (1986)\").count()"
   ]
  },
  {
   "cell_type": "code",
   "execution_count": 87,
   "metadata": {},
   "outputs": [
    {
     "data": {
      "text/plain": [
       "1439"
      ]
     },
     "execution_count": 87,
     "metadata": {},
     "output_type": "execute_result"
    }
   ],
   "source": [
    "gr.get_group(\"Ferris Bueller's Day Off (1986)\")['rating'].count()"
   ]
  },
  {
   "cell_type": "code",
   "execution_count": 88,
   "metadata": {},
   "outputs": [
    {
     "data": {
      "text/plain": [
       "1439"
      ]
     },
     "execution_count": 88,
     "metadata": {},
     "output_type": "execute_result"
    }
   ],
   "source": [
    "len(gr.get_group(\"Ferris Bueller's Day Off (1986)\"))"
   ]
  },
  {
   "cell_type": "markdown",
   "metadata": {},
   "source": [
    "<mark>**Q12** What are Top 10 movies where the ratings of female and male users differ the most?</mark>"
   ]
  },
  {
   "cell_type": "code",
   "execution_count": 89,
   "metadata": {},
   "outputs": [
    {
     "data": {
      "text/html": [
       "<div>\n",
       "<style scoped>\n",
       "    .dataframe tbody tr th:only-of-type {\n",
       "        vertical-align: middle;\n",
       "    }\n",
       "\n",
       "    .dataframe tbody tr th {\n",
       "        vertical-align: top;\n",
       "    }\n",
       "\n",
       "    .dataframe thead th {\n",
       "        text-align: right;\n",
       "    }\n",
       "</style>\n",
       "<table border=\"1\" class=\"dataframe\">\n",
       "  <thead>\n",
       "    <tr style=\"text-align: right;\">\n",
       "      <th>gender</th>\n",
       "      <th>F</th>\n",
       "      <th>M</th>\n",
       "    </tr>\n",
       "    <tr>\n",
       "      <th>title</th>\n",
       "      <th></th>\n",
       "      <th></th>\n",
       "    </tr>\n",
       "  </thead>\n",
       "  <tbody>\n",
       "    <tr>\n",
       "      <th>'burbs, The (1989)</th>\n",
       "      <td>2.79</td>\n",
       "      <td>2.96</td>\n",
       "    </tr>\n",
       "    <tr>\n",
       "      <th>10 Things I Hate About You (1999)</th>\n",
       "      <td>3.67</td>\n",
       "      <td>3.31</td>\n",
       "    </tr>\n",
       "    <tr>\n",
       "      <th>101 Dalmatians (1961)</th>\n",
       "      <td>3.81</td>\n",
       "      <td>3.49</td>\n",
       "    </tr>\n",
       "    <tr>\n",
       "      <th>101 Dalmatians (1996)</th>\n",
       "      <td>3.27</td>\n",
       "      <td>2.90</td>\n",
       "    </tr>\n",
       "    <tr>\n",
       "      <th>12 Angry Men (1957)</th>\n",
       "      <td>4.21</td>\n",
       "      <td>4.32</td>\n",
       "    </tr>\n",
       "  </tbody>\n",
       "</table>\n",
       "</div>"
      ],
      "text/plain": [
       "gender                               F    M\n",
       "title                                      \n",
       "'burbs, The (1989)                2.79 2.96\n",
       "10 Things I Hate About You (1999) 3.67 3.31\n",
       "101 Dalmatians (1961)             3.81 3.49\n",
       "101 Dalmatians (1996)             3.27 2.90\n",
       "12 Angry Men (1957)               4.21 4.32"
      ]
     },
     "execution_count": 89,
     "metadata": {},
     "output_type": "execute_result"
    }
   ],
   "source": [
    "mean_ratings = df.pivot_table('rating', index='title', columns='gender', aggfunc='mean')\n",
    "mean_ratings = mean_ratings.loc[active_titles]\n",
    "mean_ratings.head()"
   ]
  },
  {
   "cell_type": "code",
   "execution_count": 90,
   "metadata": {},
   "outputs": [],
   "source": [
    "mean_ratings['diff'] = mean_ratings['M'] - mean_ratings['F']"
   ]
  },
  {
   "cell_type": "code",
   "execution_count": 91,
   "metadata": {},
   "outputs": [
    {
     "data": {
      "text/html": [
       "<div>\n",
       "<style scoped>\n",
       "    .dataframe tbody tr th:only-of-type {\n",
       "        vertical-align: middle;\n",
       "    }\n",
       "\n",
       "    .dataframe tbody tr th {\n",
       "        vertical-align: top;\n",
       "    }\n",
       "\n",
       "    .dataframe thead th {\n",
       "        text-align: right;\n",
       "    }\n",
       "</style>\n",
       "<table border=\"1\" class=\"dataframe\">\n",
       "  <thead>\n",
       "    <tr style=\"text-align: right;\">\n",
       "      <th>gender</th>\n",
       "      <th>F</th>\n",
       "      <th>M</th>\n",
       "      <th>diff</th>\n",
       "    </tr>\n",
       "    <tr>\n",
       "      <th>title</th>\n",
       "      <th></th>\n",
       "      <th></th>\n",
       "      <th></th>\n",
       "    </tr>\n",
       "  </thead>\n",
       "  <tbody>\n",
       "    <tr>\n",
       "      <th>'burbs, The (1989)</th>\n",
       "      <td>2.79</td>\n",
       "      <td>2.96</td>\n",
       "      <td>0.17</td>\n",
       "    </tr>\n",
       "    <tr>\n",
       "      <th>10 Things I Hate About You (1999)</th>\n",
       "      <td>3.67</td>\n",
       "      <td>3.31</td>\n",
       "      <td>-0.36</td>\n",
       "    </tr>\n",
       "    <tr>\n",
       "      <th>101 Dalmatians (1961)</th>\n",
       "      <td>3.81</td>\n",
       "      <td>3.49</td>\n",
       "      <td>-0.32</td>\n",
       "    </tr>\n",
       "    <tr>\n",
       "      <th>101 Dalmatians (1996)</th>\n",
       "      <td>3.27</td>\n",
       "      <td>2.90</td>\n",
       "      <td>-0.36</td>\n",
       "    </tr>\n",
       "    <tr>\n",
       "      <th>12 Angry Men (1957)</th>\n",
       "      <td>4.21</td>\n",
       "      <td>4.32</td>\n",
       "      <td>0.11</td>\n",
       "    </tr>\n",
       "    <tr>\n",
       "      <th>...</th>\n",
       "      <td>...</td>\n",
       "      <td>...</td>\n",
       "      <td>...</td>\n",
       "    </tr>\n",
       "    <tr>\n",
       "      <th>Young Guns (1988)</th>\n",
       "      <td>3.36</td>\n",
       "      <td>3.42</td>\n",
       "      <td>0.06</td>\n",
       "    </tr>\n",
       "    <tr>\n",
       "      <th>Young Guns II (1990)</th>\n",
       "      <td>2.93</td>\n",
       "      <td>2.89</td>\n",
       "      <td>-0.04</td>\n",
       "    </tr>\n",
       "    <tr>\n",
       "      <th>Young Sherlock Holmes (1985)</th>\n",
       "      <td>3.48</td>\n",
       "      <td>3.35</td>\n",
       "      <td>-0.14</td>\n",
       "    </tr>\n",
       "    <tr>\n",
       "      <th>Zero Effect (1998)</th>\n",
       "      <td>3.91</td>\n",
       "      <td>3.72</td>\n",
       "      <td>-0.19</td>\n",
       "    </tr>\n",
       "    <tr>\n",
       "      <th>eXistenZ (1999)</th>\n",
       "      <td>3.18</td>\n",
       "      <td>3.28</td>\n",
       "      <td>0.10</td>\n",
       "    </tr>\n",
       "  </tbody>\n",
       "</table>\n",
       "<p>1191 rows × 3 columns</p>\n",
       "</div>"
      ],
      "text/plain": [
       "gender                               F    M  diff\n",
       "title                                            \n",
       "'burbs, The (1989)                2.79 2.96  0.17\n",
       "10 Things I Hate About You (1999) 3.67 3.31 -0.36\n",
       "101 Dalmatians (1961)             3.81 3.49 -0.32\n",
       "101 Dalmatians (1996)             3.27 2.90 -0.36\n",
       "12 Angry Men (1957)               4.21 4.32  0.11\n",
       "...                                ...  ...   ...\n",
       "Young Guns (1988)                 3.36 3.42  0.06\n",
       "Young Guns II (1990)              2.93 2.89 -0.04\n",
       "Young Sherlock Holmes (1985)      3.48 3.35 -0.14\n",
       "Zero Effect (1998)                3.91 3.72 -0.19\n",
       "eXistenZ (1999)                   3.18 3.28  0.10\n",
       "\n",
       "[1191 rows x 3 columns]"
      ]
     },
     "execution_count": 91,
     "metadata": {},
     "output_type": "execute_result"
    }
   ],
   "source": [
    "mean_ratings"
   ]
  },
  {
   "cell_type": "code",
   "execution_count": 92,
   "metadata": {},
   "outputs": [
    {
     "data": {
      "text/html": [
       "<div>\n",
       "<style scoped>\n",
       "    .dataframe tbody tr th:only-of-type {\n",
       "        vertical-align: middle;\n",
       "    }\n",
       "\n",
       "    .dataframe tbody tr th {\n",
       "        vertical-align: top;\n",
       "    }\n",
       "\n",
       "    .dataframe thead th {\n",
       "        text-align: right;\n",
       "    }\n",
       "</style>\n",
       "<table border=\"1\" class=\"dataframe\">\n",
       "  <thead>\n",
       "    <tr style=\"text-align: right;\">\n",
       "      <th>gender</th>\n",
       "      <th>F</th>\n",
       "      <th>M</th>\n",
       "      <th>diff</th>\n",
       "    </tr>\n",
       "    <tr>\n",
       "      <th>title</th>\n",
       "      <th></th>\n",
       "      <th></th>\n",
       "      <th></th>\n",
       "    </tr>\n",
       "  </thead>\n",
       "  <tbody>\n",
       "    <tr>\n",
       "      <th>Good, The Bad and The Ugly, The (1966)</th>\n",
       "      <td>3.50</td>\n",
       "      <td>4.22</td>\n",
       "      <td>0.72</td>\n",
       "    </tr>\n",
       "    <tr>\n",
       "      <th>Kentucky Fried Movie, The (1977)</th>\n",
       "      <td>2.87</td>\n",
       "      <td>3.57</td>\n",
       "      <td>0.69</td>\n",
       "    </tr>\n",
       "    <tr>\n",
       "      <th>Dumb &amp; Dumber (1994)</th>\n",
       "      <td>2.70</td>\n",
       "      <td>3.35</td>\n",
       "      <td>0.65</td>\n",
       "    </tr>\n",
       "    <tr>\n",
       "      <th>Cable Guy, The (1996)</th>\n",
       "      <td>2.25</td>\n",
       "      <td>2.87</td>\n",
       "      <td>0.62</td>\n",
       "    </tr>\n",
       "    <tr>\n",
       "      <th>Hidden, The (1987)</th>\n",
       "      <td>3.14</td>\n",
       "      <td>3.75</td>\n",
       "      <td>0.61</td>\n",
       "    </tr>\n",
       "    <tr>\n",
       "      <th>Longest Day, The (1962)</th>\n",
       "      <td>3.41</td>\n",
       "      <td>4.02</td>\n",
       "      <td>0.61</td>\n",
       "    </tr>\n",
       "    <tr>\n",
       "      <th>Evil Dead II (Dead By Dawn) (1987)</th>\n",
       "      <td>3.31</td>\n",
       "      <td>3.92</td>\n",
       "      <td>0.61</td>\n",
       "    </tr>\n",
       "    <tr>\n",
       "      <th>Caddyshack (1980)</th>\n",
       "      <td>3.40</td>\n",
       "      <td>3.98</td>\n",
       "      <td>0.58</td>\n",
       "    </tr>\n",
       "    <tr>\n",
       "      <th>Rocky III (1982)</th>\n",
       "      <td>2.39</td>\n",
       "      <td>2.94</td>\n",
       "      <td>0.55</td>\n",
       "    </tr>\n",
       "    <tr>\n",
       "      <th>For a Few Dollars More (1965)</th>\n",
       "      <td>3.41</td>\n",
       "      <td>3.95</td>\n",
       "      <td>0.54</td>\n",
       "    </tr>\n",
       "  </tbody>\n",
       "</table>\n",
       "</div>"
      ],
      "text/plain": [
       "gender                                    F    M  diff\n",
       "title                                                 \n",
       "Good, The Bad and The Ugly, The (1966) 3.50 4.22  0.72\n",
       "Kentucky Fried Movie, The (1977)       2.87 3.57  0.69\n",
       "Dumb & Dumber (1994)                   2.70 3.35  0.65\n",
       "Cable Guy, The (1996)                  2.25 2.87  0.62\n",
       "Hidden, The (1987)                     3.14 3.75  0.61\n",
       "Longest Day, The (1962)                3.41 4.02  0.61\n",
       "Evil Dead II (Dead By Dawn) (1987)     3.31 3.92  0.61\n",
       "Caddyshack (1980)                      3.40 3.98  0.58\n",
       "Rocky III (1982)                       2.39 2.94  0.55\n",
       "For a Few Dollars More (1965)          3.41 3.95  0.54"
      ]
     },
     "execution_count": 92,
     "metadata": {},
     "output_type": "execute_result"
    }
   ],
   "source": [
    "# male users prefer these titles\n",
    "sorted_by_diff = mean_ratings.sort_values(by='diff', ascending=False)\n",
    "sorted_by_diff[:10]"
   ]
  },
  {
   "cell_type": "code",
   "execution_count": 93,
   "metadata": {},
   "outputs": [
    {
     "data": {
      "text/html": [
       "<div>\n",
       "<style scoped>\n",
       "    .dataframe tbody tr th:only-of-type {\n",
       "        vertical-align: middle;\n",
       "    }\n",
       "\n",
       "    .dataframe tbody tr th {\n",
       "        vertical-align: top;\n",
       "    }\n",
       "\n",
       "    .dataframe thead th {\n",
       "        text-align: right;\n",
       "    }\n",
       "</style>\n",
       "<table border=\"1\" class=\"dataframe\">\n",
       "  <thead>\n",
       "    <tr style=\"text-align: right;\">\n",
       "      <th>gender</th>\n",
       "      <th>F</th>\n",
       "      <th>M</th>\n",
       "      <th>diff</th>\n",
       "    </tr>\n",
       "    <tr>\n",
       "      <th>title</th>\n",
       "      <th></th>\n",
       "      <th></th>\n",
       "      <th></th>\n",
       "    </tr>\n",
       "  </thead>\n",
       "  <tbody>\n",
       "    <tr>\n",
       "      <th>Dirty Dancing (1987)</th>\n",
       "      <td>3.80</td>\n",
       "      <td>2.96</td>\n",
       "      <td>-0.84</td>\n",
       "    </tr>\n",
       "    <tr>\n",
       "      <th>Jumpin' Jack Flash (1986)</th>\n",
       "      <td>3.26</td>\n",
       "      <td>2.59</td>\n",
       "      <td>-0.67</td>\n",
       "    </tr>\n",
       "    <tr>\n",
       "      <th>Grease (1978)</th>\n",
       "      <td>3.98</td>\n",
       "      <td>3.35</td>\n",
       "      <td>-0.63</td>\n",
       "    </tr>\n",
       "    <tr>\n",
       "      <th>Steel Magnolias (1989)</th>\n",
       "      <td>3.91</td>\n",
       "      <td>3.36</td>\n",
       "      <td>-0.55</td>\n",
       "    </tr>\n",
       "    <tr>\n",
       "      <th>Little Women (1994)</th>\n",
       "      <td>3.87</td>\n",
       "      <td>3.33</td>\n",
       "      <td>-0.54</td>\n",
       "    </tr>\n",
       "    <tr>\n",
       "      <th>Anastasia (1997)</th>\n",
       "      <td>3.83</td>\n",
       "      <td>3.28</td>\n",
       "      <td>-0.54</td>\n",
       "    </tr>\n",
       "    <tr>\n",
       "      <th>Iron Eagle (1986)</th>\n",
       "      <td>3.07</td>\n",
       "      <td>2.54</td>\n",
       "      <td>-0.53</td>\n",
       "    </tr>\n",
       "    <tr>\n",
       "      <th>Rocky Horror Picture Show, The (1975)</th>\n",
       "      <td>3.67</td>\n",
       "      <td>3.15</td>\n",
       "      <td>-0.53</td>\n",
       "    </tr>\n",
       "    <tr>\n",
       "      <th>Color Purple, The (1985)</th>\n",
       "      <td>4.16</td>\n",
       "      <td>3.65</td>\n",
       "      <td>-0.52</td>\n",
       "    </tr>\n",
       "    <tr>\n",
       "      <th>Free Willy (1993)</th>\n",
       "      <td>2.95</td>\n",
       "      <td>2.46</td>\n",
       "      <td>-0.50</td>\n",
       "    </tr>\n",
       "  </tbody>\n",
       "</table>\n",
       "</div>"
      ],
      "text/plain": [
       "gender                                   F    M  diff\n",
       "title                                                \n",
       "Dirty Dancing (1987)                  3.80 2.96 -0.84\n",
       "Jumpin' Jack Flash (1986)             3.26 2.59 -0.67\n",
       "Grease (1978)                         3.98 3.35 -0.63\n",
       "Steel Magnolias (1989)                3.91 3.36 -0.55\n",
       "Little Women (1994)                   3.87 3.33 -0.54\n",
       "Anastasia (1997)                      3.83 3.28 -0.54\n",
       "Iron Eagle (1986)                     3.07 2.54 -0.53\n",
       "Rocky Horror Picture Show, The (1975) 3.67 3.15 -0.53\n",
       "Color Purple, The (1985)              4.16 3.65 -0.52\n",
       "Free Willy (1993)                     2.95 2.46 -0.50"
      ]
     },
     "execution_count": 93,
     "metadata": {},
     "output_type": "execute_result"
    }
   ],
   "source": [
    "# female users prefer these titles\n",
    "sorted_by_diff = mean_ratings.sort_values(by='diff')\n",
    "sorted_by_diff[:10]"
   ]
  },
  {
   "cell_type": "code",
   "execution_count": 94,
   "metadata": {},
   "outputs": [],
   "source": [
    "mean_ratings['abs_diff'] = mean_ratings['diff'].abs()"
   ]
  },
  {
   "cell_type": "code",
   "execution_count": 95,
   "metadata": {},
   "outputs": [
    {
     "data": {
      "text/html": [
       "<div>\n",
       "<style scoped>\n",
       "    .dataframe tbody tr th:only-of-type {\n",
       "        vertical-align: middle;\n",
       "    }\n",
       "\n",
       "    .dataframe tbody tr th {\n",
       "        vertical-align: top;\n",
       "    }\n",
       "\n",
       "    .dataframe thead th {\n",
       "        text-align: right;\n",
       "    }\n",
       "</style>\n",
       "<table border=\"1\" class=\"dataframe\">\n",
       "  <thead>\n",
       "    <tr style=\"text-align: right;\">\n",
       "      <th>gender</th>\n",
       "      <th>F</th>\n",
       "      <th>M</th>\n",
       "      <th>diff</th>\n",
       "      <th>abs_diff</th>\n",
       "    </tr>\n",
       "    <tr>\n",
       "      <th>title</th>\n",
       "      <th></th>\n",
       "      <th></th>\n",
       "      <th></th>\n",
       "      <th></th>\n",
       "    </tr>\n",
       "  </thead>\n",
       "  <tbody>\n",
       "    <tr>\n",
       "      <th>'burbs, The (1989)</th>\n",
       "      <td>2.79</td>\n",
       "      <td>2.96</td>\n",
       "      <td>0.17</td>\n",
       "      <td>0.17</td>\n",
       "    </tr>\n",
       "    <tr>\n",
       "      <th>10 Things I Hate About You (1999)</th>\n",
       "      <td>3.67</td>\n",
       "      <td>3.31</td>\n",
       "      <td>-0.36</td>\n",
       "      <td>0.36</td>\n",
       "    </tr>\n",
       "    <tr>\n",
       "      <th>101 Dalmatians (1961)</th>\n",
       "      <td>3.81</td>\n",
       "      <td>3.49</td>\n",
       "      <td>-0.32</td>\n",
       "      <td>0.32</td>\n",
       "    </tr>\n",
       "    <tr>\n",
       "      <th>101 Dalmatians (1996)</th>\n",
       "      <td>3.27</td>\n",
       "      <td>2.90</td>\n",
       "      <td>-0.36</td>\n",
       "      <td>0.36</td>\n",
       "    </tr>\n",
       "    <tr>\n",
       "      <th>12 Angry Men (1957)</th>\n",
       "      <td>4.21</td>\n",
       "      <td>4.32</td>\n",
       "      <td>0.11</td>\n",
       "      <td>0.11</td>\n",
       "    </tr>\n",
       "    <tr>\n",
       "      <th>...</th>\n",
       "      <td>...</td>\n",
       "      <td>...</td>\n",
       "      <td>...</td>\n",
       "      <td>...</td>\n",
       "    </tr>\n",
       "    <tr>\n",
       "      <th>Young Guns (1988)</th>\n",
       "      <td>3.36</td>\n",
       "      <td>3.42</td>\n",
       "      <td>0.06</td>\n",
       "      <td>0.06</td>\n",
       "    </tr>\n",
       "    <tr>\n",
       "      <th>Young Guns II (1990)</th>\n",
       "      <td>2.93</td>\n",
       "      <td>2.89</td>\n",
       "      <td>-0.04</td>\n",
       "      <td>0.04</td>\n",
       "    </tr>\n",
       "    <tr>\n",
       "      <th>Young Sherlock Holmes (1985)</th>\n",
       "      <td>3.48</td>\n",
       "      <td>3.35</td>\n",
       "      <td>-0.14</td>\n",
       "      <td>0.14</td>\n",
       "    </tr>\n",
       "    <tr>\n",
       "      <th>Zero Effect (1998)</th>\n",
       "      <td>3.91</td>\n",
       "      <td>3.72</td>\n",
       "      <td>-0.19</td>\n",
       "      <td>0.19</td>\n",
       "    </tr>\n",
       "    <tr>\n",
       "      <th>eXistenZ (1999)</th>\n",
       "      <td>3.18</td>\n",
       "      <td>3.28</td>\n",
       "      <td>0.10</td>\n",
       "      <td>0.10</td>\n",
       "    </tr>\n",
       "  </tbody>\n",
       "</table>\n",
       "<p>1191 rows × 4 columns</p>\n",
       "</div>"
      ],
      "text/plain": [
       "gender                               F    M  diff  abs_diff\n",
       "title                                                      \n",
       "'burbs, The (1989)                2.79 2.96  0.17      0.17\n",
       "10 Things I Hate About You (1999) 3.67 3.31 -0.36      0.36\n",
       "101 Dalmatians (1961)             3.81 3.49 -0.32      0.32\n",
       "101 Dalmatians (1996)             3.27 2.90 -0.36      0.36\n",
       "12 Angry Men (1957)               4.21 4.32  0.11      0.11\n",
       "...                                ...  ...   ...       ...\n",
       "Young Guns (1988)                 3.36 3.42  0.06      0.06\n",
       "Young Guns II (1990)              2.93 2.89 -0.04      0.04\n",
       "Young Sherlock Holmes (1985)      3.48 3.35 -0.14      0.14\n",
       "Zero Effect (1998)                3.91 3.72 -0.19      0.19\n",
       "eXistenZ (1999)                   3.18 3.28  0.10      0.10\n",
       "\n",
       "[1191 rows x 4 columns]"
      ]
     },
     "execution_count": 95,
     "metadata": {},
     "output_type": "execute_result"
    }
   ],
   "source": [
    "mean_ratings"
   ]
  },
  {
   "cell_type": "code",
   "execution_count": 96,
   "metadata": {},
   "outputs": [
    {
     "data": {
      "text/html": [
       "<div>\n",
       "<style scoped>\n",
       "    .dataframe tbody tr th:only-of-type {\n",
       "        vertical-align: middle;\n",
       "    }\n",
       "\n",
       "    .dataframe tbody tr th {\n",
       "        vertical-align: top;\n",
       "    }\n",
       "\n",
       "    .dataframe thead th {\n",
       "        text-align: right;\n",
       "    }\n",
       "</style>\n",
       "<table border=\"1\" class=\"dataframe\">\n",
       "  <thead>\n",
       "    <tr style=\"text-align: right;\">\n",
       "      <th>gender</th>\n",
       "      <th>F</th>\n",
       "      <th>M</th>\n",
       "      <th>diff</th>\n",
       "      <th>abs_diff</th>\n",
       "    </tr>\n",
       "    <tr>\n",
       "      <th>title</th>\n",
       "      <th></th>\n",
       "      <th></th>\n",
       "      <th></th>\n",
       "      <th></th>\n",
       "    </tr>\n",
       "  </thead>\n",
       "  <tbody>\n",
       "    <tr>\n",
       "      <th>Dirty Dancing (1987)</th>\n",
       "      <td>3.80</td>\n",
       "      <td>2.96</td>\n",
       "      <td>-0.84</td>\n",
       "      <td>0.84</td>\n",
       "    </tr>\n",
       "    <tr>\n",
       "      <th>Good, The Bad and The Ugly, The (1966)</th>\n",
       "      <td>3.50</td>\n",
       "      <td>4.22</td>\n",
       "      <td>0.72</td>\n",
       "      <td>0.72</td>\n",
       "    </tr>\n",
       "    <tr>\n",
       "      <th>Kentucky Fried Movie, The (1977)</th>\n",
       "      <td>2.87</td>\n",
       "      <td>3.57</td>\n",
       "      <td>0.69</td>\n",
       "      <td>0.69</td>\n",
       "    </tr>\n",
       "    <tr>\n",
       "      <th>Jumpin' Jack Flash (1986)</th>\n",
       "      <td>3.26</td>\n",
       "      <td>2.59</td>\n",
       "      <td>-0.67</td>\n",
       "      <td>0.67</td>\n",
       "    </tr>\n",
       "    <tr>\n",
       "      <th>Dumb &amp; Dumber (1994)</th>\n",
       "      <td>2.70</td>\n",
       "      <td>3.35</td>\n",
       "      <td>0.65</td>\n",
       "      <td>0.65</td>\n",
       "    </tr>\n",
       "    <tr>\n",
       "      <th>Grease (1978)</th>\n",
       "      <td>3.98</td>\n",
       "      <td>3.35</td>\n",
       "      <td>-0.63</td>\n",
       "      <td>0.63</td>\n",
       "    </tr>\n",
       "    <tr>\n",
       "      <th>Cable Guy, The (1996)</th>\n",
       "      <td>2.25</td>\n",
       "      <td>2.87</td>\n",
       "      <td>0.62</td>\n",
       "      <td>0.62</td>\n",
       "    </tr>\n",
       "    <tr>\n",
       "      <th>Hidden, The (1987)</th>\n",
       "      <td>3.14</td>\n",
       "      <td>3.75</td>\n",
       "      <td>0.61</td>\n",
       "      <td>0.61</td>\n",
       "    </tr>\n",
       "    <tr>\n",
       "      <th>Longest Day, The (1962)</th>\n",
       "      <td>3.41</td>\n",
       "      <td>4.02</td>\n",
       "      <td>0.61</td>\n",
       "      <td>0.61</td>\n",
       "    </tr>\n",
       "    <tr>\n",
       "      <th>Evil Dead II (Dead By Dawn) (1987)</th>\n",
       "      <td>3.31</td>\n",
       "      <td>3.92</td>\n",
       "      <td>0.61</td>\n",
       "      <td>0.61</td>\n",
       "    </tr>\n",
       "  </tbody>\n",
       "</table>\n",
       "</div>"
      ],
      "text/plain": [
       "gender                                    F    M  diff  abs_diff\n",
       "title                                                           \n",
       "Dirty Dancing (1987)                   3.80 2.96 -0.84      0.84\n",
       "Good, The Bad and The Ugly, The (1966) 3.50 4.22  0.72      0.72\n",
       "Kentucky Fried Movie, The (1977)       2.87 3.57  0.69      0.69\n",
       "Jumpin' Jack Flash (1986)              3.26 2.59 -0.67      0.67\n",
       "Dumb & Dumber (1994)                   2.70 3.35  0.65      0.65\n",
       "Grease (1978)                          3.98 3.35 -0.63      0.63\n",
       "Cable Guy, The (1996)                  2.25 2.87  0.62      0.62\n",
       "Hidden, The (1987)                     3.14 3.75  0.61      0.61\n",
       "Longest Day, The (1962)                3.41 4.02  0.61      0.61\n",
       "Evil Dead II (Dead By Dawn) (1987)     3.31 3.92  0.61      0.61"
      ]
     },
     "execution_count": 96,
     "metadata": {},
     "output_type": "execute_result"
    }
   ],
   "source": [
    "sorted_by_abs_diff = mean_ratings.sort_values(by='abs_diff', ascending=False)\n",
    "sorted_by_abs_diff[:10]"
   ]
  },
  {
   "cell_type": "markdown",
   "metadata": {},
   "source": [
    "<mark>**Q13** What are Top 10 movies where the ratings differ the most?</mark>\n",
    "\n",
    "*Hint: use standard deviations.*"
   ]
  },
  {
   "cell_type": "code",
   "execution_count": 97,
   "metadata": {},
   "outputs": [],
   "source": [
    "# Standard deviation of rating grouped by title\n",
    "rating_std_by_title = df.groupby('title')['rating'].std()"
   ]
  },
  {
   "cell_type": "code",
   "execution_count": 98,
   "metadata": {},
   "outputs": [],
   "source": [
    "# Filter down to active_titles\n",
    "rating_std_by_title = rating_std_by_title.loc[active_titles]"
   ]
  },
  {
   "cell_type": "code",
   "execution_count": 99,
   "metadata": {},
   "outputs": [
    {
     "data": {
      "text/plain": [
       "title\n",
       "'burbs, The (1989)                  1.10\n",
       "10 Things I Hate About You (1999)   0.99\n",
       "101 Dalmatians (1961)               0.98\n",
       "101 Dalmatians (1996)               1.10\n",
       "12 Angry Men (1957)                 0.81\n",
       "                                    ... \n",
       "Young Guns (1988)                   1.02\n",
       "Young Guns II (1990)                1.07\n",
       "Young Sherlock Holmes (1985)        0.89\n",
       "Zero Effect (1998)                  1.03\n",
       "eXistenZ (1999)                     1.17\n",
       "Name: rating, Length: 1191, dtype: float64"
      ]
     },
     "execution_count": 99,
     "metadata": {},
     "output_type": "execute_result"
    }
   ],
   "source": [
    "rating_std_by_title"
   ]
  },
  {
   "cell_type": "code",
   "execution_count": 100,
   "metadata": {},
   "outputs": [
    {
     "data": {
      "text/plain": [
       "title\n",
       "Blair Witch Project, The (1999)         1.32\n",
       "Dumb & Dumber (1994)                    1.32\n",
       "Natural Born Killers (1994)             1.31\n",
       "Tank Girl (1995)                        1.27\n",
       "Rocky Horror Picture Show, The (1975)   1.26\n",
       "Eyes Wide Shut (1999)                   1.26\n",
       "Bicentennial Man (1999)                 1.26\n",
       "Evita (1996)                            1.25\n",
       "Fear and Loathing in Las Vegas (1998)   1.25\n",
       "Billy Madison (1995)                    1.25\n",
       "Name: rating, dtype: float64"
      ]
     },
     "execution_count": 100,
     "metadata": {},
     "output_type": "execute_result"
    }
   ],
   "source": [
    "# Order Series by value in descending order\n",
    "rating_std_by_title.sort_values(ascending=False)[:10]"
   ]
  },
  {
   "cell_type": "code",
   "execution_count": 101,
   "metadata": {},
   "outputs": [
    {
     "data": {
      "text/plain": [
       "['Blair Witch Project, The (1999)',\n",
       " 'Dumb & Dumber (1994)',\n",
       " 'Natural Born Killers (1994)',\n",
       " 'Tank Girl (1995)',\n",
       " 'Rocky Horror Picture Show, The (1975)',\n",
       " 'Eyes Wide Shut (1999)',\n",
       " 'Bicentennial Man (1999)',\n",
       " 'Evita (1996)',\n",
       " 'Fear and Loathing in Las Vegas (1998)',\n",
       " 'Billy Madison (1995)']"
      ]
     },
     "execution_count": 101,
     "metadata": {},
     "output_type": "execute_result"
    }
   ],
   "source": [
    "df.groupby('title')['rating'].std().loc[active_titles].sort_values(ascending=False)[:10].index.tolist()"
   ]
  },
  {
   "cell_type": "markdown",
   "metadata": {},
   "source": [
    "<mark>**Q14** What are Top 10 states where the most user votes came from?</mark>"
   ]
  },
  {
   "cell_type": "code",
   "execution_count": 102,
   "metadata": {},
   "outputs": [
    {
     "data": {
      "text/plain": [
       "51"
      ]
     },
     "execution_count": 102,
     "metadata": {},
     "output_type": "execute_result"
    }
   ],
   "source": [
    "# How many states are represented in the data?\n",
    "df['state'].nunique()"
   ]
  },
  {
   "cell_type": "code",
   "execution_count": 103,
   "metadata": {},
   "outputs": [],
   "source": [
    "gr = df.groupby('state')\n",
    "votes_by_states = gr.size()"
   ]
  },
  {
   "cell_type": "code",
   "execution_count": 104,
   "metadata": {},
   "outputs": [
    {
     "data": {
      "text/plain": [
       "pandas.core.series.Series"
      ]
     },
     "execution_count": 104,
     "metadata": {},
     "output_type": "execute_result"
    }
   ],
   "source": [
    "type(votes_by_states)"
   ]
  },
  {
   "cell_type": "code",
   "execution_count": 105,
   "metadata": {},
   "outputs": [
    {
     "data": {
      "text/plain": [
       "state\n",
       "AK       911\n",
       "AL      3500\n",
       "AR      4496\n",
       "AZ     15086\n",
       "CA    180436\n",
       "dtype: int64"
      ]
     },
     "execution_count": 105,
     "metadata": {},
     "output_type": "execute_result"
    }
   ],
   "source": [
    "votes_by_states[:5]"
   ]
  },
  {
   "cell_type": "code",
   "execution_count": 106,
   "metadata": {},
   "outputs": [
    {
     "data": {
      "text/plain": [
       "state\n",
       "CA    180436\n",
       "NY     69746\n",
       "MN     63169\n",
       "TX     51982\n",
       "IL     51682\n",
       "MA     44661\n",
       "OH     39814\n",
       "WA     37225\n",
       "MI     36834\n",
       "FL     28765\n",
       "dtype: int64"
      ]
     },
     "execution_count": 106,
     "metadata": {},
     "output_type": "execute_result"
    }
   ],
   "source": [
    "top_states = votes_by_states.sort_values(ascending=False)[:10]\n",
    "top_states"
   ]
  },
  {
   "cell_type": "code",
   "execution_count": 107,
   "metadata": {},
   "outputs": [
    {
     "data": {
      "image/png": "[encoded data removed]",
      "text/plain": [
       "<Figure size 1000x600 with 1 Axes>"
      ]
     },
     "metadata": {},
     "output_type": "display_data"
    }
   ],
   "source": [
    "top_states.sort_values().plot(kind='barh', figsize=(10,6));"
   ]
  },
  {
   "cell_type": "code",
   "execution_count": 108,
   "metadata": {},
   "outputs": [
    {
     "data": {
      "text/plain": [
       "<pandas.core.groupby.generic.DataFrameGroupBy object at 0x000002A1C4BEB320>"
      ]
     },
     "execution_count": 108,
     "metadata": {},
     "output_type": "execute_result"
    }
   ],
   "source": [
    "gr = df.groupby('state')\n",
    "gr"
   ]
  },
  {
   "cell_type": "code",
   "execution_count": 109,
   "metadata": {},
   "outputs": [
    {
     "data": {
      "text/plain": [
       "['CA', 'NY', 'MN', 'TX', 'IL', 'MA', 'OH', 'WA', 'MI', 'FL']"
      ]
     },
     "execution_count": 109,
     "metadata": {},
     "output_type": "execute_result"
    }
   ],
   "source": [
    "gr.size().sort_values(ascending=False).head(10).index.tolist()"
   ]
  },
  {
   "cell_type": "code",
   "execution_count": 110,
   "metadata": {},
   "outputs": [
    {
     "data": {
      "text/plain": [
       "['CA', 'NY', 'MN', 'TX', 'IL', 'MA', 'OH', 'WA', 'MI', 'FL']"
      ]
     },
     "execution_count": 110,
     "metadata": {},
     "output_type": "execute_result"
    }
   ],
   "source": [
    "df.groupby('state').size().sort_values(ascending=False)[:10].index.tolist()"
   ]
  },
  {
   "cell_type": "markdown",
   "metadata": {},
   "source": [
    "<mark>**Q15** What are ten most represented genres?</mark>"
   ]
  },
  {
   "cell_type": "code",
   "execution_count": 111,
   "metadata": {},
   "outputs": [
    {
     "data": {
      "text/plain": [
       "301"
      ]
     },
     "execution_count": 111,
     "metadata": {},
     "output_type": "execute_result"
    }
   ],
   "source": [
    "# How many different genres are there in the data?\n",
    "df['genres'].nunique()"
   ]
  },
  {
   "cell_type": "code",
   "execution_count": 112,
   "metadata": {},
   "outputs": [
    {
     "data": {
      "text/plain": [
       "array(['drama', \"animation|children's|musical\", 'musical|romance',\n",
       "       \"animation|children's|comedy\", 'action|adventure|comedy|romance',\n",
       "       'action|adventure|drama', 'comedy|drama',\n",
       "       \"adventure|children's|drama|musical\", 'musical', 'comedy'],\n",
       "      dtype=object)"
      ]
     },
     "execution_count": 112,
     "metadata": {},
     "output_type": "execute_result"
    }
   ],
   "source": [
    "df['genres'].unique()[:10]"
   ]
  },
  {
   "cell_type": "code",
   "execution_count": 113,
   "metadata": {},
   "outputs": [],
   "source": [
    "genres = df.groupby('genres').size()"
   ]
  },
  {
   "cell_type": "code",
   "execution_count": 114,
   "metadata": {},
   "outputs": [
    {
     "data": {
      "text/plain": [
       "genres\n",
       "action                                           11945\n",
       "action|adventure                                 10170\n",
       "action|adventure|animation                         337\n",
       "action|adventure|animation|children's|fantasy      126\n",
       "action|adventure|animation|horror|sci-fi           603\n",
       "                                                 ...  \n",
       "sci-fi|thriller|war                                273\n",
       "sci-fi|war                                        1337\n",
       "thriller                                         17404\n",
       "war                                                968\n",
       "western                                           5542\n",
       "Length: 301, dtype: int64"
      ]
     },
     "execution_count": 114,
     "metadata": {},
     "output_type": "execute_result"
    }
   ],
   "source": [
    "genres"
   ]
  },
  {
   "cell_type": "code",
   "execution_count": 115,
   "metadata": {},
   "outputs": [
    {
     "data": {
      "text/plain": [
       "pandas.core.series.Series"
      ]
     },
     "execution_count": 115,
     "metadata": {},
     "output_type": "execute_result"
    }
   ],
   "source": [
    "type(genres)"
   ]
  },
  {
   "cell_type": "code",
   "execution_count": 116,
   "metadata": {},
   "outputs": [
    {
     "data": {
      "text/plain": [
       "genres\n",
       "comedy                     113635\n",
       "drama                      108510\n",
       "comedy|romance              41582\n",
       "comedy|drama                41108\n",
       "drama|romance               28461\n",
       "action|thriller             26109\n",
       "horror                      21944\n",
       "drama|thriller              17787\n",
       "thriller                    17404\n",
       "action|adventure|sci-fi     17264\n",
       "dtype: int64"
      ]
     },
     "execution_count": 116,
     "metadata": {},
     "output_type": "execute_result"
    }
   ],
   "source": [
    "genres.sort_values(ascending=False)[:10]"
   ]
  },
  {
   "cell_type": "code",
   "execution_count": 117,
   "metadata": {},
   "outputs": [
    {
     "data": {
      "text/plain": [
       "['comedy',\n",
       " 'drama',\n",
       " 'comedy|romance',\n",
       " 'comedy|drama',\n",
       " 'drama|romance',\n",
       " 'action|thriller',\n",
       " 'horror',\n",
       " 'drama|thriller',\n",
       " 'thriller',\n",
       " 'action|adventure|sci-fi']"
      ]
     },
     "execution_count": 117,
     "metadata": {},
     "output_type": "execute_result"
    }
   ],
   "source": [
    "df.groupby('genres').size().sort_values(ascending=False)[:10].index.tolist()"
   ]
  },
  {
   "cell_type": "code",
   "execution_count": null,
   "metadata": {},
   "outputs": [],
   "source": []
  }
 ],
 "metadata": {
  "kernelspec": {
   "display_name": "Python 3 (ipykernel)",
   "language": "python",
   "name": "python3"
  },
  "language_info": {
   "codemirror_mode": {
    "name": "ipython",
    "version": 3
   },
   "file_extension": ".py",
   "mimetype": "text/x-python",
   "name": "python",
   "nbconvert_exporter": "python",
   "pygments_lexer": "ipython3",
   "version": "3.12.7"
  }
 },
 "nbformat": 4,
 "nbformat_minor": 4
}
