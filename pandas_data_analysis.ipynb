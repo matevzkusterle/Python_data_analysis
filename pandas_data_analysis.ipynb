{
 "cells": [
  {
   "cell_type": "markdown",
   "metadata": {},
   "source": [
    "# Data Analysis with *pandas*\n",
    "\n",
    "The United States Social Security Administration (SSA) has made available data on the\n",
    "frequency of baby names from 1880 through the present. Download data set [US Baby Names 1880-2023](https://www.ssa.gov/oact/babynames/names.zip) (names.zip, 7MB). Create a folder named **data** and unpack the contents of the .zip file there.\n",
    "\n",
    "The ZIP file contains several text files (`yob1880.txt`, `yob1881.txt`, ...). Each file contains yearly data about the number of births for particular name. To safeguard privacy, the SSA restricted the list of names to those with at least 5 occurrences.\n",
    "\n",
    "Each file contains multiple comma-separated values. Here are the first five rows of `yob1880.txt`:\n",
    "\n",
    "    Mary,F,7065\n",
    "    Anna,F,2604\n",
    "    Emma,F,2003\n",
    "    Elizabeth,F,1939\n",
    "    Minnie,F,1746\n",
    "\n",
    "We will try to answer several questions such as:\n",
    "- How many boys/girls were born each year?\n",
    "- Which was the most popular boy/girl name each particular year?\n",
    "- ... "
   ]
  },
  {
   "cell_type": "code",
   "execution_count": null,
   "metadata": {},
   "outputs": [],
   "source": [
    "import pandas as pd\n",
    "import numpy as np\n",
    "import matplotlib.pyplot as plt"
   ]
  },
  {
   "cell_type": "code",
   "execution_count": null,
   "metadata": {},
   "outputs": [],
   "source": [
    "# show matplotlib graphics inline\n",
    "%matplotlib inline\n",
    "plt.rc('figure', figsize=(18, 3))\n",
    "plt.rcParams['figure.facecolor'] = 'w'"
   ]
  },
  {
   "cell_type": "code",
   "execution_count": null,
   "metadata": {},
   "outputs": [],
   "source": [
    "# set the maximum number of rows to be displayed\n",
    "pd.options.display.max_rows = 10  "
   ]
  },
  {
   "cell_type": "code",
   "execution_count": null,
   "metadata": {},
   "outputs": [],
   "source": [
    "pd.__version__"
   ]
  },
  {
   "cell_type": "markdown",
   "metadata": {},
   "source": [
    "<h3>The DataFrame Data Structure</h3>\n",
    "\n",
    "The main pandas data structure is the [DataFrame](http://pandas.pydata.org/pandas-docs/stable/reference/api/pandas.DataFrame.html), which you can think of as representing a table or spreadsheet of data.\n",
    "\n",
    "We will first read the file \"yob1880.txt\" into a DataFrame. We will then obtain some basic information about the data."
   ]
  },
  {
   "cell_type": "code",
   "execution_count": null,
   "metadata": {},
   "outputs": [],
   "source": [
    "# read one of the files and set header\n",
    "names = pd.read_csv('data/yob1880.txt', names=['name', 'sex', 'births'])"
   ]
  },
  {
   "cell_type": "code",
   "execution_count": null,
   "metadata": {},
   "outputs": [],
   "source": []
  },
  {
   "cell_type": "markdown",
   "metadata": {},
   "source": [
    "- `Shift + Enter` run the current cell, move to the next cell\n",
    "- `Ctrl + Enter` run the current cell without moving to the next cell"
   ]
  },
  {
   "cell_type": "code",
   "execution_count": null,
   "metadata": {},
   "outputs": [],
   "source": [
    "names.sample(n=6)"
   ]
  },
  {
   "cell_type": "markdown",
   "metadata": {},
   "source": [
    "<h3>Indexing and selecting data</h3>\n",
    "\n",
    "<p>There are three slicing methods for selecting row data: two explicit slicing methods, and a general case.</p>\n",
    "<ol>\n",
    "<li>Position-oriented (Python slicing style : exclusive of end)</li>\n",
    "<li>Label-oriented (Non-Python slicing style : inclusive of end)</li>\n",
    "<li>General (Either slicing style : depends on if the slice contains labels or positions</li>\n",
    "</ol>"
   ]
  },
  {
   "cell_type": "code",
   "execution_count": null,
   "metadata": {},
   "outputs": [],
   "source": []
  },
  {
   "cell_type": "code",
   "execution_count": null,
   "metadata": {},
   "outputs": [],
   "source": [
    "# position oriented\n"
   ]
  },
  {
   "cell_type": "code",
   "execution_count": null,
   "metadata": {},
   "outputs": [],
   "source": [
    "# label oriented (here index labels are numbers!)\n"
   ]
  },
  {
   "cell_type": "code",
   "execution_count": null,
   "metadata": {},
   "outputs": [],
   "source": [
    "# choose a subset of columns and change their order\n"
   ]
  },
  {
   "cell_type": "markdown",
   "metadata": {},
   "source": [
    "# Questions and answers"
   ]
  },
  {
   "cell_type": "markdown",
   "metadata": {},
   "source": [
    "### Names in the year 1880"
   ]
  },
  {
   "cell_type": "markdown",
   "metadata": {},
   "source": [
    "<mark><b>Q1</b> How many boys and how many girls were born in the year 1880?</mark>"
   ]
  },
  {
   "cell_type": "code",
   "execution_count": null,
   "metadata": {},
   "outputs": [],
   "source": []
  },
  {
   "cell_type": "markdown",
   "metadata": {},
   "source": [
    "<mark><b>Q2</b> How many different names of boys and girls occured in the year 1880?</mark><br>"
   ]
  },
  {
   "cell_type": "code",
   "execution_count": null,
   "metadata": {},
   "outputs": [],
   "source": []
  },
  {
   "cell_type": "markdown",
   "metadata": {},
   "source": [
    "<mark><b>Q3</b> What was the most common boy name of the year 1880?</mark><br>"
   ]
  },
  {
   "cell_type": "code",
   "execution_count": null,
   "metadata": {},
   "outputs": [],
   "source": []
  },
  {
   "cell_type": "markdown",
   "metadata": {},
   "source": [
    "<h3>Merge data</h3>\n",
    "<p>The data set is split into files by year, so let's merge this data in the following way:</p>\n",
    "<ul>\n",
    "   <li>assemble all of the data into a single DataFrame, and</li>\n",
    "   <li>add a year field. \n",
    "</ul>\n",
    "<br>\n",
    "We will use the [concat](http://pandas.pydata.org/pandas-docs/stable/generated/pandas.concat.html) command for this purpose:"
   ]
  },
  {
   "cell_type": "code",
   "execution_count": null,
   "metadata": {},
   "outputs": [],
   "source": [
    "# 2023 is the last available year right now.\n",
    "years = range(1880,2024)\n",
    "\n",
    "pieces = []\n",
    "columns = ['names', 'sex', 'births']\n",
    "\n",
    "for year in years:\n",
    "    path = 'data/yob%d.txt' % year\n",
    "    current = pd.read_csv(path, names=columns)\n",
    "    \n",
    "    current['year'] = year\n",
    "    pieces.append(current)"
   ]
  },
  {
   "cell_type": "code",
   "execution_count": null,
   "metadata": {},
   "outputs": [],
   "source": [
    "# Concatenate everything into a single DataFrame.\n",
    "# We have to pass ignore_index=True because we’re not interested in preserving the original row numbers.\n",
    "df = pd.concat(pieces, ignore_index=True)"
   ]
  },
  {
   "cell_type": "code",
   "execution_count": null,
   "metadata": {},
   "outputs": [],
   "source": [
    "# rename the \"names\" column\n",
    "df = df.rename(columns = {'names':'name'})"
   ]
  },
  {
   "cell_type": "code",
   "execution_count": null,
   "metadata": {},
   "outputs": [],
   "source": []
  },
  {
   "cell_type": "markdown",
   "metadata": {},
   "source": [
    "<mark><b>Q4</b> How many boys and how many girls were born in the year 2023?</mark><br>"
   ]
  },
  {
   "cell_type": "code",
   "execution_count": null,
   "metadata": {},
   "outputs": [],
   "source": []
  },
  {
   "cell_type": "markdown",
   "metadata": {},
   "source": [
    "### Total births\n",
    "\n",
    "We will use [pivot_table](http://pandas.pydata.org/pandas-docs/stable/generated/pandas.pivot_table.html) here to illustrate the number of births per year."
   ]
  },
  {
   "cell_type": "code",
   "execution_count": null,
   "metadata": {},
   "outputs": [],
   "source": [
    "df.pivot_table(values='births', index=['year'], columns=['sex'], aggfunc='sum').plot(\n",
    "    title='Total births by sex and year');"
   ]
  },
  {
   "cell_type": "markdown",
   "metadata": {},
   "source": [
    "<mark><b>Q5</b> What was the number of births over the entire period?</mark>"
   ]
  },
  {
   "cell_type": "code",
   "execution_count": null,
   "metadata": {},
   "outputs": [],
   "source": []
  },
  {
   "cell_type": "markdown",
   "metadata": {},
   "source": [
    "<mark><b>Q6</b> What was the number of different boy and girl names over the entire period?</mark>"
   ]
  },
  {
   "cell_type": "code",
   "execution_count": null,
   "metadata": {},
   "outputs": [],
   "source": []
  },
  {
   "cell_type": "markdown",
   "metadata": {},
   "source": [
    "<mark><b>Q7</b> How many different names appeared in the years 1880 and 2023?</mark>"
   ]
  },
  {
   "cell_type": "code",
   "execution_count": null,
   "metadata": {},
   "outputs": [],
   "source": []
  },
  {
   "cell_type": "markdown",
   "metadata": {},
   "source": [
    "<h3>Boys and girls</h3>\n",
    "\n",
    "<p>We can divide the data into two data frames: one for boys and one for girls. Moreover, we can extract a subset of the data to facilitate further analysis."
   ]
  },
  {
   "cell_type": "code",
   "execution_count": null,
   "metadata": {},
   "outputs": [],
   "source": [
    "boys = df.loc[df.sex == 'M'].reset_index(drop=True)\n",
    "girls = df.loc[df.sex == 'F'].reset_index(drop=True)"
   ]
  },
  {
   "cell_type": "code",
   "execution_count": null,
   "metadata": {},
   "outputs": [],
   "source": []
  },
  {
   "cell_type": "markdown",
   "metadata": {},
   "source": [
    "### Names in time\n",
    "\n",
    "We will use [advanced indexing](https://pandas.pydata.org/pandas-docs/stable/user_guide/advanced.html) to set the DataFrame index (row labels) using one or more existing columns."
   ]
  },
  {
   "cell_type": "code",
   "execution_count": null,
   "metadata": {},
   "outputs": [],
   "source": [
    "boys = boys.set_index(['name', 'year'])\n",
    "girls = girls.set_index(['name', 'year'])"
   ]
  },
  {
   "cell_type": "code",
   "execution_count": null,
   "metadata": {},
   "outputs": [],
   "source": []
  },
  {
   "cell_type": "markdown",
   "metadata": {},
   "source": [
    "Let's see how popular were particular names in time. Can you guess who is who? :)"
   ]
  },
  {
   "cell_type": "code",
   "execution_count": null,
   "metadata": {},
   "outputs": [],
   "source": [
    "fig, ax = plt.subplots()\n",
    "boys.loc['Michael']['births'].plot(ax=ax)\n",
    "boys.loc['Jason']['births'].plot(ax=ax)\n",
    "boys.loc['John']['births'].plot(ax=ax);"
   ]
  },
  {
   "cell_type": "code",
   "execution_count": null,
   "metadata": {},
   "outputs": [],
   "source": [
    "fig, ax = plt.subplots()\n",
    "girls.loc['Mary']['births'].plot(ax=ax)\n",
    "girls.loc['Marilyn']['births'].plot(ax=ax)\n",
    "girls.loc['Sophia']['births'].plot(ax=ax);"
   ]
  },
  {
   "cell_type": "markdown",
   "metadata": {},
   "source": [
    "<mark><b>Q8</b> How many girls named Marylin were born in the years 1960 and 2000?</mark>"
   ]
  },
  {
   "cell_type": "code",
   "execution_count": null,
   "metadata": {},
   "outputs": [],
   "source": []
  },
  {
   "cell_type": "markdown",
   "metadata": {},
   "source": [
    "<mark><b>Q9</b> In which of all years was boy name Jason the most popular?</mark>"
   ]
  },
  {
   "cell_type": "code",
   "execution_count": null,
   "metadata": {},
   "outputs": [],
   "source": []
  },
  {
   "cell_type": "markdown",
   "metadata": {},
   "source": [
    "<mark><b>Q10</b> How many girls were named John? How many boys were named Mary?</mark>"
   ]
  },
  {
   "cell_type": "code",
   "execution_count": null,
   "metadata": {},
   "outputs": [],
   "source": []
  },
  {
   "cell_type": "markdown",
   "metadata": {},
   "source": [
    "### Top names"
   ]
  },
  {
   "cell_type": "markdown",
   "metadata": {},
   "source": [
    "<mark><b>Q11</b> For how many names there were more than 50,000 births in one year? List those names.</mark>"
   ]
  },
  {
   "cell_type": "code",
   "execution_count": null,
   "metadata": {},
   "outputs": [],
   "source": []
  },
  {
   "cell_type": "markdown",
   "metadata": {},
   "source": [
    "<mark><b>Q12</b> How many of those top names were born before and after year 1950?</mark>"
   ]
  },
  {
   "cell_type": "code",
   "execution_count": null,
   "metadata": {},
   "outputs": [],
   "source": []
  },
  {
   "cell_type": "markdown",
   "metadata": {},
   "source": [
    "### The names with the longest history"
   ]
  },
  {
   "cell_type": "markdown",
   "metadata": {},
   "source": [
    "<mark><b>Q13</b> How many names occured every year so far?</mark>"
   ]
  },
  {
   "cell_type": "code",
   "execution_count": null,
   "metadata": {},
   "outputs": [],
   "source": [
    "# How many different years are there in our data?\n",
    "count_years = df['year'].nunique()\n",
    "count_years"
   ]
  },
  {
   "cell_type": "code",
   "execution_count": null,
   "metadata": {},
   "outputs": [],
   "source": []
  },
  {
   "cell_type": "markdown",
   "metadata": {},
   "source": [
    "### Just for fun...\n",
    "\n",
    "Let's see what pandas is capable to do in just one line of programming code..."
   ]
  },
  {
   "cell_type": "markdown",
   "metadata": {},
   "source": [
    "<mark><b>Q14</b> What was the most popular name, based on the number of births, in the year 2023? </mark>"
   ]
  },
  {
   "cell_type": "code",
   "execution_count": null,
   "metadata": {},
   "outputs": [],
   "source": [
    "year = 2023"
   ]
  },
  {
   "cell_type": "code",
   "execution_count": null,
   "metadata": {},
   "outputs": [],
   "source": [
    "dict(df.groupby('year').apply(lambda row: row['name'][row['births'].idxmax()]))[year]"
   ]
  },
  {
   "cell_type": "code",
   "execution_count": null,
   "metadata": {},
   "outputs": [],
   "source": []
  },
  {
   "cell_type": "markdown",
   "metadata": {},
   "source": [
    "<mark><b>Q15</b> Which name had the highest frequency in any single year? Please provide the name, the number of occurrences, and the year. </mark>"
   ]
  },
  {
   "cell_type": "code",
   "execution_count": null,
   "metadata": {},
   "outputs": [],
   "source": []
  }
 ],
 "metadata": {
  "kernelspec": {
   "display_name": "Python 3 (ipykernel)",
   "language": "python",
   "name": "python3"
  },
  "language_info": {
   "codemirror_mode": {
    "name": "ipython",
    "version": 3
   },
   "file_extension": ".py",
   "mimetype": "text/x-python",
   "name": "python",
   "nbconvert_exporter": "python",
   "pygments_lexer": "ipython3",
   "version": "3.12.7"
  }
 },
 "nbformat": 4,
 "nbformat_minor": 4
}
