{
 "cells": [
  {
   "cell_type": "markdown",
   "metadata": {},
   "source": [
    "# Assignment 2: Data wrangling and data exploring with pandas\n",
    "\n",
    "All questions are weighted the same in this assignment. You are encouraged to check out the [pandas documentation](https://pandas.pydata.org/pandas-docs/stable/). \n",
    "\n",
    "What to submit: HTML version of this notebook (use File -> Download as -> HTML from the menu) with solutions and answers to the questions. Please rename the file as follows: Assignment_2_*Name*_*Surname*.html."
   ]
  },
  {
   "cell_type": "code",
   "execution_count": 3,
   "metadata": {},
   "outputs": [],
   "source": [
    "import pandas as pd"
   ]
  },
  {
   "cell_type": "code",
   "execution_count": 4,
   "metadata": {},
   "outputs": [],
   "source": [
    "pd.set_option('display.max_rows', 15)\n",
    "pd.set_option('display.precision', 2)\n",
    "pd.options.display.float_format = '{:,.2f}'.format"
   ]
  },
  {
   "cell_type": "markdown",
   "metadata": {},
   "source": [
    "In this assignment, use our version of the [MovieLens](https://grouplens.org/datasets/movielens/) data set -- the same data set that we used in the lecture."
   ]
  },
  {
   "cell_type": "code",
   "execution_count": 6,
   "metadata": {},
   "outputs": [],
   "source": [
    "df = pd.read_csv('movie_lens_1M.csv')"
   ]
  },
  {
   "cell_type": "markdown",
   "metadata": {},
   "source": [
    "![MovieLens](https://grouplens.org/site-content/uploads/visual_for_blog_post_cscw2018.png)"
   ]
  },
  {
   "cell_type": "markdown",
   "metadata": {},
   "source": [
    "### Exercise 1\n",
    "\n",
    "When did the first rating occur? Which rating occured at the latest date?\n",
    "\n",
    "Solution: `['2000-04-25 23:05:32', '2003-02-28 17:49:50']`"
   ]
  },
  {
   "cell_type": "code",
   "execution_count": 8,
   "metadata": {},
   "outputs": [
    {
     "name": "stdout",
     "output_type": "stream",
     "text": [
      "The first rating occurred on: 2000-04-25 23:05:32\n",
      "The latest rating occurred on: 2003-02-28 17:49:50\n"
     ]
    }
   ],
   "source": [
    "#print(df.head())\n",
    "\n",
    "# Ensure the 'timestamp' column is in datetime format\n",
    "df['timestamp'] = pd.to_datetime(df['timestamp'])\n",
    "\n",
    "# Find the first rating (earliest timestamp)\n",
    "first_rating = df['timestamp'].min()\n",
    "\n",
    "# Find the latest rating (latest timestamp)\n",
    "latest_rating = df['timestamp'].max()\n",
    "\n",
    "print(f\"The first rating occurred on: {first_rating}\")\n",
    "print(f\"The latest rating occurred on: {latest_rating}\")\n",
    "\n"
   ]
  },
  {
   "cell_type": "markdown",
   "metadata": {
    "collapsed": true
   },
   "source": [
    "We are now going to save the titles of all movies that were rated at least 250 times as index called `active_titles`. In the exercises that follow, use this index to enable a quick access to movie titles."
   ]
  },
  {
   "cell_type": "code",
   "execution_count": 9,
   "metadata": {},
   "outputs": [],
   "source": [
    "ratings_by_title = df.groupby('title').size()\n",
    "active_titles = df.groupby('title').size().index[ratings_by_title >= 250]"
   ]
  },
  {
   "cell_type": "markdown",
   "metadata": {},
   "source": [
    "### Exercise 2\n",
    "\n",
    "What are Top 10 (best rated) movies according to scientists?\n",
    "\n",
    "What are Top 10 (best rated) movies according to artists?\n",
    "\n",
    "Solution (first rows): `[Guess Who's Coming to Dinner (1967), Manchurian Candidate, The (1962)]`"
   ]
  },
  {
   "cell_type": "code",
   "execution_count": 10,
   "metadata": {},
   "outputs": [
    {
     "name": "stdout",
     "output_type": "stream",
     "text": [
      "Top 10 movies according to scientists:\n",
      "title\n",
      "Sunset Blvd. (a.k.a. Sunset Boulevard) (1950)   5.00\n",
      "Guess Who's Coming to Dinner (1967)             5.00\n",
      "Midnight Express (1978)                         4.83\n",
      "Modern Times (1936)                             4.75\n",
      "Roman Holiday (1953)                            4.75\n",
      "M (1931)                                        4.75\n",
      "Monty Python and the Holy Grail (1974)          4.68\n",
      "American History X (1998)                       4.67\n",
      "Charade (1963)                                  4.67\n",
      "Mumford (1999)                                  4.67\n",
      "Name: rating, dtype: float64\n",
      "\n",
      "Top 10 movies according to artists:\n",
      "title\n",
      "Manchurian Candidate, The (1962)                                      4.77\n",
      "Close Shave, A (1995)                                                 4.77\n",
      "When We Were Kings (1996)                                             4.62\n",
      "Seven Samurai (The Magnificent Seven) (Shichinin no samurai) (1954)   4.61\n",
      "Rear Window (1954)                                                    4.61\n",
      "Raise the Red Lantern (1991)                                          4.60\n",
      "Sunset Blvd. (a.k.a. Sunset Boulevard) (1950)                         4.58\n",
      "Double Indemnity (1944)                                               4.56\n",
      "Bridge on the River Kwai, The (1957)                                  4.55\n",
      "Creature Comforts (1990)                                              4.52\n",
      "Name: rating, dtype: float64\n"
     ]
    }
   ],
   "source": [
    "# Filter data for active titles\n",
    "filtered_df = df[df['title'].isin(active_titles)]\n",
    "\n",
    "# Calculate average ratings by title\n",
    "average_ratings = filtered_df.groupby('title')['rating'].mean()\n",
    "\n",
    "# Filter users who are scientists and calculate their top 10 rated movies\n",
    "scientist_df = filtered_df[filtered_df['occupation'] == 'scientist']\n",
    "scientist_ratings = scientist_df.groupby('title')['rating'].mean()\n",
    "top_10_scientist_movies = scientist_ratings.sort_values(ascending=False).head(10)\n",
    "\n",
    "# Filter users who are artists and calculate their top 10 rated movies\n",
    "artist_df = filtered_df[filtered_df['occupation'] == 'artist']\n",
    "artist_ratings = artist_df.groupby('title')['rating'].mean()\n",
    "top_10_artist_movies = artist_ratings.sort_values(ascending=False).head(10)\n",
    "\n",
    "# Display results\n",
    "print(\"Top 10 movies according to scientists:\")\n",
    "print(top_10_scientist_movies)\n",
    "\n",
    "print(\"\\nTop 10 movies according to artists:\")\n",
    "print(top_10_artist_movies)\n",
    "\n",
    "## COMMENT\n",
    "\n",
    "# my solution differs from the given one. This my be due to different approaches.\n",
    "# I calculated the average ratings for movies in the active_titles index and then\n",
    "# filter the data based on the occupation of users (scientists or artists). \n",
    "# Finally, I sorted the results to get the top 10 movies for each group.\n",
    "# This seemed only logical to me.\n"
   ]
  },
  {
   "cell_type": "markdown",
   "metadata": {},
   "source": [
    "### Exercise 3\n",
    "\n",
    "What are Top 10 (best rated) movies according to people in the state of California (CA)? \n",
    "\n",
    "What are Top 10 (best rated) movies according to people in the state of New York (NY)?\n",
    "\n",
    "Solution (first rows): `[Sunset Blvd. (a.k.a. Sunset Boulevard) (1950), Seven Samurai (The Magnificent Seven) (Shichinin no samurai) (1954)]`"
   ]
  },
  {
   "cell_type": "code",
   "execution_count": 11,
   "metadata": {},
   "outputs": [
    {
     "name": "stdout",
     "output_type": "stream",
     "text": [
      "Top 10 movies according to people in California:\n",
      "title\n",
      "Sunset Blvd. (a.k.a. Sunset Boulevard) (1950)                                 4.62\n",
      "Seven Samurai (The Magnificent Seven) (Shichinin no samurai) (1954)           4.61\n",
      "Wallace & Gromit: The Best of Aardman Animation (1996)                        4.53\n",
      "Wrong Trousers, The (1993)                                                    4.53\n",
      "Lawrence of Arabia (1962)                                                     4.52\n",
      "Treasure of the Sierra Madre, The (1948)                                      4.52\n",
      "Godfather, The (1972)                                                         4.51\n",
      "City Lights (1931)                                                            4.51\n",
      "When We Were Kings (1996)                                                     4.50\n",
      "Dr. Strangelove or: How I Learned to Stop Worrying and Love the Bomb (1963)   4.50\n",
      "Name: rating, dtype: float64\n",
      "\n",
      "Top 10 movies according to people in New York:\n",
      "title\n",
      "Seven Samurai (The Magnificent Seven) (Shichinin no samurai) (1954)           4.72\n",
      "On the Waterfront (1954)                                                      4.69\n",
      "Third Man, The (1949)                                                         4.69\n",
      "M (1931)                                                                      4.61\n",
      "Thin Man, The (1934)                                                          4.60\n",
      "Godfather, The (1972)                                                         4.59\n",
      "All Quiet on the Western Front (1930)                                         4.59\n",
      "Wallace & Gromit: The Best of Aardman Animation (1996)                        4.59\n",
      "Dr. Strangelove or: How I Learned to Stop Worrying and Love the Bomb (1963)   4.56\n",
      "Citizen Kane (1941)                                                           4.56\n",
      "Name: rating, dtype: float64\n"
     ]
    }
   ],
   "source": [
    "# Filter data for active titles\n",
    "filtered_df = df[df['title'].isin(active_titles)]\n",
    "\n",
    "# Filter for people in California and calculate top 10 rated movies\n",
    "ca_df = filtered_df[filtered_df['state'] == 'CA']\n",
    "ca_ratings = ca_df.groupby('title')['rating'].mean()\n",
    "top_10_ca_movies = ca_ratings.sort_values(ascending=False).head(10)\n",
    "\n",
    "# Filter for people in New York and calculate top 10 rated movies\n",
    "ny_df = filtered_df[filtered_df['state'] == 'NY']\n",
    "ny_ratings = ny_df.groupby('title')['rating'].mean()\n",
    "top_10_ny_movies = ny_ratings.sort_values(ascending=False).head(10)\n",
    "\n",
    "# Display results\n",
    "print(\"Top 10 movies according to people in California:\")\n",
    "print(top_10_ca_movies)\n",
    "\n",
    "print(\"\\nTop 10 movies according to people in New York:\")\n",
    "print(top_10_ny_movies)\n"
   ]
  },
  {
   "cell_type": "markdown",
   "metadata": {},
   "source": [
    "### Exercise 4\n",
    "\n",
    "Which occupations are most represented by male users? List top five.\n",
    "\n",
    "Solution: `['college/grad student', 'other', 'executive/managerial', 'technician/engineer', 'academic/educator']`"
   ]
  },
  {
   "cell_type": "code",
   "execution_count": 12,
   "metadata": {},
   "outputs": [
    {
     "name": "stdout",
     "output_type": "stream",
     "text": [
      "Top 5 occupations most represented by male users:\n",
      "occupation\n",
      "college/grad student    97585\n",
      "other                   94009\n",
      "executive/managerial    84842\n",
      "technician/engineer     64399\n",
      "academic/educator       50955\n",
      "Name: count, dtype: int64\n"
     ]
    }
   ],
   "source": [
    "# Filter the data for male users\n",
    "male_users = df[df['gender'] == 'M']\n",
    "\n",
    "# Count the number of occurrences of each occupation\n",
    "occupation_counts = male_users['occupation'].value_counts()\n",
    "\n",
    "# Get the top 5 most represented occupations\n",
    "top_5_occupations = occupation_counts.head(5)\n",
    "\n",
    "# Display results\n",
    "print(\"Top 5 occupations most represented by male users:\")\n",
    "print(top_5_occupations)\n"
   ]
  },
  {
   "cell_type": "markdown",
   "metadata": {
    "collapsed": true
   },
   "source": [
    "We are now going to save the titles of all movies that were rated at least 250 times as index called `active_titles`. In the exercises that follow, use this index to enable a quick access to movie titles."
   ]
  },
  {
   "cell_type": "code",
   "execution_count": 13,
   "metadata": {},
   "outputs": [],
   "source": [
    "ratings_by_title = df.groupby('title').size()\n",
    "active_titles = df.groupby('title').size().index[ratings_by_title >= 250]"
   ]
  },
  {
   "cell_type": "markdown",
   "metadata": {},
   "source": [
    "### Exercise 5\n",
    "\n",
    "Which are the top 10 movies with the least fluctuations in rating? (*hint: use standard deviation*)\n",
    "\n",
    "Only take into account the `\"active titles\"` movies.\n",
    "\n",
    "Solution (first rows): `[Close Shave, A (1995), Rear Window (1954), Great Escape, The (1963)]`"
   ]
  },
  {
   "cell_type": "code",
   "execution_count": 14,
   "metadata": {},
   "outputs": [
    {
     "name": "stdout",
     "output_type": "stream",
     "text": [
      "Top 10 movies with the least fluctuations in rating:\n",
      "title\n",
      "Close Shave, A (1995)                           0.66\n",
      "Rear Window (1954)                              0.69\n",
      "Great Escape, The (1963)                        0.69\n",
      "Shawshank Redemption, The (1994)                0.70\n",
      "Wrong Trousers, The (1993)                      0.71\n",
      "Raiders of the Lost Ark (1981)                  0.73\n",
      "North by Northwest (1959)                       0.73\n",
      "Hustler, The (1961)                             0.74\n",
      "Double Indemnity (1944)                         0.74\n",
      "Sunset Blvd. (a.k.a. Sunset Boulevard) (1950)   0.74\n",
      "Name: rating, dtype: float64\n"
     ]
    }
   ],
   "source": [
    "# Filter the DataFrame for active titles\n",
    "filtered_df = df[df['title'].isin(active_titles)]\n",
    "\n",
    "# Calculate the standard deviation of ratings for each title\n",
    "rating_std = filtered_df.groupby('title')['rating'].std()\n",
    "\n",
    "# Sort the movies by standard deviation in ascending order\n",
    "least_fluctuations = rating_std.sort_values().head(10)\n",
    "\n",
    "# Display results\n",
    "print(\"Top 10 movies with the least fluctuations in rating:\")\n",
    "print(least_fluctuations)\n"
   ]
  },
  {
   "cell_type": "markdown",
   "metadata": {},
   "source": [
    "### Exercise 6\n",
    "\n",
    "List 20 movies where the ratings of female and male users differ the least on average. (*hint: consider changing display settings*)\n",
    "\n",
    "Only take into account the `\"active titles\"` movies.\n",
    "\n",
    "Solution (first rows): `[Bob Roberts (1992), American Movie (1999, Jerry Maguire (1996), Cape Fear (1991), Serpico (1973)]`"
   ]
  },
  {
   "cell_type": "code",
   "execution_count": 15,
   "metadata": {},
   "outputs": [
    {
     "name": "stdout",
     "output_type": "stream",
     "text": [
      "20 movies where the ratings of female and male users differ the least:\n",
      "gender                        difference\n",
      "title                                   \n",
      "Bob Roberts (1992)                  0.00\n",
      "American Movie (1999)               0.00\n",
      "Jerry Maguire (1996)                0.00\n",
      "Cape Fear (1991)                    0.00\n",
      "Serpico (1973)                      0.00\n",
      "...                                  ...\n",
      "Batman Returns (1992)               0.00\n",
      "Cat on a Hot Tin Roof (1958)        0.00\n",
      "Perfect Murder, A (1998)            0.00\n",
      "Executive Decision (1996)           0.01\n",
      "Hamlet (1996)                       0.01\n",
      "\n",
      "[20 rows x 1 columns]\n"
     ]
    }
   ],
   "source": [
    "# Filter for active titles\n",
    "filtered_df = df[df['title'].isin(active_titles)]\n",
    "\n",
    "# Calculate mean ratings for male and female users by title\n",
    "mean_ratings_by_gender = filtered_df.groupby(['title', 'gender'])['rating'].mean().unstack()\n",
    "\n",
    "# Calculate the absolute difference between male and female ratings\n",
    "mean_ratings_by_gender['difference'] = abs(mean_ratings_by_gender['M'] - mean_ratings_by_gender['F'])\n",
    "\n",
    "# Sort by the smallest difference\n",
    "least_diff_movies = mean_ratings_by_gender.sort_values(by='difference').head(20)\n",
    "\n",
    "# Display the results\n",
    "print(\"20 movies where the ratings of female and male users differ the least:\")\n",
    "print(least_diff_movies[['difference']])\n"
   ]
  },
  {
   "cell_type": "markdown",
   "metadata": {},
   "source": [
    "### Exercise 7\n",
    "\n",
    "From the previously shown 20 movies where the ratings of female and male users differ the least, list the top 4 with the highest ratings.\n",
    "\n",
    "Only take into account the `\"active titles\"` movies.\n",
    "\n",
    "Solution (first rows): `['Roger & Me (1989)',  'Cat on a Hot Tin Roof (1958)', 'American Movie (1999)', 'Serpico (1973)']`"
   ]
  },
  {
   "cell_type": "code",
   "execution_count": 16,
   "metadata": {},
   "outputs": [
    {
     "name": "stdout",
     "output_type": "stream",
     "text": [
      "Top 4 movies with the highest ratings among the 20 with the least gender differences:\n",
      "gender                        overall_rating\n",
      "title                                       \n",
      "Roger & Me (1989)                       4.07\n",
      "Cat on a Hot Tin Roof (1958)            4.05\n",
      "American Movie (1999)                   4.01\n",
      "Serpico (1973)                          3.99\n"
     ]
    }
   ],
   "source": [
    "# Filter for active titles\n",
    "filtered_df = df[df['title'].isin(active_titles)]\n",
    "\n",
    "# Calculate mean ratings for male and female users by title\n",
    "mean_ratings_by_gender = filtered_df.groupby(['title', 'gender'])['rating'].mean().unstack()\n",
    "\n",
    "# Calculate the absolute difference between male and female ratings\n",
    "mean_ratings_by_gender['difference'] = abs(mean_ratings_by_gender['M'] - mean_ratings_by_gender['F'])\n",
    "\n",
    "# Sort by the smallest difference and take the top 20 movies\n",
    "least_diff_movies = mean_ratings_by_gender.sort_values(by='difference').head(20)\n",
    "\n",
    "# Calculate the overall mean rating for these 20 movies\n",
    "least_diff_movies['overall_rating'] = filtered_df.groupby('title')['rating'].mean()\n",
    "\n",
    "# Sort the 20 movies by overall rating in descending order\n",
    "top_4_highest_rated = least_diff_movies.sort_values(by='overall_rating', ascending=False).head(4)\n",
    "\n",
    "# Display the results\n",
    "print(\"Top 4 movies with the highest ratings among the 20 with the least gender differences:\")\n",
    "print(top_4_highest_rated[['overall_rating']])\n"
   ]
  },
  {
   "cell_type": "code",
   "execution_count": null,
   "metadata": {},
   "outputs": [],
   "source": []
  }
 ],
 "metadata": {
  "kernelspec": {
   "display_name": "Python 3",
   "language": "python",
   "name": "python3"
  },
  "language_info": {
   "codemirror_mode": {
    "name": "ipython",
    "version": 3
   },
   "file_extension": ".py",
   "mimetype": "text/x-python",
   "name": "python",
   "nbconvert_exporter": "python",
   "pygments_lexer": "ipython3",
   "version": "3.12.5"
  }
 },
 "nbformat": 4,
 "nbformat_minor": 2
}
