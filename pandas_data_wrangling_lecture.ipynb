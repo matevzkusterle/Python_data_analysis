{
 "cells": [
  {
   "cell_type": "markdown",
   "metadata": {},
   "source": [
    "## Data Wrangling with pandas\n",
    "\n",
    "Data preparation is often the most important part of data analysis. Much of the programming work in data analysis and modeling is spent on data preparation: loading, cleaning, transforming, and rearranging. Sometimes the way that data is stored in files or databases is not the way you need it for data processing. Fortunately, pandas along with the Python standard library provide you with a high level, flexible, and high-performance set of core manipulations and algorithms to enable you to wrangle data into the right form without much trouble.\n",
    "\n",
    "\n",
    "### MovieLens 1M Data Set\n",
    "\n",
    "GroupLens Research provides a number of [collections of movie ratings data](http://grouplens.org/datasets/movielens/) collected from users of MovieLens. The data provide movie ratings, movie metadata (genres and year), and demographic data about the users (age, zip code, gender, and occupation).\n",
    "\n",
    "Download data set [The MovieLens 1M Data Set](http://files.grouplens.org/datasets/movielens/ml-1m.zip) (ml-1m.zip, 5.64MB). It contains about 1M+ ratings collected from 6K+ users on about 4K movies (check exact numbers!). It's spread across 3 tables: ratings, user information, and movie information. \n",
    "\n",
    "### ZIP codes\n",
    "\n",
    "Also download <a href=\"ftp://ftp.census.gov/econ2013/CBP_CSV/zbp13totals.zip\">Complete ZIP Code Totals</a> (725KB) at The Census Bureau's website.\n",
    "\n",
    "Create a folder called \"movies\", copy both downloaded files in, and unpack them."
   ]
  },
  {
   "cell_type": "code",
   "execution_count": 2,
   "metadata": {},
   "outputs": [],
   "source": [
    "import pandas as pd\n",
    "import numpy as np\n",
    "import os\n",
    "\n",
    "pd.set_option('display.max_rows', 15)"
   ]
  },
  {
   "cell_type": "markdown",
   "metadata": {},
   "source": [
    "## Files\n",
    "\n",
    "Reading files and writing to files are two very common operations while working with data. Most often you will be using read_csv and to_csv functions, as you have already been doing during the introductory pandas lecture. These two functions can operate with different type of delimiter-separated files, which is the prevailing format among data-based files. At the end of the notebook we will also learn how to read and write excel files. \n",
    "\n",
    "### Reading .csv files\n",
    "\n",
    "* text files, values are comma-separated (csv = comma-separated files)\n",
    "* standard format for storing tabular data\n",
    "* values in row delimeted usually with ',' (but sometimes other characters, like a tab)\n",
    "* Use quotes \"\", when you wish to hide delimiters in text. \n",
    "* methods [`read_csv`](https://pandas.pydata.org/pandas-docs/stable/reference/api/pandas.read_csv.html) and [`to_csv`](https://pandas.pydata.org/pandas-docs/stable/reference/api/pandas.DataFrame.to_csv.html)."
   ]
  },
  {
   "cell_type": "code",
   "execution_count": 3,
   "metadata": {},
   "outputs": [],
   "source": [
    "unames = ['user_id', 'gender', 'age', 'occupation', 'zip']\n",
    "rnames = ['user_id', 'movie_id', 'rating', 'timestamp']\n",
    "mnames = ['movie_id', 'title', 'genres']\n",
    "\n",
    "users = pd.read_csv('movies/ml-1m/users.dat', sep='::', header=None, engine='python', encoding='latin1', names=unames)\n",
    "ratings = pd.read_csv('movies/ml-1m/ratings.dat', sep='::', header=None, names=rnames, encoding='latin1', engine='python')\n",
    "movies = pd.read_csv('movies/ml-1m/movies.dat', sep='::', header=None, names=mnames, encoding='latin1', engine='python')"
   ]
  },
  {
   "cell_type": "markdown",
   "metadata": {},
   "source": [
    "Variables `users`, `ratings`, `movies` are dataframes. Remember, the main pandas structure is dataframe, which contains table data (two dimensional). "
   ]
  },
  {
   "cell_type": "code",
   "execution_count": 4,
   "metadata": {},
   "outputs": [
    {
     "data": {
      "text/plain": [
       "((6040, 5), (1000209, 4), (3883, 3))"
      ]
     },
     "execution_count": 4,
     "metadata": {},
     "output_type": "execute_result"
    }
   ],
   "source": [
    "# Checking the dimensions of the data frames gives as an immediate answer about the number of users, ratings, and movies.\n",
    "users.shape, ratings.shape, movies.shape"
   ]
  },
  {
   "cell_type": "markdown",
   "metadata": {},
   "source": [
    "We can verify that everything loaded correctly by looking at the first/last few rows of each data frame."
   ]
  },
  {
   "cell_type": "code",
   "execution_count": 5,
   "metadata": {},
   "outputs": [
    {
     "data": {
      "text/html": [
       "<div>\n",
       "<style scoped>\n",
       "    .dataframe tbody tr th:only-of-type {\n",
       "        vertical-align: middle;\n",
       "    }\n",
       "\n",
       "    .dataframe tbody tr th {\n",
       "        vertical-align: top;\n",
       "    }\n",
       "\n",
       "    .dataframe thead th {\n",
       "        text-align: right;\n",
       "    }\n",
       "</style>\n",
       "<table border=\"1\" class=\"dataframe\">\n",
       "  <thead>\n",
       "    <tr style=\"text-align: right;\">\n",
       "      <th></th>\n",
       "      <th>user_id</th>\n",
       "      <th>gender</th>\n",
       "      <th>age</th>\n",
       "      <th>occupation</th>\n",
       "      <th>zip</th>\n",
       "    </tr>\n",
       "  </thead>\n",
       "  <tbody>\n",
       "    <tr>\n",
       "      <th>0</th>\n",
       "      <td>1</td>\n",
       "      <td>F</td>\n",
       "      <td>1</td>\n",
       "      <td>10</td>\n",
       "      <td>48067</td>\n",
       "    </tr>\n",
       "    <tr>\n",
       "      <th>1</th>\n",
       "      <td>2</td>\n",
       "      <td>M</td>\n",
       "      <td>56</td>\n",
       "      <td>16</td>\n",
       "      <td>70072</td>\n",
       "    </tr>\n",
       "    <tr>\n",
       "      <th>2</th>\n",
       "      <td>3</td>\n",
       "      <td>M</td>\n",
       "      <td>25</td>\n",
       "      <td>15</td>\n",
       "      <td>55117</td>\n",
       "    </tr>\n",
       "    <tr>\n",
       "      <th>3</th>\n",
       "      <td>4</td>\n",
       "      <td>M</td>\n",
       "      <td>45</td>\n",
       "      <td>7</td>\n",
       "      <td>02460</td>\n",
       "    </tr>\n",
       "    <tr>\n",
       "      <th>4</th>\n",
       "      <td>5</td>\n",
       "      <td>M</td>\n",
       "      <td>25</td>\n",
       "      <td>20</td>\n",
       "      <td>55455</td>\n",
       "    </tr>\n",
       "  </tbody>\n",
       "</table>\n",
       "</div>"
      ],
      "text/plain": [
       "   user_id gender  age  occupation    zip\n",
       "0        1      F    1          10  48067\n",
       "1        2      M   56          16  70072\n",
       "2        3      M   25          15  55117\n",
       "3        4      M   45           7  02460\n",
       "4        5      M   25          20  55455"
      ]
     },
     "execution_count": 5,
     "metadata": {},
     "output_type": "execute_result"
    }
   ],
   "source": [
    "# show head\n",
    "users.head()"
   ]
  },
  {
   "cell_type": "code",
   "execution_count": 6,
   "metadata": {},
   "outputs": [
    {
     "data": {
      "text/html": [
       "<div>\n",
       "<style scoped>\n",
       "    .dataframe tbody tr th:only-of-type {\n",
       "        vertical-align: middle;\n",
       "    }\n",
       "\n",
       "    .dataframe tbody tr th {\n",
       "        vertical-align: top;\n",
       "    }\n",
       "\n",
       "    .dataframe thead th {\n",
       "        text-align: right;\n",
       "    }\n",
       "</style>\n",
       "<table border=\"1\" class=\"dataframe\">\n",
       "  <thead>\n",
       "    <tr style=\"text-align: right;\">\n",
       "      <th></th>\n",
       "      <th>user_id</th>\n",
       "      <th>movie_id</th>\n",
       "      <th>rating</th>\n",
       "      <th>timestamp</th>\n",
       "    </tr>\n",
       "  </thead>\n",
       "  <tbody>\n",
       "    <tr>\n",
       "      <th>1000204</th>\n",
       "      <td>6040</td>\n",
       "      <td>1091</td>\n",
       "      <td>1</td>\n",
       "      <td>956716541</td>\n",
       "    </tr>\n",
       "    <tr>\n",
       "      <th>1000205</th>\n",
       "      <td>6040</td>\n",
       "      <td>1094</td>\n",
       "      <td>5</td>\n",
       "      <td>956704887</td>\n",
       "    </tr>\n",
       "    <tr>\n",
       "      <th>1000206</th>\n",
       "      <td>6040</td>\n",
       "      <td>562</td>\n",
       "      <td>5</td>\n",
       "      <td>956704746</td>\n",
       "    </tr>\n",
       "    <tr>\n",
       "      <th>1000207</th>\n",
       "      <td>6040</td>\n",
       "      <td>1096</td>\n",
       "      <td>4</td>\n",
       "      <td>956715648</td>\n",
       "    </tr>\n",
       "    <tr>\n",
       "      <th>1000208</th>\n",
       "      <td>6040</td>\n",
       "      <td>1097</td>\n",
       "      <td>4</td>\n",
       "      <td>956715569</td>\n",
       "    </tr>\n",
       "  </tbody>\n",
       "</table>\n",
       "</div>"
      ],
      "text/plain": [
       "         user_id  movie_id  rating  timestamp\n",
       "1000204     6040      1091       1  956716541\n",
       "1000205     6040      1094       5  956704887\n",
       "1000206     6040       562       5  956704746\n",
       "1000207     6040      1096       4  956715648\n",
       "1000208     6040      1097       4  956715569"
      ]
     },
     "execution_count": 6,
     "metadata": {},
     "output_type": "execute_result"
    }
   ],
   "source": [
    "ratings.tail()"
   ]
  },
  {
   "cell_type": "code",
   "execution_count": 7,
   "metadata": {},
   "outputs": [
    {
     "data": {
      "text/html": [
       "<div>\n",
       "<style scoped>\n",
       "    .dataframe tbody tr th:only-of-type {\n",
       "        vertical-align: middle;\n",
       "    }\n",
       "\n",
       "    .dataframe tbody tr th {\n",
       "        vertical-align: top;\n",
       "    }\n",
       "\n",
       "    .dataframe thead th {\n",
       "        text-align: right;\n",
       "    }\n",
       "</style>\n",
       "<table border=\"1\" class=\"dataframe\">\n",
       "  <thead>\n",
       "    <tr style=\"text-align: right;\">\n",
       "      <th></th>\n",
       "      <th>movie_id</th>\n",
       "      <th>title</th>\n",
       "      <th>genres</th>\n",
       "    </tr>\n",
       "  </thead>\n",
       "  <tbody>\n",
       "    <tr>\n",
       "      <th>2065</th>\n",
       "      <td>2134</td>\n",
       "      <td>Weird Science (1985)</td>\n",
       "      <td>Comedy</td>\n",
       "    </tr>\n",
       "    <tr>\n",
       "      <th>940</th>\n",
       "      <td>952</td>\n",
       "      <td>Around the World in 80 Days (1956)</td>\n",
       "      <td>Adventure|Comedy</td>\n",
       "    </tr>\n",
       "    <tr>\n",
       "      <th>1103</th>\n",
       "      <td>1119</td>\n",
       "      <td>Drunks (1997)</td>\n",
       "      <td>Drama</td>\n",
       "    </tr>\n",
       "    <tr>\n",
       "      <th>3184</th>\n",
       "      <td>3253</td>\n",
       "      <td>Wayne's World (1992)</td>\n",
       "      <td>Comedy</td>\n",
       "    </tr>\n",
       "    <tr>\n",
       "      <th>885</th>\n",
       "      <td>897</td>\n",
       "      <td>For Whom the Bell Tolls (1943)</td>\n",
       "      <td>Adventure|War</td>\n",
       "    </tr>\n",
       "    <tr>\n",
       "      <th>1528</th>\n",
       "      <td>1568</td>\n",
       "      <td>MURDER and murder (1996)</td>\n",
       "      <td>Crime|Drama|Mystery</td>\n",
       "    </tr>\n",
       "  </tbody>\n",
       "</table>\n",
       "</div>"
      ],
      "text/plain": [
       "      movie_id                               title               genres\n",
       "2065      2134                Weird Science (1985)               Comedy\n",
       "940        952  Around the World in 80 Days (1956)     Adventure|Comedy\n",
       "1103      1119                       Drunks (1997)                Drama\n",
       "3184      3253                Wayne's World (1992)               Comedy\n",
       "885        897      For Whom the Bell Tolls (1943)        Adventure|War\n",
       "1528      1568            MURDER and murder (1996)  Crime|Drama|Mystery"
      ]
     },
     "execution_count": 7,
     "metadata": {},
     "output_type": "execute_result"
    }
   ],
   "source": [
    "movies.sample(n=6)"
   ]
  },
  {
   "cell_type": "code",
   "execution_count": 8,
   "metadata": {},
   "outputs": [
    {
     "data": {
      "text/html": [
       "<div>\n",
       "<style scoped>\n",
       "    .dataframe tbody tr th:only-of-type {\n",
       "        vertical-align: middle;\n",
       "    }\n",
       "\n",
       "    .dataframe tbody tr th {\n",
       "        vertical-align: top;\n",
       "    }\n",
       "\n",
       "    .dataframe thead th {\n",
       "        text-align: right;\n",
       "    }\n",
       "</style>\n",
       "<table border=\"1\" class=\"dataframe\">\n",
       "  <thead>\n",
       "    <tr style=\"text-align: right;\">\n",
       "      <th></th>\n",
       "      <th>movie_id</th>\n",
       "      <th>title</th>\n",
       "      <th>genres</th>\n",
       "    </tr>\n",
       "  </thead>\n",
       "  <tbody>\n",
       "    <tr>\n",
       "      <th>0</th>\n",
       "      <td>1</td>\n",
       "      <td>Toy Story (1995)</td>\n",
       "      <td>Animation|Children's|Comedy</td>\n",
       "    </tr>\n",
       "    <tr>\n",
       "      <th>1</th>\n",
       "      <td>2</td>\n",
       "      <td>Jumanji (1995)</td>\n",
       "      <td>Adventure|Children's|Fantasy</td>\n",
       "    </tr>\n",
       "    <tr>\n",
       "      <th>2</th>\n",
       "      <td>3</td>\n",
       "      <td>Grumpier Old Men (1995)</td>\n",
       "      <td>Comedy|Romance</td>\n",
       "    </tr>\n",
       "    <tr>\n",
       "      <th>3</th>\n",
       "      <td>4</td>\n",
       "      <td>Waiting to Exhale (1995)</td>\n",
       "      <td>Comedy|Drama</td>\n",
       "    </tr>\n",
       "    <tr>\n",
       "      <th>4</th>\n",
       "      <td>5</td>\n",
       "      <td>Father of the Bride Part II (1995)</td>\n",
       "      <td>Comedy</td>\n",
       "    </tr>\n",
       "    <tr>\n",
       "      <th>5</th>\n",
       "      <td>6</td>\n",
       "      <td>Heat (1995)</td>\n",
       "      <td>Action|Crime|Thriller</td>\n",
       "    </tr>\n",
       "    <tr>\n",
       "      <th>6</th>\n",
       "      <td>7</td>\n",
       "      <td>Sabrina (1995)</td>\n",
       "      <td>Comedy|Romance</td>\n",
       "    </tr>\n",
       "    <tr>\n",
       "      <th>7</th>\n",
       "      <td>8</td>\n",
       "      <td>Tom and Huck (1995)</td>\n",
       "      <td>Adventure|Children's</td>\n",
       "    </tr>\n",
       "  </tbody>\n",
       "</table>\n",
       "</div>"
      ],
      "text/plain": [
       "   movie_id                               title                        genres\n",
       "0         1                    Toy Story (1995)   Animation|Children's|Comedy\n",
       "1         2                      Jumanji (1995)  Adventure|Children's|Fantasy\n",
       "2         3             Grumpier Old Men (1995)                Comedy|Romance\n",
       "3         4            Waiting to Exhale (1995)                  Comedy|Drama\n",
       "4         5  Father of the Bride Part II (1995)                        Comedy\n",
       "5         6                         Heat (1995)         Action|Crime|Thriller\n",
       "6         7                      Sabrina (1995)                Comedy|Romance\n",
       "7         8                 Tom and Huck (1995)          Adventure|Children's"
      ]
     },
     "execution_count": 8,
     "metadata": {},
     "output_type": "execute_result"
    }
   ],
   "source": [
    "# using Python's slice index produces the same result as \"movies.head()\"\n",
    "movies.loc[:7]"
   ]
  },
  {
   "cell_type": "markdown",
   "metadata": {},
   "source": [
    "### Merging data\n",
    "\n",
    "It is much easier to work with all of the data merged together into a single table.\n",
    "\n",
    "Data contained in pandas objects can be combined together in a number of built-in ways. These two are the most common:\n",
    "\n",
    "- [pandas.merge](https://pandas.pydata.org/docs/reference/api/pandas.DataFrame.merge.html) connects rows in DataFrames based on one or more keys. This will be familiar to users of SQL or other relational databases, as it implements database *join* operations.\n",
    "- [pandas.concat](https://pandas.pydata.org/docs/reference/api/pandas.concat.html) glues or stacks together objects along an axis.\n",
    "\n",
    "Read more: [Merge, join, and concatenate](http://pandas.pydata.org/pandas-docs/stable/merging.html)."
   ]
  },
  {
   "cell_type": "markdown",
   "metadata": {},
   "source": [
    "We will now combine `users`, `ratings`, and `movies` dataframes. We will have to use `merge`, because we are not just concatenating, but combining them relatively to some column."
   ]
  },
  {
   "cell_type": "markdown",
   "metadata": {},
   "source": [
    "We first merge ratings with users... (the common key is *user_id*)"
   ]
  },
  {
   "cell_type": "code",
   "execution_count": 9,
   "metadata": {},
   "outputs": [
    {
     "data": {
      "text/html": [
       "<div>\n",
       "<style scoped>\n",
       "    .dataframe tbody tr th:only-of-type {\n",
       "        vertical-align: middle;\n",
       "    }\n",
       "\n",
       "    .dataframe tbody tr th {\n",
       "        vertical-align: top;\n",
       "    }\n",
       "\n",
       "    .dataframe thead th {\n",
       "        text-align: right;\n",
       "    }\n",
       "</style>\n",
       "<table border=\"1\" class=\"dataframe\">\n",
       "  <thead>\n",
       "    <tr style=\"text-align: right;\">\n",
       "      <th></th>\n",
       "      <th>user_id</th>\n",
       "      <th>movie_id</th>\n",
       "      <th>rating</th>\n",
       "      <th>timestamp</th>\n",
       "    </tr>\n",
       "  </thead>\n",
       "  <tbody>\n",
       "    <tr>\n",
       "      <th>0</th>\n",
       "      <td>1</td>\n",
       "      <td>1193</td>\n",
       "      <td>5</td>\n",
       "      <td>978300760</td>\n",
       "    </tr>\n",
       "  </tbody>\n",
       "</table>\n",
       "</div>"
      ],
      "text/plain": [
       "   user_id  movie_id  rating  timestamp\n",
       "0        1      1193       5  978300760"
      ]
     },
     "execution_count": 9,
     "metadata": {},
     "output_type": "execute_result"
    }
   ],
   "source": [
    "ratings.head(1)"
   ]
  },
  {
   "cell_type": "code",
   "execution_count": 10,
   "metadata": {},
   "outputs": [
    {
     "data": {
      "text/html": [
       "<div>\n",
       "<style scoped>\n",
       "    .dataframe tbody tr th:only-of-type {\n",
       "        vertical-align: middle;\n",
       "    }\n",
       "\n",
       "    .dataframe tbody tr th {\n",
       "        vertical-align: top;\n",
       "    }\n",
       "\n",
       "    .dataframe thead th {\n",
       "        text-align: right;\n",
       "    }\n",
       "</style>\n",
       "<table border=\"1\" class=\"dataframe\">\n",
       "  <thead>\n",
       "    <tr style=\"text-align: right;\">\n",
       "      <th></th>\n",
       "      <th>user_id</th>\n",
       "      <th>gender</th>\n",
       "      <th>age</th>\n",
       "      <th>occupation</th>\n",
       "      <th>zip</th>\n",
       "    </tr>\n",
       "  </thead>\n",
       "  <tbody>\n",
       "    <tr>\n",
       "      <th>0</th>\n",
       "      <td>1</td>\n",
       "      <td>F</td>\n",
       "      <td>1</td>\n",
       "      <td>10</td>\n",
       "      <td>48067</td>\n",
       "    </tr>\n",
       "  </tbody>\n",
       "</table>\n",
       "</div>"
      ],
      "text/plain": [
       "   user_id gender  age  occupation    zip\n",
       "0        1      F    1          10  48067"
      ]
     },
     "execution_count": 10,
     "metadata": {},
     "output_type": "execute_result"
    }
   ],
   "source": [
    "users.head(1)"
   ]
  },
  {
   "cell_type": "code",
   "execution_count": 11,
   "metadata": {},
   "outputs": [],
   "source": [
    "# merge ratings with users\n",
    "df = pd.merge(ratings, users, on='user_id')"
   ]
  },
  {
   "cell_type": "code",
   "execution_count": 12,
   "metadata": {},
   "outputs": [
    {
     "data": {
      "text/html": [
       "<div>\n",
       "<style scoped>\n",
       "    .dataframe tbody tr th:only-of-type {\n",
       "        vertical-align: middle;\n",
       "    }\n",
       "\n",
       "    .dataframe tbody tr th {\n",
       "        vertical-align: top;\n",
       "    }\n",
       "\n",
       "    .dataframe thead th {\n",
       "        text-align: right;\n",
       "    }\n",
       "</style>\n",
       "<table border=\"1\" class=\"dataframe\">\n",
       "  <thead>\n",
       "    <tr style=\"text-align: right;\">\n",
       "      <th></th>\n",
       "      <th>user_id</th>\n",
       "      <th>movie_id</th>\n",
       "      <th>rating</th>\n",
       "      <th>timestamp</th>\n",
       "      <th>gender</th>\n",
       "      <th>age</th>\n",
       "      <th>occupation</th>\n",
       "      <th>zip</th>\n",
       "    </tr>\n",
       "  </thead>\n",
       "  <tbody>\n",
       "    <tr>\n",
       "      <th>982150</th>\n",
       "      <td>5926</td>\n",
       "      <td>1304</td>\n",
       "      <td>4</td>\n",
       "      <td>957278154</td>\n",
       "      <td>F</td>\n",
       "      <td>50</td>\n",
       "      <td>7</td>\n",
       "      <td>65712</td>\n",
       "    </tr>\n",
       "    <tr>\n",
       "      <th>881177</th>\n",
       "      <td>5323</td>\n",
       "      <td>913</td>\n",
       "      <td>5</td>\n",
       "      <td>960847356</td>\n",
       "      <td>M</td>\n",
       "      <td>25</td>\n",
       "      <td>20</td>\n",
       "      <td>94122</td>\n",
       "    </tr>\n",
       "    <tr>\n",
       "      <th>523079</th>\n",
       "      <td>3224</td>\n",
       "      <td>86</td>\n",
       "      <td>4</td>\n",
       "      <td>968518439</td>\n",
       "      <td>F</td>\n",
       "      <td>25</td>\n",
       "      <td>14</td>\n",
       "      <td>93428</td>\n",
       "    </tr>\n",
       "    <tr>\n",
       "      <th>748369</th>\n",
       "      <td>4468</td>\n",
       "      <td>902</td>\n",
       "      <td>3</td>\n",
       "      <td>965067745</td>\n",
       "      <td>F</td>\n",
       "      <td>35</td>\n",
       "      <td>7</td>\n",
       "      <td>75601</td>\n",
       "    </tr>\n",
       "    <tr>\n",
       "      <th>65126</th>\n",
       "      <td>438</td>\n",
       "      <td>1425</td>\n",
       "      <td>4</td>\n",
       "      <td>976675122</td>\n",
       "      <td>M</td>\n",
       "      <td>18</td>\n",
       "      <td>11</td>\n",
       "      <td>53705</td>\n",
       "    </tr>\n",
       "  </tbody>\n",
       "</table>\n",
       "</div>"
      ],
      "text/plain": [
       "        user_id  movie_id  rating  timestamp gender  age  occupation    zip\n",
       "982150     5926      1304       4  957278154      F   50           7  65712\n",
       "881177     5323       913       5  960847356      M   25          20  94122\n",
       "523079     3224        86       4  968518439      F   25          14  93428\n",
       "748369     4468       902       3  965067745      F   35           7  75601\n",
       "65126       438      1425       4  976675122      M   18          11  53705"
      ]
     },
     "execution_count": 12,
     "metadata": {},
     "output_type": "execute_result"
    }
   ],
   "source": [
    "df.sample(n=5)"
   ]
  },
  {
   "cell_type": "markdown",
   "metadata": {},
   "source": [
    "... and then we merge the resulting DataFrame with movies data... (the common key is *movie_id*)"
   ]
  },
  {
   "cell_type": "code",
   "execution_count": 13,
   "metadata": {},
   "outputs": [
    {
     "data": {
      "text/html": [
       "<div>\n",
       "<style scoped>\n",
       "    .dataframe tbody tr th:only-of-type {\n",
       "        vertical-align: middle;\n",
       "    }\n",
       "\n",
       "    .dataframe tbody tr th {\n",
       "        vertical-align: top;\n",
       "    }\n",
       "\n",
       "    .dataframe thead th {\n",
       "        text-align: right;\n",
       "    }\n",
       "</style>\n",
       "<table border=\"1\" class=\"dataframe\">\n",
       "  <thead>\n",
       "    <tr style=\"text-align: right;\">\n",
       "      <th></th>\n",
       "      <th>movie_id</th>\n",
       "      <th>title</th>\n",
       "      <th>genres</th>\n",
       "    </tr>\n",
       "  </thead>\n",
       "  <tbody>\n",
       "    <tr>\n",
       "      <th>0</th>\n",
       "      <td>1</td>\n",
       "      <td>Toy Story (1995)</td>\n",
       "      <td>Animation|Children's|Comedy</td>\n",
       "    </tr>\n",
       "  </tbody>\n",
       "</table>\n",
       "</div>"
      ],
      "text/plain": [
       "   movie_id             title                       genres\n",
       "0         1  Toy Story (1995)  Animation|Children's|Comedy"
      ]
     },
     "execution_count": 13,
     "metadata": {},
     "output_type": "execute_result"
    }
   ],
   "source": [
    "movies.head(1)"
   ]
  },
  {
   "cell_type": "code",
   "execution_count": 14,
   "metadata": {},
   "outputs": [],
   "source": [
    "# merge df with movies\n",
    "df = pd.merge(df, movies, on='movie_id')"
   ]
  },
  {
   "cell_type": "code",
   "execution_count": 15,
   "metadata": {},
   "outputs": [
    {
     "data": {
      "text/html": [
       "<div>\n",
       "<style scoped>\n",
       "    .dataframe tbody tr th:only-of-type {\n",
       "        vertical-align: middle;\n",
       "    }\n",
       "\n",
       "    .dataframe tbody tr th {\n",
       "        vertical-align: top;\n",
       "    }\n",
       "\n",
       "    .dataframe thead th {\n",
       "        text-align: right;\n",
       "    }\n",
       "</style>\n",
       "<table border=\"1\" class=\"dataframe\">\n",
       "  <thead>\n",
       "    <tr style=\"text-align: right;\">\n",
       "      <th></th>\n",
       "      <th>user_id</th>\n",
       "      <th>movie_id</th>\n",
       "      <th>rating</th>\n",
       "      <th>timestamp</th>\n",
       "      <th>gender</th>\n",
       "      <th>age</th>\n",
       "      <th>occupation</th>\n",
       "      <th>zip</th>\n",
       "      <th>title</th>\n",
       "      <th>genres</th>\n",
       "    </tr>\n",
       "  </thead>\n",
       "  <tbody>\n",
       "    <tr>\n",
       "      <th>535566</th>\n",
       "      <td>3305</td>\n",
       "      <td>318</td>\n",
       "      <td>5</td>\n",
       "      <td>968002293</td>\n",
       "      <td>M</td>\n",
       "      <td>56</td>\n",
       "      <td>20</td>\n",
       "      <td>94708</td>\n",
       "      <td>Shawshank Redemption, The (1994)</td>\n",
       "      <td>Drama</td>\n",
       "    </tr>\n",
       "    <tr>\n",
       "      <th>384417</th>\n",
       "      <td>2246</td>\n",
       "      <td>1263</td>\n",
       "      <td>4</td>\n",
       "      <td>974596866</td>\n",
       "      <td>M</td>\n",
       "      <td>25</td>\n",
       "      <td>0</td>\n",
       "      <td>60622</td>\n",
       "      <td>Deer Hunter, The (1978)</td>\n",
       "      <td>Drama|War</td>\n",
       "    </tr>\n",
       "    <tr>\n",
       "      <th>837413</th>\n",
       "      <td>5035</td>\n",
       "      <td>3114</td>\n",
       "      <td>5</td>\n",
       "      <td>962552101</td>\n",
       "      <td>F</td>\n",
       "      <td>25</td>\n",
       "      <td>17</td>\n",
       "      <td>19810</td>\n",
       "      <td>Toy Story 2 (1999)</td>\n",
       "      <td>Animation|Children's|Comedy</td>\n",
       "    </tr>\n",
       "    <tr>\n",
       "      <th>922829</th>\n",
       "      <td>5573</td>\n",
       "      <td>2132</td>\n",
       "      <td>4</td>\n",
       "      <td>959300561</td>\n",
       "      <td>F</td>\n",
       "      <td>35</td>\n",
       "      <td>1</td>\n",
       "      <td>14619</td>\n",
       "      <td>Who's Afraid of Virginia Woolf? (1966)</td>\n",
       "      <td>Drama</td>\n",
       "    </tr>\n",
       "    <tr>\n",
       "      <th>784484</th>\n",
       "      <td>4682</td>\n",
       "      <td>858</td>\n",
       "      <td>4</td>\n",
       "      <td>964629646</td>\n",
       "      <td>M</td>\n",
       "      <td>25</td>\n",
       "      <td>7</td>\n",
       "      <td>05346</td>\n",
       "      <td>Godfather, The (1972)</td>\n",
       "      <td>Action|Crime|Drama</td>\n",
       "    </tr>\n",
       "  </tbody>\n",
       "</table>\n",
       "</div>"
      ],
      "text/plain": [
       "        user_id  movie_id  rating  timestamp gender  age  occupation    zip  \\\n",
       "535566     3305       318       5  968002293      M   56          20  94708   \n",
       "384417     2246      1263       4  974596866      M   25           0  60622   \n",
       "837413     5035      3114       5  962552101      F   25          17  19810   \n",
       "922829     5573      2132       4  959300561      F   35           1  14619   \n",
       "784484     4682       858       4  964629646      M   25           7  05346   \n",
       "\n",
       "                                         title                       genres  \n",
       "535566        Shawshank Redemption, The (1994)                        Drama  \n",
       "384417                 Deer Hunter, The (1978)                    Drama|War  \n",
       "837413                      Toy Story 2 (1999)  Animation|Children's|Comedy  \n",
       "922829  Who's Afraid of Virginia Woolf? (1966)                        Drama  \n",
       "784484                   Godfather, The (1972)           Action|Crime|Drama  "
      ]
     },
     "execution_count": 15,
     "metadata": {},
     "output_type": "execute_result"
    }
   ],
   "source": [
    "df.sample(n=5)"
   ]
  },
  {
   "cell_type": "markdown",
   "metadata": {},
   "source": [
    "### Data Transformation\n",
    "\n",
    "Filtering, cleaning and other transformations are important operations in data preparation. Removing duplicates, handling missing values, replacing values, mapping values are examples of such operations.\n",
    "\n",
    "---\n",
    "The values in the column *age* are not as expected. It's time to read more about the data in the README file.\n",
    "\n",
    "USERS FILE DESCRIPTION\n",
    "\n",
    "Age is chosen from the following ranges:\n",
    "\n",
    "     1:  \"Under 18\"\n",
    "    18:  \"18-24\"\n",
    "    25:  \"25-34\"\n",
    "    35:  \"35-44\"\n",
    "    45:  \"45-49\"\n",
    "    50:  \"50-55\"\n",
    "    56:  \"56+\"\n",
    "---"
   ]
  },
  {
   "cell_type": "code",
   "execution_count": 16,
   "metadata": {},
   "outputs": [
    {
     "data": {
      "text/plain": [
       "array([ 1, 56, 25, 45, 50, 35, 18])"
      ]
     },
     "execution_count": 16,
     "metadata": {},
     "output_type": "execute_result"
    }
   ],
   "source": [
    "# Check which values are present in the data frame.\n",
    "df['age'].unique()"
   ]
  },
  {
   "cell_type": "code",
   "execution_count": 17,
   "metadata": {},
   "outputs": [],
   "source": [
    "# Create a Python dictionary (<key>-<value> pairs) in order to replace <keys> with <values>.\n",
    "age_group = {\n",
    "    1:  \"Under 18\",\n",
    "    18:  \"18-24\",\n",
    "    25:  \"25-34\",\n",
    "    35:  \"35-44\",\n",
    "    45:  \"45-49\",\n",
    "    50:  \"50-55\",\n",
    "    56:  \"56+\",\n",
    "}"
   ]
  },
  {
   "cell_type": "code",
   "execution_count": 18,
   "metadata": {},
   "outputs": [
    {
     "data": {
      "text/plain": [
       "{1: 'Under 18',\n",
       " 18: '18-24',\n",
       " 25: '25-34',\n",
       " 35: '35-44',\n",
       " 45: '45-49',\n",
       " 50: '50-55',\n",
       " 56: '56+'}"
      ]
     },
     "execution_count": 18,
     "metadata": {},
     "output_type": "execute_result"
    }
   ],
   "source": [
    "age_group"
   ]
  },
  {
   "cell_type": "code",
   "execution_count": 19,
   "metadata": {},
   "outputs": [],
   "source": [
    "df = df.replace({'age':age_group})"
   ]
  },
  {
   "cell_type": "code",
   "execution_count": 20,
   "metadata": {},
   "outputs": [
    {
     "data": {
      "text/html": [
       "<div>\n",
       "<style scoped>\n",
       "    .dataframe tbody tr th:only-of-type {\n",
       "        vertical-align: middle;\n",
       "    }\n",
       "\n",
       "    .dataframe tbody tr th {\n",
       "        vertical-align: top;\n",
       "    }\n",
       "\n",
       "    .dataframe thead th {\n",
       "        text-align: right;\n",
       "    }\n",
       "</style>\n",
       "<table border=\"1\" class=\"dataframe\">\n",
       "  <thead>\n",
       "    <tr style=\"text-align: right;\">\n",
       "      <th></th>\n",
       "      <th>user_id</th>\n",
       "      <th>movie_id</th>\n",
       "      <th>rating</th>\n",
       "      <th>timestamp</th>\n",
       "      <th>gender</th>\n",
       "      <th>age</th>\n",
       "      <th>occupation</th>\n",
       "      <th>zip</th>\n",
       "      <th>title</th>\n",
       "      <th>genres</th>\n",
       "    </tr>\n",
       "  </thead>\n",
       "  <tbody>\n",
       "    <tr>\n",
       "      <th>614009</th>\n",
       "      <td>3718</td>\n",
       "      <td>1208</td>\n",
       "      <td>3</td>\n",
       "      <td>966263923</td>\n",
       "      <td>M</td>\n",
       "      <td>50-55</td>\n",
       "      <td>17</td>\n",
       "      <td>07728</td>\n",
       "      <td>Apocalypse Now (1979)</td>\n",
       "      <td>Drama|War</td>\n",
       "    </tr>\n",
       "    <tr>\n",
       "      <th>589061</th>\n",
       "      <td>3592</td>\n",
       "      <td>272</td>\n",
       "      <td>4</td>\n",
       "      <td>966645543</td>\n",
       "      <td>F</td>\n",
       "      <td>56+</td>\n",
       "      <td>2</td>\n",
       "      <td>99701</td>\n",
       "      <td>Madness of King George, The (1994)</td>\n",
       "      <td>Drama</td>\n",
       "    </tr>\n",
       "    <tr>\n",
       "      <th>338498</th>\n",
       "      <td>1990</td>\n",
       "      <td>1250</td>\n",
       "      <td>5</td>\n",
       "      <td>974682514</td>\n",
       "      <td>M</td>\n",
       "      <td>25-34</td>\n",
       "      <td>7</td>\n",
       "      <td>85257</td>\n",
       "      <td>Bridge on the River Kwai, The (1957)</td>\n",
       "      <td>Drama|War</td>\n",
       "    </tr>\n",
       "    <tr>\n",
       "      <th>62846</th>\n",
       "      <td>424</td>\n",
       "      <td>3667</td>\n",
       "      <td>3</td>\n",
       "      <td>1016724619</td>\n",
       "      <td>M</td>\n",
       "      <td>25-34</td>\n",
       "      <td>17</td>\n",
       "      <td>55112</td>\n",
       "      <td>Rent-A-Cop (1988)</td>\n",
       "      <td>Action|Comedy</td>\n",
       "    </tr>\n",
       "    <tr>\n",
       "      <th>865597</th>\n",
       "      <td>5220</td>\n",
       "      <td>1327</td>\n",
       "      <td>4</td>\n",
       "      <td>961551533</td>\n",
       "      <td>M</td>\n",
       "      <td>25-34</td>\n",
       "      <td>7</td>\n",
       "      <td>91436</td>\n",
       "      <td>Amityville Horror, The (1979)</td>\n",
       "      <td>Horror</td>\n",
       "    </tr>\n",
       "  </tbody>\n",
       "</table>\n",
       "</div>"
      ],
      "text/plain": [
       "        user_id  movie_id  rating   timestamp gender    age  occupation  \\\n",
       "614009     3718      1208       3   966263923      M  50-55          17   \n",
       "589061     3592       272       4   966645543      F    56+           2   \n",
       "338498     1990      1250       5   974682514      M  25-34           7   \n",
       "62846       424      3667       3  1016724619      M  25-34          17   \n",
       "865597     5220      1327       4   961551533      M  25-34           7   \n",
       "\n",
       "          zip                                 title         genres  \n",
       "614009  07728                 Apocalypse Now (1979)      Drama|War  \n",
       "589061  99701    Madness of King George, The (1994)          Drama  \n",
       "338498  85257  Bridge on the River Kwai, The (1957)      Drama|War  \n",
       "62846   55112                     Rent-A-Cop (1988)  Action|Comedy  \n",
       "865597  91436         Amityville Horror, The (1979)         Horror  "
      ]
     },
     "execution_count": 20,
     "metadata": {},
     "output_type": "execute_result"
    }
   ],
   "source": [
    "df.sample(n=5)"
   ]
  },
  {
   "cell_type": "markdown",
   "metadata": {},
   "source": [
    "The values in the column *occupation* are not as expected either. Let's see the README file once again.\n",
    "\n",
    "USERS FILE DESCRIPTION\n",
    "\n",
    "Occupation is chosen from the following choices:\n",
    "\n",
    "     0:  \"other\" or not specified\n",
    "     1:  \"academic/educator\"\n",
    "     2:  \"artist\"\n",
    "     3:  \"clerical/admin\"\n",
    "     4:  \"college/grad student\"\n",
    "     5:  \"customer service\"\n",
    "     6:  \"doctor/health care\"\n",
    "     7:  \"executive/managerial\"\n",
    "     8:  \"farmer\"\n",
    "     9:  \"homemaker\"\n",
    "    10:  \"K-12 student\"\n",
    "    11:  \"lawyer\"\n",
    "    12:  \"programmer\"\n",
    "    13:  \"retired\"\n",
    "    14:  \"sales/marketing\"\n",
    "    15:  \"scientist\"\n",
    "    16:  \"self-employed\"\n",
    "    17:  \"technician/engineer\"\n",
    "    18:  \"tradesman/craftsman\"\n",
    "    19:  \"unemployed\"\n",
    "    20:  \"writer\"\n"
   ]
  },
  {
   "cell_type": "code",
   "execution_count": 21,
   "metadata": {},
   "outputs": [],
   "source": [
    "# Check whether all these values are present in the data frame."
   ]
  },
  {
   "cell_type": "code",
   "execution_count": 22,
   "metadata": {},
   "outputs": [],
   "source": [
    "occupation = {\n",
    "    0:  \"other\",\n",
    "    1:  \"academic/educator\",\n",
    "    2:  \"artist\",\n",
    "    3:  \"clerical/admin\",\n",
    "    4:  \"college/grad student\",\n",
    "    5:  \"customer service\",\n",
    "    6:  \"doctor/health care\",\n",
    "    7:  \"executive/managerial\",\n",
    "    8:  \"farmer\",\n",
    "    9:  \"homemaker\",\n",
    "    10:  \"K-12 student\",\n",
    "    11:  \"lawyer\",\n",
    "    12:  \"programmer\",\n",
    "    13:  \"retired\",\n",
    "    14:  \"sales/marketing\",\n",
    "    15:  \"scientist\",\n",
    "    16:  \"self-employed\",\n",
    "    17:  \"technician/engineer\",\n",
    "    18:  \"tradesman/craftsman\",\n",
    "    19:  \"unemployed\",\n",
    "    20:  \"writer\",\n",
    "}"
   ]
  },
  {
   "cell_type": "code",
   "execution_count": 23,
   "metadata": {},
   "outputs": [],
   "source": [
    "df = df.replace({'occupation':occupation})"
   ]
  },
  {
   "cell_type": "code",
   "execution_count": 24,
   "metadata": {},
   "outputs": [
    {
     "data": {
      "text/html": [
       "<div>\n",
       "<style scoped>\n",
       "    .dataframe tbody tr th:only-of-type {\n",
       "        vertical-align: middle;\n",
       "    }\n",
       "\n",
       "    .dataframe tbody tr th {\n",
       "        vertical-align: top;\n",
       "    }\n",
       "\n",
       "    .dataframe thead th {\n",
       "        text-align: right;\n",
       "    }\n",
       "</style>\n",
       "<table border=\"1\" class=\"dataframe\">\n",
       "  <thead>\n",
       "    <tr style=\"text-align: right;\">\n",
       "      <th></th>\n",
       "      <th>user_id</th>\n",
       "      <th>movie_id</th>\n",
       "      <th>rating</th>\n",
       "      <th>timestamp</th>\n",
       "      <th>gender</th>\n",
       "      <th>age</th>\n",
       "      <th>occupation</th>\n",
       "      <th>zip</th>\n",
       "      <th>title</th>\n",
       "      <th>genres</th>\n",
       "    </tr>\n",
       "  </thead>\n",
       "  <tbody>\n",
       "    <tr>\n",
       "      <th>767605</th>\n",
       "      <td>4574</td>\n",
       "      <td>745</td>\n",
       "      <td>5</td>\n",
       "      <td>973314480</td>\n",
       "      <td>M</td>\n",
       "      <td>25-34</td>\n",
       "      <td>college/grad student</td>\n",
       "      <td>60614</td>\n",
       "      <td>Close Shave, A (1995)</td>\n",
       "      <td>Animation|Comedy|Thriller</td>\n",
       "    </tr>\n",
       "    <tr>\n",
       "      <th>947401</th>\n",
       "      <td>5720</td>\n",
       "      <td>2005</td>\n",
       "      <td>2</td>\n",
       "      <td>958578421</td>\n",
       "      <td>M</td>\n",
       "      <td>25-34</td>\n",
       "      <td>other</td>\n",
       "      <td>60610</td>\n",
       "      <td>Goonies, The (1985)</td>\n",
       "      <td>Adventure|Children's|Fantasy</td>\n",
       "    </tr>\n",
       "    <tr>\n",
       "      <th>536216</th>\n",
       "      <td>3308</td>\n",
       "      <td>1009</td>\n",
       "      <td>2</td>\n",
       "      <td>967975269</td>\n",
       "      <td>F</td>\n",
       "      <td>18-24</td>\n",
       "      <td>writer</td>\n",
       "      <td>15701-1348</td>\n",
       "      <td>Escape to Witch Mountain (1975)</td>\n",
       "      <td>Adventure|Children's|Fantasy</td>\n",
       "    </tr>\n",
       "    <tr>\n",
       "      <th>549530</th>\n",
       "      <td>3390</td>\n",
       "      <td>1955</td>\n",
       "      <td>4</td>\n",
       "      <td>967512147</td>\n",
       "      <td>F</td>\n",
       "      <td>45-49</td>\n",
       "      <td>writer</td>\n",
       "      <td>02476</td>\n",
       "      <td>Kramer Vs. Kramer (1979)</td>\n",
       "      <td>Drama</td>\n",
       "    </tr>\n",
       "    <tr>\n",
       "      <th>947506</th>\n",
       "      <td>5722</td>\n",
       "      <td>1809</td>\n",
       "      <td>4</td>\n",
       "      <td>958502194</td>\n",
       "      <td>M</td>\n",
       "      <td>25-34</td>\n",
       "      <td>writer</td>\n",
       "      <td>48103</td>\n",
       "      <td>Hana-bi (1997)</td>\n",
       "      <td>Comedy|Crime|Drama</td>\n",
       "    </tr>\n",
       "  </tbody>\n",
       "</table>\n",
       "</div>"
      ],
      "text/plain": [
       "        user_id  movie_id  rating  timestamp gender    age  \\\n",
       "767605     4574       745       5  973314480      M  25-34   \n",
       "947401     5720      2005       2  958578421      M  25-34   \n",
       "536216     3308      1009       2  967975269      F  18-24   \n",
       "549530     3390      1955       4  967512147      F  45-49   \n",
       "947506     5722      1809       4  958502194      M  25-34   \n",
       "\n",
       "                  occupation         zip                            title  \\\n",
       "767605  college/grad student       60614            Close Shave, A (1995)   \n",
       "947401                 other       60610              Goonies, The (1985)   \n",
       "536216                writer  15701-1348  Escape to Witch Mountain (1975)   \n",
       "549530                writer       02476         Kramer Vs. Kramer (1979)   \n",
       "947506                writer       48103                   Hana-bi (1997)   \n",
       "\n",
       "                              genres  \n",
       "767605     Animation|Comedy|Thriller  \n",
       "947401  Adventure|Children's|Fantasy  \n",
       "536216  Adventure|Children's|Fantasy  \n",
       "549530                         Drama  \n",
       "947506            Comedy|Crime|Drama  "
      ]
     },
     "execution_count": 24,
     "metadata": {},
     "output_type": "execute_result"
    }
   ],
   "source": [
    "df.sample(n=5)"
   ]
  },
  {
   "cell_type": "code",
   "execution_count": 25,
   "metadata": {},
   "outputs": [
    {
     "data": {
      "text/html": [
       "<div>\n",
       "<style scoped>\n",
       "    .dataframe tbody tr th:only-of-type {\n",
       "        vertical-align: middle;\n",
       "    }\n",
       "\n",
       "    .dataframe tbody tr th {\n",
       "        vertical-align: top;\n",
       "    }\n",
       "\n",
       "    .dataframe thead th {\n",
       "        text-align: right;\n",
       "    }\n",
       "</style>\n",
       "<table border=\"1\" class=\"dataframe\">\n",
       "  <thead>\n",
       "    <tr style=\"text-align: right;\">\n",
       "      <th></th>\n",
       "      <th>303339</th>\n",
       "      <th>316086</th>\n",
       "      <th>513405</th>\n",
       "    </tr>\n",
       "  </thead>\n",
       "  <tbody>\n",
       "    <tr>\n",
       "      <th>user_id</th>\n",
       "      <td>1802</td>\n",
       "      <td>1883</td>\n",
       "      <td>3167</td>\n",
       "    </tr>\n",
       "    <tr>\n",
       "      <th>movie_id</th>\n",
       "      <td>2901</td>\n",
       "      <td>1296</td>\n",
       "      <td>2997</td>\n",
       "    </tr>\n",
       "    <tr>\n",
       "      <th>rating</th>\n",
       "      <td>3</td>\n",
       "      <td>3</td>\n",
       "      <td>5</td>\n",
       "    </tr>\n",
       "    <tr>\n",
       "      <th>timestamp</th>\n",
       "      <td>974759310</td>\n",
       "      <td>974876148</td>\n",
       "      <td>968817145</td>\n",
       "    </tr>\n",
       "    <tr>\n",
       "      <th>gender</th>\n",
       "      <td>M</td>\n",
       "      <td>F</td>\n",
       "      <td>M</td>\n",
       "    </tr>\n",
       "    <tr>\n",
       "      <th>age</th>\n",
       "      <td>18-24</td>\n",
       "      <td>50-55</td>\n",
       "      <td>25-34</td>\n",
       "    </tr>\n",
       "    <tr>\n",
       "      <th>occupation</th>\n",
       "      <td>college/grad student</td>\n",
       "      <td>other</td>\n",
       "      <td>artist</td>\n",
       "    </tr>\n",
       "    <tr>\n",
       "      <th>zip</th>\n",
       "      <td>22903</td>\n",
       "      <td>94521</td>\n",
       "      <td>77056</td>\n",
       "    </tr>\n",
       "    <tr>\n",
       "      <th>title</th>\n",
       "      <td>Phantasm (1979)</td>\n",
       "      <td>Room with a View, A (1986)</td>\n",
       "      <td>Being John Malkovich (1999)</td>\n",
       "    </tr>\n",
       "    <tr>\n",
       "      <th>genres</th>\n",
       "      <td>Horror|Sci-Fi</td>\n",
       "      <td>Drama|Romance</td>\n",
       "      <td>Comedy</td>\n",
       "    </tr>\n",
       "  </tbody>\n",
       "</table>\n",
       "</div>"
      ],
      "text/plain": [
       "                          303339                      316086  \\\n",
       "user_id                     1802                        1883   \n",
       "movie_id                    2901                        1296   \n",
       "rating                         3                           3   \n",
       "timestamp              974759310                   974876148   \n",
       "gender                         M                           F   \n",
       "age                        18-24                       50-55   \n",
       "occupation  college/grad student                       other   \n",
       "zip                        22903                       94521   \n",
       "title            Phantasm (1979)  Room with a View, A (1986)   \n",
       "genres             Horror|Sci-Fi               Drama|Romance   \n",
       "\n",
       "                                 513405  \n",
       "user_id                            3167  \n",
       "movie_id                           2997  \n",
       "rating                                5  \n",
       "timestamp                     968817145  \n",
       "gender                                M  \n",
       "age                               25-34  \n",
       "occupation                       artist  \n",
       "zip                               77056  \n",
       "title       Being John Malkovich (1999)  \n",
       "genres                           Comedy  "
      ]
     },
     "execution_count": 25,
     "metadata": {},
     "output_type": "execute_result"
    }
   ],
   "source": [
    "df.sample(n=3).T"
   ]
  },
  {
   "cell_type": "markdown",
   "metadata": {},
   "source": [
    "### ZIP codes\n",
    "\n",
    "ZIP codes are useful, however, we are not interested in so much details: it would be more informative for us to know from which US states the users come from. This information is contained in the ZIP codes."
   ]
  },
  {
   "cell_type": "markdown",
   "metadata": {},
   "source": [
    "First check the type of 'zip' column in the current data frame: is it a number or a string?"
   ]
  },
  {
   "cell_type": "code",
   "execution_count": 26,
   "metadata": {},
   "outputs": [
    {
     "data": {
      "text/plain": [
       "user_id        int64\n",
       "movie_id       int64\n",
       "rating         int64\n",
       "timestamp      int64\n",
       "gender        object\n",
       "age           object\n",
       "occupation    object\n",
       "zip           object\n",
       "title         object\n",
       "genres        object\n",
       "dtype: object"
      ]
     },
     "execution_count": 26,
     "metadata": {},
     "output_type": "execute_result"
    }
   ],
   "source": [
    "df.dtypes"
   ]
  },
  {
   "cell_type": "code",
   "execution_count": 27,
   "metadata": {},
   "outputs": [
    {
     "name": "stdout",
     "output_type": "stream",
     "text": [
      "<class 'pandas.core.frame.DataFrame'>\n",
      "RangeIndex: 1000209 entries, 0 to 1000208\n",
      "Data columns (total 10 columns):\n",
      " #   Column      Non-Null Count    Dtype \n",
      "---  ------      --------------    ----- \n",
      " 0   user_id     1000209 non-null  int64 \n",
      " 1   movie_id    1000209 non-null  int64 \n",
      " 2   rating      1000209 non-null  int64 \n",
      " 3   timestamp   1000209 non-null  int64 \n",
      " 4   gender      1000209 non-null  object\n",
      " 5   age         1000209 non-null  object\n",
      " 6   occupation  1000209 non-null  object\n",
      " 7   zip         1000209 non-null  object\n",
      " 8   title       1000209 non-null  object\n",
      " 9   genres      1000209 non-null  object\n",
      "dtypes: int64(4), object(6)\n",
      "memory usage: 76.3+ MB\n"
     ]
    }
   ],
   "source": [
    "df.info()"
   ]
  },
  {
   "cell_type": "code",
   "execution_count": 28,
   "metadata": {},
   "outputs": [
    {
     "data": {
      "text/html": [
       "<div>\n",
       "<style scoped>\n",
       "    .dataframe tbody tr th:only-of-type {\n",
       "        vertical-align: middle;\n",
       "    }\n",
       "\n",
       "    .dataframe tbody tr th {\n",
       "        vertical-align: top;\n",
       "    }\n",
       "\n",
       "    .dataframe thead th {\n",
       "        text-align: right;\n",
       "    }\n",
       "</style>\n",
       "<table border=\"1\" class=\"dataframe\">\n",
       "  <thead>\n",
       "    <tr style=\"text-align: right;\">\n",
       "      <th></th>\n",
       "      <th>541610</th>\n",
       "      <th>21922</th>\n",
       "      <th>170057</th>\n",
       "    </tr>\n",
       "  </thead>\n",
       "  <tbody>\n",
       "    <tr>\n",
       "      <th>user_id</th>\n",
       "      <td>3333</td>\n",
       "      <td>161</td>\n",
       "      <td>1081</td>\n",
       "    </tr>\n",
       "    <tr>\n",
       "      <th>movie_id</th>\n",
       "      <td>2628</td>\n",
       "      <td>920</td>\n",
       "      <td>1556</td>\n",
       "    </tr>\n",
       "    <tr>\n",
       "      <th>rating</th>\n",
       "      <td>4</td>\n",
       "      <td>4</td>\n",
       "      <td>1</td>\n",
       "    </tr>\n",
       "    <tr>\n",
       "      <th>timestamp</th>\n",
       "      <td>967846796</td>\n",
       "      <td>977218485</td>\n",
       "      <td>974951045</td>\n",
       "    </tr>\n",
       "    <tr>\n",
       "      <th>gender</th>\n",
       "      <td>M</td>\n",
       "      <td>M</td>\n",
       "      <td>M</td>\n",
       "    </tr>\n",
       "    <tr>\n",
       "      <th>age</th>\n",
       "      <td>18-24</td>\n",
       "      <td>45-49</td>\n",
       "      <td>18-24</td>\n",
       "    </tr>\n",
       "    <tr>\n",
       "      <th>occupation</th>\n",
       "      <td>self-employed</td>\n",
       "      <td>self-employed</td>\n",
       "      <td>college/grad student</td>\n",
       "    </tr>\n",
       "    <tr>\n",
       "      <th>zip</th>\n",
       "      <td>29404-2205</td>\n",
       "      <td>98107-2117</td>\n",
       "      <td>68144-2410</td>\n",
       "    </tr>\n",
       "    <tr>\n",
       "      <th>title</th>\n",
       "      <td>Star Wars: Episode I - The Phantom Menace (1999)</td>\n",
       "      <td>Gone with the Wind (1939)</td>\n",
       "      <td>Speed 2: Cruise Control (1997)</td>\n",
       "    </tr>\n",
       "    <tr>\n",
       "      <th>genres</th>\n",
       "      <td>Action|Adventure|Fantasy|Sci-Fi</td>\n",
       "      <td>Drama|Romance|War</td>\n",
       "      <td>Action|Romance|Thriller</td>\n",
       "    </tr>\n",
       "  </tbody>\n",
       "</table>\n",
       "</div>"
      ],
      "text/plain": [
       "                                                      541610  \\\n",
       "user_id                                                 3333   \n",
       "movie_id                                                2628   \n",
       "rating                                                     4   \n",
       "timestamp                                          967846796   \n",
       "gender                                                     M   \n",
       "age                                                    18-24   \n",
       "occupation                                     self-employed   \n",
       "zip                                               29404-2205   \n",
       "title       Star Wars: Episode I - The Phantom Menace (1999)   \n",
       "genres                       Action|Adventure|Fantasy|Sci-Fi   \n",
       "\n",
       "                               21922                           170057  \n",
       "user_id                           161                            1081  \n",
       "movie_id                          920                            1556  \n",
       "rating                              4                               1  \n",
       "timestamp                   977218485                       974951045  \n",
       "gender                              M                               M  \n",
       "age                             45-49                           18-24  \n",
       "occupation              self-employed            college/grad student  \n",
       "zip                        98107-2117                      68144-2410  \n",
       "title       Gone with the Wind (1939)  Speed 2: Cruise Control (1997)  \n",
       "genres              Drama|Romance|War         Action|Romance|Thriller  "
      ]
     },
     "execution_count": 28,
     "metadata": {},
     "output_type": "execute_result"
    }
   ],
   "source": [
    "df.loc[df['zip'].str.len()!=5].sample(n=3).T"
   ]
  },
  {
   "cell_type": "code",
   "execution_count": 29,
   "metadata": {},
   "outputs": [
    {
     "data": {
      "text/plain": [
       "79"
      ]
     },
     "execution_count": 29,
     "metadata": {},
     "output_type": "execute_result"
    }
   ],
   "source": [
    "df.loc[df['zip'].str.len()!=5]['zip'].nunique()"
   ]
  },
  {
   "cell_type": "markdown",
   "metadata": {},
   "source": [
    "Read the CSV file into DataFrame object. "
   ]
  },
  {
   "cell_type": "code",
   "execution_count": 30,
   "metadata": {},
   "outputs": [],
   "source": [
    "#zip_path = os.path.expanduser('movies/zbp13totals.txt')\n",
    "zip_path = 'movies/zbp13totals.txt'\n",
    "zip_codes = pd.read_csv(zip_path)"
   ]
  },
  {
   "cell_type": "markdown",
   "metadata": {},
   "source": [
    "Alternative: specify format in read_csv."
   ]
  },
  {
   "cell_type": "code",
   "execution_count": 31,
   "metadata": {},
   "outputs": [],
   "source": [
    "zip_codes = pd.read_csv(zip_path, converters={\"zip\":str})"
   ]
  },
  {
   "cell_type": "markdown",
   "metadata": {},
   "source": [
    "Both files have a common column 'zip', so we can merge them. The only column that we need from zip_codes is 'stabbr' (state abbreviation)."
   ]
  },
  {
   "cell_type": "code",
   "execution_count": 32,
   "metadata": {},
   "outputs": [
    {
     "data": {
      "text/html": [
       "<div>\n",
       "<style scoped>\n",
       "    .dataframe tbody tr th:only-of-type {\n",
       "        vertical-align: middle;\n",
       "    }\n",
       "\n",
       "    .dataframe tbody tr th {\n",
       "        vertical-align: top;\n",
       "    }\n",
       "\n",
       "    .dataframe thead th {\n",
       "        text-align: right;\n",
       "    }\n",
       "</style>\n",
       "<table border=\"1\" class=\"dataframe\">\n",
       "  <thead>\n",
       "    <tr style=\"text-align: right;\">\n",
       "      <th></th>\n",
       "      <th>zip</th>\n",
       "      <th>name</th>\n",
       "      <th>empflag</th>\n",
       "      <th>emp_nf</th>\n",
       "      <th>emp</th>\n",
       "      <th>qp1_nf</th>\n",
       "      <th>qp1</th>\n",
       "      <th>ap_nf</th>\n",
       "      <th>ap</th>\n",
       "      <th>est</th>\n",
       "      <th>city</th>\n",
       "      <th>stabbr</th>\n",
       "      <th>cty_name</th>\n",
       "    </tr>\n",
       "  </thead>\n",
       "  <tbody>\n",
       "    <tr>\n",
       "      <th>28431</th>\n",
       "      <td>71426</td>\n",
       "      <td>FISHER, LA</td>\n",
       "      <td>A</td>\n",
       "      <td>S</td>\n",
       "      <td>0</td>\n",
       "      <td>S</td>\n",
       "      <td>0</td>\n",
       "      <td>H</td>\n",
       "      <td>501</td>\n",
       "      <td>3</td>\n",
       "      <td>FISHER</td>\n",
       "      <td>LA</td>\n",
       "      <td>SABINE</td>\n",
       "    </tr>\n",
       "    <tr>\n",
       "      <th>31934</th>\n",
       "      <td>79084</td>\n",
       "      <td>STRATFORD, TX</td>\n",
       "      <td>NaN</td>\n",
       "      <td>H</td>\n",
       "      <td>411</td>\n",
       "      <td>S</td>\n",
       "      <td>0</td>\n",
       "      <td>H</td>\n",
       "      <td>21153</td>\n",
       "      <td>55</td>\n",
       "      <td>STRATFORD</td>\n",
       "      <td>TX</td>\n",
       "      <td>SHERMAN</td>\n",
       "    </tr>\n",
       "    <tr>\n",
       "      <th>37515</th>\n",
       "      <td>97216</td>\n",
       "      <td>PORTLAND, OR</td>\n",
       "      <td>NaN</td>\n",
       "      <td>G</td>\n",
       "      <td>8104</td>\n",
       "      <td>H</td>\n",
       "      <td>67873</td>\n",
       "      <td>H</td>\n",
       "      <td>298308</td>\n",
       "      <td>489</td>\n",
       "      <td>PORTLAND</td>\n",
       "      <td>OR</td>\n",
       "      <td>MULTNOMAH</td>\n",
       "    </tr>\n",
       "    <tr>\n",
       "      <th>10246</th>\n",
       "      <td>28076</td>\n",
       "      <td>HENRIETTA, NC</td>\n",
       "      <td>C</td>\n",
       "      <td>S</td>\n",
       "      <td>0</td>\n",
       "      <td>S</td>\n",
       "      <td>0</td>\n",
       "      <td>H</td>\n",
       "      <td>1418</td>\n",
       "      <td>8</td>\n",
       "      <td>HENRIETTA</td>\n",
       "      <td>NC</td>\n",
       "      <td>RUTHERFORD</td>\n",
       "    </tr>\n",
       "    <tr>\n",
       "      <th>6972</th>\n",
       "      <td>19519</td>\n",
       "      <td>EARLVILLE, PA</td>\n",
       "      <td>A</td>\n",
       "      <td>S</td>\n",
       "      <td>0</td>\n",
       "      <td>H</td>\n",
       "      <td>82</td>\n",
       "      <td>H</td>\n",
       "      <td>299</td>\n",
       "      <td>3</td>\n",
       "      <td>EARLVILLE</td>\n",
       "      <td>PA</td>\n",
       "      <td>BERKS</td>\n",
       "    </tr>\n",
       "  </tbody>\n",
       "</table>\n",
       "</div>"
      ],
      "text/plain": [
       "         zip           name empflag emp_nf   emp qp1_nf    qp1 ap_nf      ap  \\\n",
       "28431  71426     FISHER, LA       A      S     0      S      0     H     501   \n",
       "31934  79084  STRATFORD, TX     NaN      H   411      S      0     H   21153   \n",
       "37515  97216   PORTLAND, OR     NaN      G  8104      H  67873     H  298308   \n",
       "10246  28076  HENRIETTA, NC       C      S     0      S      0     H    1418   \n",
       "6972   19519  EARLVILLE, PA       A      S     0      H     82     H     299   \n",
       "\n",
       "       est       city stabbr    cty_name  \n",
       "28431    3     FISHER     LA      SABINE  \n",
       "31934   55  STRATFORD     TX     SHERMAN  \n",
       "37515  489   PORTLAND     OR   MULTNOMAH  \n",
       "10246    8  HENRIETTA     NC  RUTHERFORD  \n",
       "6972     3  EARLVILLE     PA       BERKS  "
      ]
     },
     "execution_count": 32,
     "metadata": {},
     "output_type": "execute_result"
    }
   ],
   "source": [
    "zip_codes.sample(n=5)"
   ]
  },
  {
   "cell_type": "markdown",
   "metadata": {},
   "source": [
    "### More on merging data\n",
    "\n",
    "The *how* argument to merge specifies how to determine which keys are to be included in the resulting table. Here is a summary of the how options and their SQL equivalent names:\n",
    "\n",
    "Merge method | SQL Join Name    | Description\n",
    "-------------|------------------|--------------\n",
    "left         |LEFT OUTER JOIN   | Use keys from left frame only\n",
    "right        |RIGHT OUTER JOIN  | Use keys from right frame only\n",
    "outer        |FULL OUTER JOIN   | Use union of keys from both frames\n",
    "inner        |INNER JOIN        | Use intersection of keys from both frames\n",
    "\n",
    "Read more: [Merge, join, and concatenate](http://pandas.pydata.org/pandas-docs/stable/merging.html).\n",
    "\n",
    "Nice vizualization of various types of joins (taken from Ravjot Singh's <a href=\"https://medium.com/swlh/merging-dataframes-with-pandas-pd-merge-7764c7e2d46d\">post</a>) at medium.com. <img src=\"https://miro.medium.com/max/700/1*9eH1_7VbTZPZd9jBiGIyNA.png\">"
   ]
  },
  {
   "cell_type": "code",
   "execution_count": 33,
   "metadata": {},
   "outputs": [
    {
     "data": {
      "text/html": [
       "<div>\n",
       "<style scoped>\n",
       "    .dataframe tbody tr th:only-of-type {\n",
       "        vertical-align: middle;\n",
       "    }\n",
       "\n",
       "    .dataframe tbody tr th {\n",
       "        vertical-align: top;\n",
       "    }\n",
       "\n",
       "    .dataframe thead th {\n",
       "        text-align: right;\n",
       "    }\n",
       "</style>\n",
       "<table border=\"1\" class=\"dataframe\">\n",
       "  <thead>\n",
       "    <tr style=\"text-align: right;\">\n",
       "      <th></th>\n",
       "      <th>zip</th>\n",
       "      <th>name</th>\n",
       "      <th>empflag</th>\n",
       "      <th>emp_nf</th>\n",
       "      <th>emp</th>\n",
       "      <th>qp1_nf</th>\n",
       "      <th>qp1</th>\n",
       "      <th>ap_nf</th>\n",
       "      <th>ap</th>\n",
       "      <th>est</th>\n",
       "      <th>city</th>\n",
       "      <th>stabbr</th>\n",
       "      <th>cty_name</th>\n",
       "    </tr>\n",
       "  </thead>\n",
       "  <tbody>\n",
       "    <tr>\n",
       "      <th>0</th>\n",
       "      <td>00501</td>\n",
       "      <td>HOLTSVILLE, NY</td>\n",
       "      <td>A</td>\n",
       "      <td>D</td>\n",
       "      <td>0</td>\n",
       "      <td>D</td>\n",
       "      <td>0</td>\n",
       "      <td>D</td>\n",
       "      <td>0</td>\n",
       "      <td>2</td>\n",
       "      <td>HOLTSVILLE</td>\n",
       "      <td>NY</td>\n",
       "      <td>SUFFOLK</td>\n",
       "    </tr>\n",
       "  </tbody>\n",
       "</table>\n",
       "</div>"
      ],
      "text/plain": [
       "     zip            name empflag emp_nf  emp qp1_nf  qp1 ap_nf  ap  est  \\\n",
       "0  00501  HOLTSVILLE, NY       A      D    0      D    0     D   0    2   \n",
       "\n",
       "         city stabbr cty_name  \n",
       "0  HOLTSVILLE     NY  SUFFOLK  "
      ]
     },
     "execution_count": 33,
     "metadata": {},
     "output_type": "execute_result"
    }
   ],
   "source": [
    "zip_codes.head(1)"
   ]
  },
  {
   "cell_type": "code",
   "execution_count": 34,
   "metadata": {},
   "outputs": [
    {
     "data": {
      "text/html": [
       "<div>\n",
       "<style scoped>\n",
       "    .dataframe tbody tr th:only-of-type {\n",
       "        vertical-align: middle;\n",
       "    }\n",
       "\n",
       "    .dataframe tbody tr th {\n",
       "        vertical-align: top;\n",
       "    }\n",
       "\n",
       "    .dataframe thead th {\n",
       "        text-align: right;\n",
       "    }\n",
       "</style>\n",
       "<table border=\"1\" class=\"dataframe\">\n",
       "  <thead>\n",
       "    <tr style=\"text-align: right;\">\n",
       "      <th></th>\n",
       "      <th>user_id</th>\n",
       "      <th>movie_id</th>\n",
       "      <th>rating</th>\n",
       "      <th>timestamp</th>\n",
       "      <th>gender</th>\n",
       "      <th>age</th>\n",
       "      <th>occupation</th>\n",
       "      <th>zip</th>\n",
       "      <th>title</th>\n",
       "      <th>genres</th>\n",
       "    </tr>\n",
       "  </thead>\n",
       "  <tbody>\n",
       "    <tr>\n",
       "      <th>0</th>\n",
       "      <td>1</td>\n",
       "      <td>1193</td>\n",
       "      <td>5</td>\n",
       "      <td>978300760</td>\n",
       "      <td>F</td>\n",
       "      <td>Under 18</td>\n",
       "      <td>K-12 student</td>\n",
       "      <td>48067</td>\n",
       "      <td>One Flew Over the Cuckoo's Nest (1975)</td>\n",
       "      <td>Drama</td>\n",
       "    </tr>\n",
       "  </tbody>\n",
       "</table>\n",
       "</div>"
      ],
      "text/plain": [
       "   user_id  movie_id  rating  timestamp gender       age    occupation    zip  \\\n",
       "0        1      1193       5  978300760      F  Under 18  K-12 student  48067   \n",
       "\n",
       "                                    title genres  \n",
       "0  One Flew Over the Cuckoo's Nest (1975)  Drama  "
      ]
     },
     "execution_count": 34,
     "metadata": {},
     "output_type": "execute_result"
    }
   ],
   "source": [
    "df.head(1)"
   ]
  },
  {
   "cell_type": "code",
   "execution_count": 35,
   "metadata": {},
   "outputs": [],
   "source": [
    "# merge data with zip\n",
    "df = pd.merge(df, zip_codes[['zip', 'stabbr']], on='zip', how='left')"
   ]
  },
  {
   "cell_type": "code",
   "execution_count": 36,
   "metadata": {},
   "outputs": [
    {
     "data": {
      "text/html": [
       "<div>\n",
       "<style scoped>\n",
       "    .dataframe tbody tr th:only-of-type {\n",
       "        vertical-align: middle;\n",
       "    }\n",
       "\n",
       "    .dataframe tbody tr th {\n",
       "        vertical-align: top;\n",
       "    }\n",
       "\n",
       "    .dataframe thead th {\n",
       "        text-align: right;\n",
       "    }\n",
       "</style>\n",
       "<table border=\"1\" class=\"dataframe\">\n",
       "  <thead>\n",
       "    <tr style=\"text-align: right;\">\n",
       "      <th></th>\n",
       "      <th>67984</th>\n",
       "      <th>211504</th>\n",
       "      <th>314038</th>\n",
       "    </tr>\n",
       "  </thead>\n",
       "  <tbody>\n",
       "    <tr>\n",
       "      <th>user_id</th>\n",
       "      <td>456</td>\n",
       "      <td>1285</td>\n",
       "      <td>1875</td>\n",
       "    </tr>\n",
       "    <tr>\n",
       "      <th>movie_id</th>\n",
       "      <td>3070</td>\n",
       "      <td>1080</td>\n",
       "      <td>2490</td>\n",
       "    </tr>\n",
       "    <tr>\n",
       "      <th>rating</th>\n",
       "      <td>4</td>\n",
       "      <td>5</td>\n",
       "      <td>3</td>\n",
       "    </tr>\n",
       "    <tr>\n",
       "      <th>timestamp</th>\n",
       "      <td>976300995</td>\n",
       "      <td>976320009</td>\n",
       "      <td>974701077</td>\n",
       "    </tr>\n",
       "    <tr>\n",
       "      <th>gender</th>\n",
       "      <td>M</td>\n",
       "      <td>M</td>\n",
       "      <td>M</td>\n",
       "    </tr>\n",
       "    <tr>\n",
       "      <th>age</th>\n",
       "      <td>35-44</td>\n",
       "      <td>35-44</td>\n",
       "      <td>35-44</td>\n",
       "    </tr>\n",
       "    <tr>\n",
       "      <th>occupation</th>\n",
       "      <td>other</td>\n",
       "      <td>college/grad student</td>\n",
       "      <td>programmer</td>\n",
       "    </tr>\n",
       "    <tr>\n",
       "      <th>zip</th>\n",
       "      <td>55105</td>\n",
       "      <td>98125</td>\n",
       "      <td>94107</td>\n",
       "    </tr>\n",
       "    <tr>\n",
       "      <th>title</th>\n",
       "      <td>Adventures of Buckaroo Bonzai Across the 8th D...</td>\n",
       "      <td>Monty Python's Life of Brian (1979)</td>\n",
       "      <td>Payback (1999)</td>\n",
       "    </tr>\n",
       "    <tr>\n",
       "      <th>genres</th>\n",
       "      <td>Adventure|Comedy|Sci-Fi</td>\n",
       "      <td>Comedy</td>\n",
       "      <td>Action|Thriller</td>\n",
       "    </tr>\n",
       "    <tr>\n",
       "      <th>stabbr</th>\n",
       "      <td>MN</td>\n",
       "      <td>WA</td>\n",
       "      <td>CA</td>\n",
       "    </tr>\n",
       "  </tbody>\n",
       "</table>\n",
       "</div>"
      ],
      "text/plain": [
       "                                                       67984   \\\n",
       "user_id                                                   456   \n",
       "movie_id                                                 3070   \n",
       "rating                                                      4   \n",
       "timestamp                                           976300995   \n",
       "gender                                                      M   \n",
       "age                                                     35-44   \n",
       "occupation                                              other   \n",
       "zip                                                     55105   \n",
       "title       Adventures of Buckaroo Bonzai Across the 8th D...   \n",
       "genres                                Adventure|Comedy|Sci-Fi   \n",
       "stabbr                                                     MN   \n",
       "\n",
       "                                         211504           314038  \n",
       "user_id                                    1285             1875  \n",
       "movie_id                                   1080             2490  \n",
       "rating                                        5                3  \n",
       "timestamp                             976320009        974701077  \n",
       "gender                                        M                M  \n",
       "age                                       35-44            35-44  \n",
       "occupation                 college/grad student       programmer  \n",
       "zip                                       98125            94107  \n",
       "title       Monty Python's Life of Brian (1979)   Payback (1999)  \n",
       "genres                                   Comedy  Action|Thriller  \n",
       "stabbr                                       WA               CA  "
      ]
     },
     "execution_count": 36,
     "metadata": {},
     "output_type": "execute_result"
    }
   ],
   "source": [
    "df.sample(n=3).T"
   ]
  },
  {
   "cell_type": "code",
   "execution_count": 37,
   "metadata": {},
   "outputs": [
    {
     "data": {
      "text/plain": [
       "np.int64(0)"
      ]
     },
     "execution_count": 37,
     "metadata": {},
     "output_type": "execute_result"
    }
   ],
   "source": [
    "df['zip'].isna().sum()"
   ]
  },
  {
   "cell_type": "code",
   "execution_count": 38,
   "metadata": {},
   "outputs": [],
   "source": [
    "# Let's rename 'stabbr' to 'state'.\n",
    "df = df.rename(columns={'stabbr':'state'})"
   ]
  },
  {
   "cell_type": "code",
   "execution_count": 39,
   "metadata": {},
   "outputs": [
    {
     "data": {
      "text/html": [
       "<div>\n",
       "<style scoped>\n",
       "    .dataframe tbody tr th:only-of-type {\n",
       "        vertical-align: middle;\n",
       "    }\n",
       "\n",
       "    .dataframe tbody tr th {\n",
       "        vertical-align: top;\n",
       "    }\n",
       "\n",
       "    .dataframe thead th {\n",
       "        text-align: right;\n",
       "    }\n",
       "</style>\n",
       "<table border=\"1\" class=\"dataframe\">\n",
       "  <thead>\n",
       "    <tr style=\"text-align: right;\">\n",
       "      <th></th>\n",
       "      <th>526614</th>\n",
       "      <th>108961</th>\n",
       "      <th>713329</th>\n",
       "    </tr>\n",
       "  </thead>\n",
       "  <tbody>\n",
       "    <tr>\n",
       "      <th>user_id</th>\n",
       "      <td>3259</td>\n",
       "      <td>713</td>\n",
       "      <td>4277</td>\n",
       "    </tr>\n",
       "    <tr>\n",
       "      <th>movie_id</th>\n",
       "      <td>2093</td>\n",
       "      <td>1136</td>\n",
       "      <td>3557</td>\n",
       "    </tr>\n",
       "    <tr>\n",
       "      <th>rating</th>\n",
       "      <td>2</td>\n",
       "      <td>4</td>\n",
       "      <td>4</td>\n",
       "    </tr>\n",
       "    <tr>\n",
       "      <th>timestamp</th>\n",
       "      <td>968271477</td>\n",
       "      <td>975535490</td>\n",
       "      <td>965387846</td>\n",
       "    </tr>\n",
       "    <tr>\n",
       "      <th>gender</th>\n",
       "      <td>F</td>\n",
       "      <td>M</td>\n",
       "      <td>M</td>\n",
       "    </tr>\n",
       "    <tr>\n",
       "      <th>age</th>\n",
       "      <td>18-24</td>\n",
       "      <td>35-44</td>\n",
       "      <td>35-44</td>\n",
       "    </tr>\n",
       "    <tr>\n",
       "      <th>occupation</th>\n",
       "      <td>college/grad student</td>\n",
       "      <td>executive/managerial</td>\n",
       "      <td>self-employed</td>\n",
       "    </tr>\n",
       "    <tr>\n",
       "      <th>zip</th>\n",
       "      <td>95616</td>\n",
       "      <td>79912</td>\n",
       "      <td>98133</td>\n",
       "    </tr>\n",
       "    <tr>\n",
       "      <th>title</th>\n",
       "      <td>Return to Oz (1985)</td>\n",
       "      <td>Monty Python and the Holy Grail (1974)</td>\n",
       "      <td>Jennifer 8 (1992)</td>\n",
       "    </tr>\n",
       "    <tr>\n",
       "      <th>genres</th>\n",
       "      <td>Adventure|Children's|Fantasy|Sci-Fi</td>\n",
       "      <td>Comedy</td>\n",
       "      <td>Thriller</td>\n",
       "    </tr>\n",
       "    <tr>\n",
       "      <th>state</th>\n",
       "      <td>CA</td>\n",
       "      <td>TX</td>\n",
       "      <td>WA</td>\n",
       "    </tr>\n",
       "  </tbody>\n",
       "</table>\n",
       "</div>"
      ],
      "text/plain": [
       "                                         526614  \\\n",
       "user_id                                    3259   \n",
       "movie_id                                   2093   \n",
       "rating                                        2   \n",
       "timestamp                             968271477   \n",
       "gender                                        F   \n",
       "age                                       18-24   \n",
       "occupation                 college/grad student   \n",
       "zip                                       95616   \n",
       "title                       Return to Oz (1985)   \n",
       "genres      Adventure|Children's|Fantasy|Sci-Fi   \n",
       "state                                        CA   \n",
       "\n",
       "                                            108961             713329  \n",
       "user_id                                        713               4277  \n",
       "movie_id                                      1136               3557  \n",
       "rating                                           4                  4  \n",
       "timestamp                                975535490          965387846  \n",
       "gender                                           M                  M  \n",
       "age                                          35-44              35-44  \n",
       "occupation                    executive/managerial      self-employed  \n",
       "zip                                          79912              98133  \n",
       "title       Monty Python and the Holy Grail (1974)  Jennifer 8 (1992)  \n",
       "genres                                      Comedy           Thriller  \n",
       "state                                           TX                 WA  "
      ]
     },
     "execution_count": 39,
     "metadata": {},
     "output_type": "execute_result"
    }
   ],
   "source": [
    "df.sample(n=3).T"
   ]
  },
  {
   "cell_type": "markdown",
   "metadata": {},
   "source": [
    "### Handling Missing Data\n",
    "\n",
    "Missing data is common in most data analysis applications. In pandas, missing data is represented by the floating point value `NaN`.\n",
    "\n",
    "One of the goals of pandas was to make working with missing data as painless as possible. The following table briefly introduces the most common methods for this purpose.\n",
    "\n",
    "\n",
    "Command      | Description\n",
    "-------------|--------------\n",
    "dropna       | Filter axis labels based on whether values for each label have missing data, with varying thresholds for how much missing data to tolerate.\n",
    "fillna       | Fill in missing data with some value or using an interpolation method such as 'ffill' or 'bfill'.\n",
    "isnull       | Return like-type object containing boolean values indicating which values are missing.\n",
    "\n",
    "Read more: [Working with missing data](https://pandas.pydata.org/pandas-docs/stable/user_guide/missing_data.html)"
   ]
  },
  {
   "cell_type": "markdown",
   "metadata": {},
   "source": [
    "In our case, we will simply remove the rows with false ZIP code."
   ]
  },
  {
   "cell_type": "code",
   "execution_count": 40,
   "metadata": {},
   "outputs": [
    {
     "data": {
      "text/plain": [
       "np.int64(27031)"
      ]
     },
     "execution_count": 40,
     "metadata": {},
     "output_type": "execute_result"
    }
   ],
   "source": [
    "# Are there any missing values in state variable?\n",
    "df['state'].isna().sum()"
   ]
  },
  {
   "cell_type": "code",
   "execution_count": 41,
   "metadata": {},
   "outputs": [
    {
     "data": {
      "text/html": [
       "<div>\n",
       "<style scoped>\n",
       "    .dataframe tbody tr th:only-of-type {\n",
       "        vertical-align: middle;\n",
       "    }\n",
       "\n",
       "    .dataframe tbody tr th {\n",
       "        vertical-align: top;\n",
       "    }\n",
       "\n",
       "    .dataframe thead th {\n",
       "        text-align: right;\n",
       "    }\n",
       "</style>\n",
       "<table border=\"1\" class=\"dataframe\">\n",
       "  <thead>\n",
       "    <tr style=\"text-align: right;\">\n",
       "      <th></th>\n",
       "      <th>7379</th>\n",
       "      <th>7380</th>\n",
       "      <th>7381</th>\n",
       "    </tr>\n",
       "  </thead>\n",
       "  <tbody>\n",
       "    <tr>\n",
       "      <th>user_id</th>\n",
       "      <td>53</td>\n",
       "      <td>53</td>\n",
       "      <td>53</td>\n",
       "    </tr>\n",
       "    <tr>\n",
       "      <th>movie_id</th>\n",
       "      <td>2987</td>\n",
       "      <td>1248</td>\n",
       "      <td>1175</td>\n",
       "    </tr>\n",
       "    <tr>\n",
       "      <th>rating</th>\n",
       "      <td>5</td>\n",
       "      <td>5</td>\n",
       "      <td>5</td>\n",
       "    </tr>\n",
       "    <tr>\n",
       "      <th>timestamp</th>\n",
       "      <td>977949703</td>\n",
       "      <td>977952986</td>\n",
       "      <td>977975954</td>\n",
       "    </tr>\n",
       "    <tr>\n",
       "      <th>gender</th>\n",
       "      <td>M</td>\n",
       "      <td>M</td>\n",
       "      <td>M</td>\n",
       "    </tr>\n",
       "    <tr>\n",
       "      <th>age</th>\n",
       "      <td>25-34</td>\n",
       "      <td>25-34</td>\n",
       "      <td>25-34</td>\n",
       "    </tr>\n",
       "    <tr>\n",
       "      <th>occupation</th>\n",
       "      <td>other</td>\n",
       "      <td>other</td>\n",
       "      <td>other</td>\n",
       "    </tr>\n",
       "    <tr>\n",
       "      <th>zip</th>\n",
       "      <td>96931</td>\n",
       "      <td>96931</td>\n",
       "      <td>96931</td>\n",
       "    </tr>\n",
       "    <tr>\n",
       "      <th>title</th>\n",
       "      <td>Who Framed Roger Rabbit? (1988)</td>\n",
       "      <td>Touch of Evil (1958)</td>\n",
       "      <td>Delicatessen (1991)</td>\n",
       "    </tr>\n",
       "    <tr>\n",
       "      <th>genres</th>\n",
       "      <td>Adventure|Animation|Film-Noir</td>\n",
       "      <td>Crime|Film-Noir|Thriller</td>\n",
       "      <td>Comedy|Sci-Fi</td>\n",
       "    </tr>\n",
       "    <tr>\n",
       "      <th>state</th>\n",
       "      <td>NaN</td>\n",
       "      <td>NaN</td>\n",
       "      <td>NaN</td>\n",
       "    </tr>\n",
       "  </tbody>\n",
       "</table>\n",
       "</div>"
      ],
      "text/plain": [
       "                                       7379                      7380  \\\n",
       "user_id                                  53                        53   \n",
       "movie_id                               2987                      1248   \n",
       "rating                                    5                         5   \n",
       "timestamp                         977949703                 977952986   \n",
       "gender                                    M                         M   \n",
       "age                                   25-34                     25-34   \n",
       "occupation                            other                     other   \n",
       "zip                                   96931                     96931   \n",
       "title       Who Framed Roger Rabbit? (1988)      Touch of Evil (1958)   \n",
       "genres        Adventure|Animation|Film-Noir  Crime|Film-Noir|Thriller   \n",
       "state                                   NaN                       NaN   \n",
       "\n",
       "                           7381  \n",
       "user_id                      53  \n",
       "movie_id                   1175  \n",
       "rating                        5  \n",
       "timestamp             977975954  \n",
       "gender                        M  \n",
       "age                       25-34  \n",
       "occupation                other  \n",
       "zip                       96931  \n",
       "title       Delicatessen (1991)  \n",
       "genres            Comedy|Sci-Fi  \n",
       "state                       NaN  "
      ]
     },
     "execution_count": 41,
     "metadata": {},
     "output_type": "execute_result"
    }
   ],
   "source": [
    "# Display some of such rows.\n",
    "df.loc[df['state'].isna()].head(3).T"
   ]
  },
  {
   "cell_type": "code",
   "execution_count": 42,
   "metadata": {},
   "outputs": [
    {
     "data": {
      "text/plain": [
       "(27031, 11)"
      ]
     },
     "execution_count": 42,
     "metadata": {},
     "output_type": "execute_result"
    }
   ],
   "source": [
    "df.loc[df['state'].isna()].shape"
   ]
  },
  {
   "cell_type": "code",
   "execution_count": 43,
   "metadata": {},
   "outputs": [],
   "source": [
    "# Drop the rows with missing values."
   ]
  },
  {
   "cell_type": "code",
   "execution_count": 44,
   "metadata": {},
   "outputs": [],
   "source": [
    "df = df.dropna()"
   ]
  },
  {
   "cell_type": "markdown",
   "metadata": {},
   "source": [
    "The data frame now only contains rows with correctly written ZIP codes."
   ]
  },
  {
   "cell_type": "code",
   "execution_count": 45,
   "metadata": {},
   "outputs": [
    {
     "name": "stdout",
     "output_type": "stream",
     "text": [
      "<class 'pandas.core.frame.DataFrame'>\n",
      "Index: 973178 entries, 0 to 1000208\n",
      "Data columns (total 11 columns):\n",
      " #   Column      Non-Null Count   Dtype \n",
      "---  ------      --------------   ----- \n",
      " 0   user_id     973178 non-null  int64 \n",
      " 1   movie_id    973178 non-null  int64 \n",
      " 2   rating      973178 non-null  int64 \n",
      " 3   timestamp   973178 non-null  int64 \n",
      " 4   gender      973178 non-null  object\n",
      " 5   age         973178 non-null  object\n",
      " 6   occupation  973178 non-null  object\n",
      " 7   zip         973178 non-null  object\n",
      " 8   title       973178 non-null  object\n",
      " 9   genres      973178 non-null  object\n",
      " 10  state       973178 non-null  object\n",
      "dtypes: int64(4), object(7)\n",
      "memory usage: 89.1+ MB\n"
     ]
    }
   ],
   "source": [
    "df.info()"
   ]
  },
  {
   "cell_type": "markdown",
   "metadata": {},
   "source": [
    "The index is not correct now, as we dropped some rows. We have to reset it."
   ]
  },
  {
   "cell_type": "code",
   "execution_count": 46,
   "metadata": {},
   "outputs": [
    {
     "data": {
      "text/html": [
       "<div>\n",
       "<style scoped>\n",
       "    .dataframe tbody tr th:only-of-type {\n",
       "        vertical-align: middle;\n",
       "    }\n",
       "\n",
       "    .dataframe tbody tr th {\n",
       "        vertical-align: top;\n",
       "    }\n",
       "\n",
       "    .dataframe thead th {\n",
       "        text-align: right;\n",
       "    }\n",
       "</style>\n",
       "<table border=\"1\" class=\"dataframe\">\n",
       "  <thead>\n",
       "    <tr style=\"text-align: right;\">\n",
       "      <th></th>\n",
       "      <th>1000206</th>\n",
       "      <th>1000207</th>\n",
       "      <th>1000208</th>\n",
       "    </tr>\n",
       "  </thead>\n",
       "  <tbody>\n",
       "    <tr>\n",
       "      <th>user_id</th>\n",
       "      <td>6040</td>\n",
       "      <td>6040</td>\n",
       "      <td>6040</td>\n",
       "    </tr>\n",
       "    <tr>\n",
       "      <th>movie_id</th>\n",
       "      <td>562</td>\n",
       "      <td>1096</td>\n",
       "      <td>1097</td>\n",
       "    </tr>\n",
       "    <tr>\n",
       "      <th>rating</th>\n",
       "      <td>5</td>\n",
       "      <td>4</td>\n",
       "      <td>4</td>\n",
       "    </tr>\n",
       "    <tr>\n",
       "      <th>timestamp</th>\n",
       "      <td>956704746</td>\n",
       "      <td>956715648</td>\n",
       "      <td>956715569</td>\n",
       "    </tr>\n",
       "    <tr>\n",
       "      <th>gender</th>\n",
       "      <td>M</td>\n",
       "      <td>M</td>\n",
       "      <td>M</td>\n",
       "    </tr>\n",
       "    <tr>\n",
       "      <th>age</th>\n",
       "      <td>25-34</td>\n",
       "      <td>25-34</td>\n",
       "      <td>25-34</td>\n",
       "    </tr>\n",
       "    <tr>\n",
       "      <th>occupation</th>\n",
       "      <td>doctor/health care</td>\n",
       "      <td>doctor/health care</td>\n",
       "      <td>doctor/health care</td>\n",
       "    </tr>\n",
       "    <tr>\n",
       "      <th>zip</th>\n",
       "      <td>11106</td>\n",
       "      <td>11106</td>\n",
       "      <td>11106</td>\n",
       "    </tr>\n",
       "    <tr>\n",
       "      <th>title</th>\n",
       "      <td>Welcome to the Dollhouse (1995)</td>\n",
       "      <td>Sophie's Choice (1982)</td>\n",
       "      <td>E.T. the Extra-Terrestrial (1982)</td>\n",
       "    </tr>\n",
       "    <tr>\n",
       "      <th>genres</th>\n",
       "      <td>Comedy|Drama</td>\n",
       "      <td>Drama</td>\n",
       "      <td>Children's|Drama|Fantasy|Sci-Fi</td>\n",
       "    </tr>\n",
       "    <tr>\n",
       "      <th>state</th>\n",
       "      <td>NY</td>\n",
       "      <td>NY</td>\n",
       "      <td>NY</td>\n",
       "    </tr>\n",
       "  </tbody>\n",
       "</table>\n",
       "</div>"
      ],
      "text/plain": [
       "                                    1000206                 1000207  \\\n",
       "user_id                                6040                    6040   \n",
       "movie_id                                562                    1096   \n",
       "rating                                    5                       4   \n",
       "timestamp                         956704746               956715648   \n",
       "gender                                    M                       M   \n",
       "age                                   25-34                   25-34   \n",
       "occupation               doctor/health care      doctor/health care   \n",
       "zip                                   11106                   11106   \n",
       "title       Welcome to the Dollhouse (1995)  Sophie's Choice (1982)   \n",
       "genres                         Comedy|Drama                   Drama   \n",
       "state                                    NY                      NY   \n",
       "\n",
       "                                      1000208  \n",
       "user_id                                  6040  \n",
       "movie_id                                 1097  \n",
       "rating                                      4  \n",
       "timestamp                           956715569  \n",
       "gender                                      M  \n",
       "age                                     25-34  \n",
       "occupation                 doctor/health care  \n",
       "zip                                     11106  \n",
       "title       E.T. the Extra-Terrestrial (1982)  \n",
       "genres        Children's|Drama|Fantasy|Sci-Fi  \n",
       "state                                      NY  "
      ]
     },
     "execution_count": 46,
     "metadata": {},
     "output_type": "execute_result"
    }
   ],
   "source": [
    "df.tail(3).T"
   ]
  },
  {
   "cell_type": "code",
   "execution_count": 47,
   "metadata": {},
   "outputs": [],
   "source": [
    "df = df.reset_index(drop=True)"
   ]
  },
  {
   "cell_type": "markdown",
   "metadata": {},
   "source": [
    "The index is correct now."
   ]
  },
  {
   "cell_type": "markdown",
   "metadata": {},
   "source": [
    "<h3>Transforming Data Using a Function or Mapping</h3>\n",
    "\n",
    "For many data sets, you may wish to perform some transformation based on the values in an array, Series, or column in a DataFrame.\n",
    "\n",
    "In the present case, we want to make the following transformations:\n",
    "<ul>\n",
    "    <li>Convert epoch times in 'timestamp' column into a readable (and usable) format.</li>\n",
    "    <li>Convert each letter in 'genres' column to lower case.</li>\n",
    "</ul>"
   ]
  },
  {
   "cell_type": "markdown",
   "metadata": {},
   "source": [
    "Function `pd.to_datetime` is used to convert values into datetime object. Function contains many arguments used for date formatting, but we can simply call it with default values:"
   ]
  },
  {
   "cell_type": "code",
   "execution_count": 48,
   "metadata": {},
   "outputs": [],
   "source": [
    "df['timestamp'] = pd.to_datetime(df['timestamp'], unit='s')"
   ]
  },
  {
   "cell_type": "code",
   "execution_count": 49,
   "metadata": {},
   "outputs": [
    {
     "data": {
      "text/html": [
       "<div>\n",
       "<style scoped>\n",
       "    .dataframe tbody tr th:only-of-type {\n",
       "        vertical-align: middle;\n",
       "    }\n",
       "\n",
       "    .dataframe tbody tr th {\n",
       "        vertical-align: top;\n",
       "    }\n",
       "\n",
       "    .dataframe thead th {\n",
       "        text-align: right;\n",
       "    }\n",
       "</style>\n",
       "<table border=\"1\" class=\"dataframe\">\n",
       "  <thead>\n",
       "    <tr style=\"text-align: right;\">\n",
       "      <th></th>\n",
       "      <th>0</th>\n",
       "      <th>1</th>\n",
       "      <th>2</th>\n",
       "    </tr>\n",
       "  </thead>\n",
       "  <tbody>\n",
       "    <tr>\n",
       "      <th>user_id</th>\n",
       "      <td>1</td>\n",
       "      <td>1</td>\n",
       "      <td>1</td>\n",
       "    </tr>\n",
       "    <tr>\n",
       "      <th>movie_id</th>\n",
       "      <td>1193</td>\n",
       "      <td>661</td>\n",
       "      <td>914</td>\n",
       "    </tr>\n",
       "    <tr>\n",
       "      <th>rating</th>\n",
       "      <td>5</td>\n",
       "      <td>3</td>\n",
       "      <td>3</td>\n",
       "    </tr>\n",
       "    <tr>\n",
       "      <th>timestamp</th>\n",
       "      <td>2000-12-31 22:12:40</td>\n",
       "      <td>2000-12-31 22:35:09</td>\n",
       "      <td>2000-12-31 22:32:48</td>\n",
       "    </tr>\n",
       "    <tr>\n",
       "      <th>gender</th>\n",
       "      <td>F</td>\n",
       "      <td>F</td>\n",
       "      <td>F</td>\n",
       "    </tr>\n",
       "    <tr>\n",
       "      <th>age</th>\n",
       "      <td>Under 18</td>\n",
       "      <td>Under 18</td>\n",
       "      <td>Under 18</td>\n",
       "    </tr>\n",
       "    <tr>\n",
       "      <th>occupation</th>\n",
       "      <td>K-12 student</td>\n",
       "      <td>K-12 student</td>\n",
       "      <td>K-12 student</td>\n",
       "    </tr>\n",
       "    <tr>\n",
       "      <th>zip</th>\n",
       "      <td>48067</td>\n",
       "      <td>48067</td>\n",
       "      <td>48067</td>\n",
       "    </tr>\n",
       "    <tr>\n",
       "      <th>title</th>\n",
       "      <td>One Flew Over the Cuckoo's Nest (1975)</td>\n",
       "      <td>James and the Giant Peach (1996)</td>\n",
       "      <td>My Fair Lady (1964)</td>\n",
       "    </tr>\n",
       "    <tr>\n",
       "      <th>genres</th>\n",
       "      <td>Drama</td>\n",
       "      <td>Animation|Children's|Musical</td>\n",
       "      <td>Musical|Romance</td>\n",
       "    </tr>\n",
       "    <tr>\n",
       "      <th>state</th>\n",
       "      <td>MI</td>\n",
       "      <td>MI</td>\n",
       "      <td>MI</td>\n",
       "    </tr>\n",
       "  </tbody>\n",
       "</table>\n",
       "</div>"
      ],
      "text/plain": [
       "                                                 0  \\\n",
       "user_id                                          1   \n",
       "movie_id                                      1193   \n",
       "rating                                           5   \n",
       "timestamp                      2000-12-31 22:12:40   \n",
       "gender                                           F   \n",
       "age                                       Under 18   \n",
       "occupation                            K-12 student   \n",
       "zip                                          48067   \n",
       "title       One Flew Over the Cuckoo's Nest (1975)   \n",
       "genres                                       Drama   \n",
       "state                                           MI   \n",
       "\n",
       "                                           1                    2  \n",
       "user_id                                    1                    1  \n",
       "movie_id                                 661                  914  \n",
       "rating                                     3                    3  \n",
       "timestamp                2000-12-31 22:35:09  2000-12-31 22:32:48  \n",
       "gender                                     F                    F  \n",
       "age                                 Under 18             Under 18  \n",
       "occupation                      K-12 student         K-12 student  \n",
       "zip                                    48067                48067  \n",
       "title       James and the Giant Peach (1996)  My Fair Lady (1964)  \n",
       "genres          Animation|Children's|Musical      Musical|Romance  \n",
       "state                                     MI                   MI  "
      ]
     },
     "execution_count": 49,
     "metadata": {},
     "output_type": "execute_result"
    }
   ],
   "source": [
    "df.head(3).T"
   ]
  },
  {
   "cell_type": "markdown",
   "metadata": {},
   "source": [
    "There are many combinations of genres."
   ]
  },
  {
   "cell_type": "code",
   "execution_count": 50,
   "metadata": {},
   "outputs": [
    {
     "data": {
      "text/plain": [
       "301"
      ]
     },
     "execution_count": 50,
     "metadata": {},
     "output_type": "execute_result"
    }
   ],
   "source": [
    "df['genres'].nunique()"
   ]
  },
  {
   "cell_type": "markdown",
   "metadata": {},
   "source": [
    " Display only first 15."
   ]
  },
  {
   "cell_type": "code",
   "execution_count": 51,
   "metadata": {},
   "outputs": [
    {
     "data": {
      "text/plain": [
       "array(['Drama', \"Animation|Children's|Musical\", 'Musical|Romance',\n",
       "       \"Animation|Children's|Comedy\", 'Action|Adventure|Comedy|Romance',\n",
       "       'Action|Adventure|Drama', 'Comedy|Drama',\n",
       "       \"Adventure|Children's|Drama|Musical\", 'Musical', 'Comedy',\n",
       "       \"Animation|Children's\", 'Comedy|Fantasy', 'Animation',\n",
       "       'Comedy|Sci-Fi', 'Drama|War'], dtype=object)"
      ]
     },
     "execution_count": 51,
     "metadata": {},
     "output_type": "execute_result"
    }
   ],
   "source": [
    "df['genres'].unique()[:15]"
   ]
  },
  {
   "cell_type": "markdown",
   "metadata": {},
   "source": [
    "Convert each letter in 'genres' to lower case."
   ]
  },
  {
   "cell_type": "code",
   "execution_count": 52,
   "metadata": {},
   "outputs": [],
   "source": [
    "df['genres'] = df['genres'].str.lower()"
   ]
  },
  {
   "cell_type": "code",
   "execution_count": 53,
   "metadata": {},
   "outputs": [
    {
     "data": {
      "text/plain": [
       "array(['drama', \"animation|children's|musical\", 'musical|romance',\n",
       "       \"animation|children's|comedy\", 'action|adventure|comedy|romance',\n",
       "       'action|adventure|drama', 'comedy|drama',\n",
       "       \"adventure|children's|drama|musical\", 'musical', 'comedy',\n",
       "       \"animation|children's\", 'comedy|fantasy', 'animation',\n",
       "       'comedy|sci-fi', 'drama|war'], dtype=object)"
      ]
     },
     "execution_count": 53,
     "metadata": {},
     "output_type": "execute_result"
    }
   ],
   "source": [
    "df['genres'].unique()[:15]"
   ]
  },
  {
   "cell_type": "markdown",
   "metadata": {},
   "source": [
    "### Basics of `groupby`\n",
    "\n",
    "* Use groupby mechanics when you need to split the data along some dimension, do something with each split and then combine the results. \n",
    "* Examples:\n",
    "    * aggregated statistics: group sums, mean, sizes, counts, etc.\n",
    "    * group-specific transformations: standardization within groups, fillin missing values within groups with a value derived from each group, discarding group according to some group criteria (e.g. movies with less than 10 ratings), etc.\n",
    "\n",
    "We will demonstrate how to compute average rating for each occupation."
   ]
  },
  {
   "cell_type": "code",
   "execution_count": 54,
   "metadata": {},
   "outputs": [
    {
     "data": {
      "text/html": [
       "<div>\n",
       "<style scoped>\n",
       "    .dataframe tbody tr th:only-of-type {\n",
       "        vertical-align: middle;\n",
       "    }\n",
       "\n",
       "    .dataframe tbody tr th {\n",
       "        vertical-align: top;\n",
       "    }\n",
       "\n",
       "    .dataframe thead th {\n",
       "        text-align: right;\n",
       "    }\n",
       "</style>\n",
       "<table border=\"1\" class=\"dataframe\">\n",
       "  <thead>\n",
       "    <tr style=\"text-align: right;\">\n",
       "      <th></th>\n",
       "      <th>519513</th>\n",
       "      <th>699286</th>\n",
       "      <th>47243</th>\n",
       "    </tr>\n",
       "  </thead>\n",
       "  <tbody>\n",
       "    <tr>\n",
       "      <th>user_id</th>\n",
       "      <td>3280</td>\n",
       "      <td>4303</td>\n",
       "      <td>329</td>\n",
       "    </tr>\n",
       "    <tr>\n",
       "      <th>movie_id</th>\n",
       "      <td>1208</td>\n",
       "      <td>534</td>\n",
       "      <td>1294</td>\n",
       "    </tr>\n",
       "    <tr>\n",
       "      <th>rating</th>\n",
       "      <td>5</td>\n",
       "      <td>4</td>\n",
       "      <td>3</td>\n",
       "    </tr>\n",
       "    <tr>\n",
       "      <th>timestamp</th>\n",
       "      <td>2000-09-05 15:50:18</td>\n",
       "      <td>2000-08-03 01:56:57</td>\n",
       "      <td>2000-12-26 15:43:33</td>\n",
       "    </tr>\n",
       "    <tr>\n",
       "      <th>gender</th>\n",
       "      <td>M</td>\n",
       "      <td>M</td>\n",
       "      <td>M</td>\n",
       "    </tr>\n",
       "    <tr>\n",
       "      <th>age</th>\n",
       "      <td>25-34</td>\n",
       "      <td>25-34</td>\n",
       "      <td>35-44</td>\n",
       "    </tr>\n",
       "    <tr>\n",
       "      <th>occupation</th>\n",
       "      <td>executive/managerial</td>\n",
       "      <td>artist</td>\n",
       "      <td>executive/managerial</td>\n",
       "    </tr>\n",
       "    <tr>\n",
       "      <th>zip</th>\n",
       "      <td>33486</td>\n",
       "      <td>91910</td>\n",
       "      <td>02115</td>\n",
       "    </tr>\n",
       "    <tr>\n",
       "      <th>title</th>\n",
       "      <td>Apocalypse Now (1979)</td>\n",
       "      <td>Shadowlands (1993)</td>\n",
       "      <td>M*A*S*H (1970)</td>\n",
       "    </tr>\n",
       "    <tr>\n",
       "      <th>genres</th>\n",
       "      <td>drama|war</td>\n",
       "      <td>drama|romance</td>\n",
       "      <td>comedy|war</td>\n",
       "    </tr>\n",
       "    <tr>\n",
       "      <th>state</th>\n",
       "      <td>FL</td>\n",
       "      <td>CA</td>\n",
       "      <td>MA</td>\n",
       "    </tr>\n",
       "  </tbody>\n",
       "</table>\n",
       "</div>"
      ],
      "text/plain": [
       "                           519513               699286                47243 \n",
       "user_id                      3280                 4303                   329\n",
       "movie_id                     1208                  534                  1294\n",
       "rating                          5                    4                     3\n",
       "timestamp     2000-09-05 15:50:18  2000-08-03 01:56:57   2000-12-26 15:43:33\n",
       "gender                          M                    M                     M\n",
       "age                         25-34                25-34                 35-44\n",
       "occupation   executive/managerial               artist  executive/managerial\n",
       "zip                         33486                91910                 02115\n",
       "title       Apocalypse Now (1979)   Shadowlands (1993)        M*A*S*H (1970)\n",
       "genres                  drama|war        drama|romance            comedy|war\n",
       "state                          FL                   CA                    MA"
      ]
     },
     "execution_count": 54,
     "metadata": {},
     "output_type": "execute_result"
    }
   ],
   "source": [
    "df.sample(n=3).T"
   ]
  },
  {
   "cell_type": "code",
   "execution_count": 55,
   "metadata": {},
   "outputs": [
    {
     "data": {
      "text/plain": [
       "np.float64(3.5835551153026475)"
      ]
     },
     "execution_count": 55,
     "metadata": {},
     "output_type": "execute_result"
    }
   ],
   "source": [
    "df['rating'].mean()"
   ]
  },
  {
   "cell_type": "code",
   "execution_count": 56,
   "metadata": {},
   "outputs": [],
   "source": [
    "pd.set_option('display.max_rows', 21)"
   ]
  },
  {
   "cell_type": "code",
   "execution_count": 57,
   "metadata": {},
   "outputs": [
    {
     "data": {
      "text/plain": [
       "occupation\n",
       "K-12 student            3.549702\n",
       "academic/educator       3.579064\n",
       "artist                  3.584917\n",
       "clerical/admin          3.653369\n",
       "college/grad student    3.535004\n",
       "customer service        3.549551\n",
       "doctor/health care      3.650431\n",
       "executive/managerial    3.595429\n",
       "farmer                  3.419720\n",
       "homemaker               3.656589\n",
       "lawyer                  3.642639\n",
       "other                   3.527849\n",
       "programmer              3.661420\n",
       "retired                 3.775022\n",
       "sales/marketing         3.615692\n",
       "scientist               3.685560\n",
       "self-employed           3.590268\n",
       "technician/engineer     3.612175\n",
       "tradesman/craftsman     3.532170\n",
       "unemployed              3.476621\n",
       "writer                  3.519832\n",
       "Name: rating, dtype: float64"
      ]
     },
     "execution_count": 57,
     "metadata": {},
     "output_type": "execute_result"
    }
   ],
   "source": [
    "df.groupby('occupation')['rating'].mean()"
   ]
  },
  {
   "cell_type": "markdown",
   "metadata": {},
   "source": [
    "## Saving data\n",
    "\n",
    "### Saving data to .csv"
   ]
  },
  {
   "cell_type": "markdown",
   "metadata": {},
   "source": [
    "Our data is ready now. Let's store it into a csv file. Note: the size of the file could be ~100MB."
   ]
  },
  {
   "cell_type": "code",
   "execution_count": 58,
   "metadata": {},
   "outputs": [],
   "source": [
    "# Save DataFrame into CSV file. \n",
    "df.to_csv('movie_lens_1M.csv', index=False)"
   ]
  },
  {
   "cell_type": "code",
   "execution_count": null,
   "metadata": {},
   "outputs": [],
   "source": []
  }
 ],
 "metadata": {
  "kernelspec": {
   "display_name": "Python 3",
   "language": "python",
   "name": "python3"
  },
  "language_info": {
   "codemirror_mode": {
    "name": "ipython",
    "version": 3
   },
   "file_extension": ".py",
   "mimetype": "text/x-python",
   "name": "python",
   "nbconvert_exporter": "python",
   "pygments_lexer": "ipython3",
   "version": "3.12.5"
  }
 },
 "nbformat": 4,
 "nbformat_minor": 4
}
